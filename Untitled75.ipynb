{
  "nbformat": 4,
  "nbformat_minor": 0,
  "metadata": {
    "colab": {
      "provenance": [],
      "authorship_tag": "ABX9TyPm/2OGl/2sKTuY+HRbxzWF",
      "include_colab_link": true
    },
    "kernelspec": {
      "name": "python3",
      "display_name": "Python 3"
    },
    "language_info": {
      "name": "python"
    }
  },
  "cells": [
    {
      "cell_type": "markdown",
      "metadata": {
        "id": "view-in-github",
        "colab_type": "text"
      },
      "source": [
        "<a href=\"https://colab.research.google.com/github/Areeba-GitHub/Areeba-GitHub/blob/main/Untitled75.ipynb\" target=\"_parent\"><img src=\"https://colab.research.google.com/assets/colab-badge.svg\" alt=\"Open In Colab\"/></a>"
      ]
    },
    {
      "cell_type": "markdown",
      "source": [
        "# Notes\n",
        "\n",
        "**AI:**\n",
        "\n",
        "There are two types of AI:\n",
        "\n",
        "1.\tGeneral AI: it is more predefined. E.g: a printer can enhance with the writing fonts, colourful pictures with caption and designed borders at the same time.\n",
        "\n",
        "2. Narrow AI: it is less predefined. E.g: a printer that can only enhance writing fonts.\n",
        "\n",
        "AI consists of:\n",
        "\n",
        "•\tSense of Sight: Computer Vision.\n",
        "\n",
        "•\tSense of Texting: Natural Language Processing.\n",
        "\n",
        "•\tSense of Speaking: Speech AI.\n",
        "\n",
        "The Revolutions:\n",
        "\n",
        "1.\tHeat energy(Industrial Revolution)\n",
        "\n",
        "2. Electricity\n",
        "\n",
        "3.\tComputer\n",
        "\n",
        "4.\tAI (Artificial intelligence)\n",
        "\n",
        "•\tThe AI that is able to generate text, images, audios, videos are known as Generative AI based products. In simple words, it can call as Data product or AI products. E.g: ChatGPT\n",
        "\n",
        "Data Driven AI Trends:\n",
        "\n",
        "1. Machine learning: Machine learn the patterns of data through binary numbers        arranged in Matrices. The machine learn equations and classify the labels.\n",
        "\n",
        "2.\tDeep learning: it learns through Artificial Neural Networks. Artificial neural combines to form an equations. Every neural contains its own mathematical calculations which are getting performed.\n",
        "\n",
        "3.\tReinforcement learning: Agent learn through conditions of Reward and Punishment. For instance: Humans safe themselves from those things that are very dangerous as punishment but they like the things that are useful and important considered as rewards.\n",
        "\n",
        "4.\tData Science: Calculations of Machine Learning, Deep Learning, and Reinforcement Learning. It understands data and identifies which model is more accurate. It consists of:\n",
        "\n",
        "   * Computer Science: If we apply statistics to excel sheet, this is computer science.\n",
        "\n",
        "   * Math Statistics: The languages are understood by Math Statistics.\n",
        "\n",
        "   * Domain Knowledge: It is the professional knowledge.\n",
        "\n",
        "**Classification:**\n",
        "\n",
        "In different cases, there will be different classification shapes. For instance: there are dots and stars drawn on a whiteboard, and different shapes are drawn by everyone that is surrounded by all the dots and stars. In this case, there can be two types of Classification:\n",
        "\n",
        "1.\tProject Classification: If shape separate dots and stars completely.\n",
        "\n",
        "2.\tMiss Classification: If shape does not separate all of them.\n",
        "\n",
        "**Steps of Data Science:**\n",
        "\n",
        "Data —> Knowledge —> Decision —> Action\n",
        "\n",
        "**How Machine Learning works?**\n",
        "                                                         \n",
        "Training Data —> Algorithm —> Model\n",
        "\n",
        "New Data —> Model —> Prediction\n",
        "\n",
        "*Explanation:*\n",
        "\n",
        "•\tTraining Data : some samples to train models.\n",
        "\n",
        "•\tAlgorithms : Set of rules and instruction.\n",
        "\n",
        "•\tModel : Trained through Algorithms by the Training Data.\n",
        "\n",
        "•\tNew Data : Different Data from Training Samples to test the Model.\n",
        "\n",
        "•\tPrediction : Model gives predictions after classification of New Data.\n",
        "\n",
        "AI has three parts :-\n",
        "\n",
        " Dataset —> Learning Algorithms —> Prediction!\n",
        "\n",
        "*Explanation:*\n",
        "\n",
        "•\tDatasets : A dataset is a collection of curated data.\n",
        "\n",
        "* Images\n",
        "\n",
        "* Measurements\n",
        "\n",
        "* Text\n",
        "\n",
        "* Video Recordings\n",
        "\n",
        "•\tAlgorithm: we need to follow steps in Algorithms as we used ingredients and steps to make Biryani. Without steps, Biryani is not cooked.\n",
        "\n",
        "•\tPrediction: Algorithms predict movies in Netflix using chips that store history of our clicks.\n",
        "\n",
        "\n",
        "\n",
        "\n",
        "                                  \n",
        "\n",
        "\n",
        "  \n",
        "\n"
      ],
      "metadata": {
        "id": "r3QKs5d5tOdd"
      }
    },
    {
      "cell_type": "markdown",
      "source": [
        "# Python\n",
        "\n",
        "* Python is a beginner friendly and general purpose programming language which offers many uses\n",
        "such as Machine learning and Algorithms, Data Science e.t.c.\n",
        "\n",
        "* It is also case sensitive which means a is not equal to A, so be carefull!!!\n",
        "\n",
        "Data types:\n",
        "\n",
        "* String: any data in quotation.\n",
        "* Integers: all whole no.\n",
        "* Float: all decimal no.\n",
        "* Boolean: only True and False\n",
        "\n",
        "\n",
        "\n",
        "\n",
        "\n",
        "\n",
        "\n",
        "\n",
        "\n",
        "\n",
        "\n",
        "\n",
        "\n"
      ],
      "metadata": {
        "id": "YBPNp7Gs8WnK"
      }
    },
    {
      "cell_type": "code",
      "source": [
        "# In Python, functions are reusable and useful block that structure codes.\n",
        "print('hello') #print function helps to print data in the arguments.\n",
        "print(type('hello'))#type function helps to know the datatype of the data.\n",
        "print(len('hello'))#len function helps to know the length of data in arguments.\n",
        "\n",
        "\n"
      ],
      "metadata": {
        "id": "JpUGMbpEunvs",
        "colab": {
          "base_uri": "https://localhost:8080/"
        },
        "outputId": "4657045e-21a3-4378-d6a6-373e7abaa235"
      },
      "execution_count": null,
      "outputs": [
        {
          "output_type": "stream",
          "name": "stdout",
          "text": [
            "hello\n",
            "<class 'str'>\n",
            "5\n"
          ]
        }
      ]
    },
    {
      "cell_type": "code",
      "source": [
        "#variable = value\n",
        "name = \"Areeba\"\n",
        "print(name)"
      ],
      "metadata": {
        "colab": {
          "base_uri": "https://localhost:8080/"
        },
        "id": "9OJYx1k_ATNC",
        "outputId": "75d4c8ec-fd52-488f-da6e-911463b281cf"
      },
      "execution_count": null,
      "outputs": [
        {
          "output_type": "stream",
          "name": "stdout",
          "text": [
            "Areeba\n"
          ]
        }
      ]
    },
    {
      "cell_type": "code",
      "source": [
        "name = \"Areeba Fatima\"\n",
        "age = 11\n",
        "Class = 6\n",
        "print('My name is', name, \".\", 'I study in', Class, 'and I am ', age, 'years old')\n",
        "\n",
        "\n",
        "\n",
        "\n",
        "\n"
      ],
      "metadata": {
        "colab": {
          "base_uri": "https://localhost:8080/"
        },
        "id": "BTLC7sydCRvE",
        "outputId": "38cd30a4-1326-4c55-f70e-009c3aa6cc2f"
      },
      "execution_count": null,
      "outputs": [
        {
          "output_type": "stream",
          "name": "stdout",
          "text": [
            "My name is Areeba Fatima . I study in 6 and I am  11 years old\n"
          ]
        }
      ]
    },
    {
      "cell_type": "markdown",
      "source": [
        "# Lists\n",
        "\n",
        "List is a versatile data structure to store multiple data at a time in [  ]\n",
        "\n",
        "Syntax:-\n",
        "   Variable = [data, data, data]\n",
        "\n",
        "There are two types of list:\n",
        "\n",
        "Homogeneous list: with only one data type.\n",
        "Hetregenous list: with more than one data type\n",
        "\n",
        "\n",
        "\n",
        "\n",
        "\n",
        "\n"
      ],
      "metadata": {
        "id": "Z7QqmDIKEsU0"
      }
    },
    {
      "cell_type": "code",
      "source": [
        "#creating a list of one data type:\n",
        "list1 = [1,3,6,7,9]\n",
        "list2 = ['Areeba', 'Mariam', 'Zahra']\n",
        "list3 = [4.7, 8.8, 7.0, 6.9, 8.2, 2.0]\n",
        "print(list1)\n",
        "print(list2)\n",
        "print(list3)\n",
        "print(type(list1))\n",
        "print(type(list2))\n",
        "print(type(list3))\n",
        "print(len(list1))\n",
        "print(len(list2))\n",
        "print(len(list3))\n",
        "\n",
        "#creating a mixed-datatype list:\n",
        "list4 = ['Samrah', '7', '8.0']\n",
        "print(list4)\n",
        "print(type(list4))\n",
        "print(len(list4))"
      ],
      "metadata": {
        "colab": {
          "base_uri": "https://localhost:8080/"
        },
        "id": "SC6EBLR4D0ah",
        "outputId": "69ce9756-3fc3-4056-a65e-f8e04ccf5da2"
      },
      "execution_count": null,
      "outputs": [
        {
          "output_type": "stream",
          "name": "stdout",
          "text": [
            "[1, 3, 6, 7, 9]\n",
            "['Areeba', 'Mariam', 'Zahra']\n",
            "[4.7, 8.8, 7.0, 6.9, 8.2, 2.0]\n",
            "<class 'list'>\n",
            "<class 'list'>\n",
            "<class 'list'>\n",
            "5\n",
            "3\n",
            "6\n",
            "['Samrah', '7', '8.0']\n",
            "<class 'list'>\n",
            "3\n"
          ]
        }
      ]
    },
    {
      "cell_type": "markdown",
      "source": [
        "#Acessing Element in a List\n",
        "\n",
        "* Elements in a List can be assesed through indexing. Python uses zero-based indexing which means the first element will be at 0.\n",
        "\n",
        "* Elements can also be assesed by negative indexing in which the last element in the List will be -1.\n",
        "\n",
        "\n",
        "Syntax: fruits = ['apple', 'orange', 'mango]\n",
        "\n",
        "print(fruits[2]) *#indexing(positive)*\n",
        "\n",
        "print(fruits[-2]) *#indexing(negtive)*\n",
        "\n",
        "Output:  mango (The elements will be same)\n",
        "\n",
        "\n",
        "\n",
        "\n",
        "\n",
        "\n",
        "\n",
        "\n",
        "\n",
        "\n",
        "\n",
        "\n"
      ],
      "metadata": {
        "id": "qsZDmxbSf0Zg"
      }
    },
    {
      "cell_type": "code",
      "source": [
        "Marks = [2.9, 8.0, 7.9, 8.7]\n",
        "print(Marks[1])\n",
        "print(Marks[-3])"
      ],
      "metadata": {
        "id": "rDjGFgSlHBnE",
        "colab": {
          "base_uri": "https://localhost:8080/"
        },
        "outputId": "e9c41444-8dff-4455-b64e-21b87993320a"
      },
      "execution_count": null,
      "outputs": [
        {
          "output_type": "stream",
          "name": "stdout",
          "text": [
            "8.0\n",
            "8.0\n"
          ]
        }
      ]
    },
    {
      "cell_type": "markdown",
      "source": [
        "# Dictionary\n",
        "\n",
        "Dictionaries are very helpful in storing a well organized data against key values in { } brackets. It is more organised than list because the keys are useful for demostrating values more nicely.\n",
        "\n",
        "Syntax: fruits = {'citrus' : 'orange',\n",
        "'sweet' : mango}\n",
        "\n",
        "if we want to store multiple data against one key, then we use list in dictionary.\n",
        "\n",
        "Syntax: fruits = {'citrus' :['orange',\n",
        "'lime'], 'sweet' : ['mango', Watermelon,\n",
        "'melon']}\n",
        "\n",
        "We can also acess elements in a dictionary.\n",
        "\n",
        "print(fruits['citrus'][0])\n",
        "\n",
        "\n",
        "\n",
        "\n",
        "\n",
        "\n",
        "\n",
        "\n"
      ],
      "metadata": {
        "id": "TjYYhO9urrOj"
      }
    },
    {
      "cell_type": "code",
      "source": [
        "school = {'students':['Hira', 'Zunairah'], 'Marks' : [8,7.1]}\n",
        "print(school)\n",
        "print(school['students'][0])\n",
        "print(school['Marks'][0])#output: Hira,8. it means Hira has got 8 marks.\n",
        "\n"
      ],
      "metadata": {
        "colab": {
          "base_uri": "https://localhost:8080/"
        },
        "id": "s5EYYERFrppG",
        "outputId": "2568e9be-c819-45c1-c946-a9aab0abadc8"
      },
      "execution_count": null,
      "outputs": [
        {
          "output_type": "stream",
          "name": "stdout",
          "text": [
            "{'students': ['Hira', 'Zunairah'], 'Marks': [8, 7.1]}\n",
            "Hira\n",
            "8\n"
          ]
        }
      ]
    },
    {
      "cell_type": "markdown",
      "source": [
        "#For Loop\n",
        "\n",
        "* It is a versatile and useful constructs for iteratation. It is most frequently used to generate tables by for loop.\n",
        "The range function helps to define range to the compiler\n",
        "\n",
        "Syntax :\n",
        "\n",
        "for i in range(4):\n",
        "\n",
        "print(i)\n",
        "\n",
        "E.g: A pendrom --> variable(for loop) --> performs iteration --> in iterable things\n",
        "\n",
        "A --> B\n",
        "\n",
        "A <-- B\n",
        "\n",
        "\n",
        "\n",
        "\n",
        "\n",
        "\n",
        "\n"
      ],
      "metadata": {
        "id": "d9LX-VPZ0FoI"
      }
    },
    {
      "cell_type": "code",
      "source": [
        "for i in range(1,6):\n",
        "    print(i)"
      ],
      "metadata": {
        "colab": {
          "base_uri": "https://localhost:8080/"
        },
        "id": "xf2Dx7w1zJLC",
        "outputId": "147f1a14-00e9-4b57-d142-47e90541e3e8"
      },
      "execution_count": null,
      "outputs": [
        {
          "output_type": "stream",
          "name": "stdout",
          "text": [
            "1\n",
            "2\n",
            "3\n",
            "4\n",
            "5\n"
          ]
        }
      ]
    },
    {
      "cell_type": "code",
      "source": [
        "Name = 'Areeba'\n",
        "for i in (Name):\n",
        "  print(i)"
      ],
      "metadata": {
        "colab": {
          "base_uri": "https://localhost:8080/"
        },
        "id": "dJ4n00k33Xk4",
        "outputId": "41287817-cd01-471f-9369-a9ba35f2898a"
      },
      "execution_count": null,
      "outputs": [
        {
          "output_type": "stream",
          "name": "stdout",
          "text": [
            "A\n",
            "r\n",
            "e\n",
            "e\n",
            "b\n",
            "a\n"
          ]
        }
      ]
    },
    {
      "cell_type": "code",
      "source": [
        "#nested for loops\n",
        "for x in range(1, 11):\n",
        "    for y in range(6):\n",
        "        print(x, 'x', y, '=', x*y)\n"
      ],
      "metadata": {
        "colab": {
          "base_uri": "https://localhost:8080/"
        },
        "id": "sI3Qp0RX2vZe",
        "outputId": "7623eb0a-2c75-4adc-885f-0aeb5ca807fc"
      },
      "execution_count": null,
      "outputs": [
        {
          "output_type": "stream",
          "name": "stdout",
          "text": [
            "1 x 0 = 0\n",
            "1 x 1 = 1\n",
            "1 x 2 = 2\n",
            "1 x 3 = 3\n",
            "1 x 4 = 4\n",
            "1 x 5 = 5\n",
            "2 x 0 = 0\n",
            "2 x 1 = 2\n",
            "2 x 2 = 4\n",
            "2 x 3 = 6\n",
            "2 x 4 = 8\n",
            "2 x 5 = 10\n",
            "3 x 0 = 0\n",
            "3 x 1 = 3\n",
            "3 x 2 = 6\n",
            "3 x 3 = 9\n",
            "3 x 4 = 12\n",
            "3 x 5 = 15\n",
            "4 x 0 = 0\n",
            "4 x 1 = 4\n",
            "4 x 2 = 8\n",
            "4 x 3 = 12\n",
            "4 x 4 = 16\n",
            "4 x 5 = 20\n",
            "5 x 0 = 0\n",
            "5 x 1 = 5\n",
            "5 x 2 = 10\n",
            "5 x 3 = 15\n",
            "5 x 4 = 20\n",
            "5 x 5 = 25\n",
            "6 x 0 = 0\n",
            "6 x 1 = 6\n",
            "6 x 2 = 12\n",
            "6 x 3 = 18\n",
            "6 x 4 = 24\n",
            "6 x 5 = 30\n",
            "7 x 0 = 0\n",
            "7 x 1 = 7\n",
            "7 x 2 = 14\n",
            "7 x 3 = 21\n",
            "7 x 4 = 28\n",
            "7 x 5 = 35\n",
            "8 x 0 = 0\n",
            "8 x 1 = 8\n",
            "8 x 2 = 16\n",
            "8 x 3 = 24\n",
            "8 x 4 = 32\n",
            "8 x 5 = 40\n",
            "9 x 0 = 0\n",
            "9 x 1 = 9\n",
            "9 x 2 = 18\n",
            "9 x 3 = 27\n",
            "9 x 4 = 36\n",
            "9 x 5 = 45\n",
            "10 x 0 = 0\n",
            "10 x 1 = 10\n",
            "10 x 2 = 20\n",
            "10 x 3 = 30\n",
            "10 x 4 = 40\n",
            "10 x 5 = 50\n"
          ]
        }
      ]
    },
    {
      "cell_type": "code",
      "source": [
        "#if we want to print tables of 3, 5, 9, 11 from 1 till 10:\n",
        "for i in [3, 5, 9, 11]:\n",
        "  for j in range(1, 11):\n",
        "    print(i, 'x', j, '=', i*j)"
      ],
      "metadata": {
        "colab": {
          "base_uri": "https://localhost:8080/"
        },
        "id": "zQXnsxfI3PPZ",
        "outputId": "40104b28-9fd9-43fa-d5a4-5f4ed505585a"
      },
      "execution_count": null,
      "outputs": [
        {
          "output_type": "stream",
          "name": "stdout",
          "text": [
            "3 x 1 = 3\n",
            "3 x 2 = 6\n",
            "3 x 3 = 9\n",
            "3 x 4 = 12\n",
            "3 x 5 = 15\n",
            "3 x 6 = 18\n",
            "3 x 7 = 21\n",
            "3 x 8 = 24\n",
            "3 x 9 = 27\n",
            "3 x 10 = 30\n",
            "5 x 1 = 5\n",
            "5 x 2 = 10\n",
            "5 x 3 = 15\n",
            "5 x 4 = 20\n",
            "5 x 5 = 25\n",
            "5 x 6 = 30\n",
            "5 x 7 = 35\n",
            "5 x 8 = 40\n",
            "5 x 9 = 45\n",
            "5 x 10 = 50\n",
            "9 x 1 = 9\n",
            "9 x 2 = 18\n",
            "9 x 3 = 27\n",
            "9 x 4 = 36\n",
            "9 x 5 = 45\n",
            "9 x 6 = 54\n",
            "9 x 7 = 63\n",
            "9 x 8 = 72\n",
            "9 x 9 = 81\n",
            "9 x 10 = 90\n",
            "11 x 1 = 11\n",
            "11 x 2 = 22\n",
            "11 x 3 = 33\n",
            "11 x 4 = 44\n",
            "11 x 5 = 55\n",
            "11 x 6 = 66\n",
            "11 x 7 = 77\n",
            "11 x 8 = 88\n",
            "11 x 9 = 99\n",
            "11 x 10 = 110\n"
          ]
        }
      ]
    },
    {
      "cell_type": "markdown",
      "source": [
        "# Conditions\n",
        "\n",
        "* if statements are used to give condition. When the condition is True than it prints the if statements.\n",
        "\n",
        "* elif statements are used to give condition when if conditional statements are false.\n",
        "\n",
        "* else statements are used to print those statements when if statements and else statements both are false.\n",
        "\n",
        "**operators**\n",
        "\n",
        "equality --> ==\n",
        "\n",
        "not equal to --> !=\n",
        "\n",
        "greater than or equals to --> =>\n",
        "\n",
        "lesser than or equals to --> =<\n",
        "\n",
        "greater than --> >\n",
        "\n",
        "lesser than --> <\n",
        "\n",
        "\n",
        "\n",
        "\n",
        "\n",
        "\n",
        "\n",
        "\n",
        "\n",
        "\n",
        "\n",
        "\n",
        "\n",
        "\n"
      ],
      "metadata": {
        "id": "JrkZBqVs_zpQ"
      }
    },
    {
      "cell_type": "code",
      "source": [
        "name = 'Areeba'\n",
        "if name == 'areeba':\n",
        "  print('True')\n",
        "\n",
        "elif name == 'Ariba':\n",
        "  print('False')\n",
        "\n",
        "else:\n",
        "  print('error occured!')\n",
        "\n"
      ],
      "metadata": {
        "id": "NTQ_QgqJ_s-G",
        "colab": {
          "base_uri": "https://localhost:8080/"
        },
        "outputId": "8e1313ce-5b52-4319-d29a-a7eb42d48156"
      },
      "execution_count": null,
      "outputs": [
        {
          "output_type": "stream",
          "name": "stdout",
          "text": [
            "error occured!\n"
          ]
        }
      ]
    },
    {
      "cell_type": "markdown",
      "source": [
        "# Comprehensive list\n",
        "\n"
      ],
      "metadata": {
        "id": "RdXtv38gIPvb"
      }
    },
    {
      "cell_type": "code",
      "source": [
        "list5 = [i for i in range(1, 21)]\n",
        "print(list5)"
      ],
      "metadata": {
        "id": "Evi_m5NfIAk8",
        "colab": {
          "base_uri": "https://localhost:8080/"
        },
        "outputId": "3a84624b-28d4-4c3f-e550-c10232d2ce47"
      },
      "execution_count": null,
      "outputs": [
        {
          "output_type": "stream",
          "name": "stdout",
          "text": [
            "[1, 2, 3, 4, 5, 6, 7, 8, 9, 10, 11, 12, 13, 14, 15, 16, 17, 18, 19, 20]\n"
          ]
        }
      ]
    },
    {
      "cell_type": "code",
      "source": [
        "#square root, using round function to round of\n",
        "list6 = [round(i**(1/2)) for i in [4,9,16,25,36,49,64,81,100]]\n",
        "print(list6)"
      ],
      "metadata": {
        "colab": {
          "base_uri": "https://localhost:8080/"
        },
        "id": "5oRO4jGWKHys",
        "outputId": "fa3b9ad6-00e2-483d-cca3-6cfeba3871ae"
      },
      "execution_count": null,
      "outputs": [
        {
          "output_type": "stream",
          "name": "stdout",
          "text": [
            "[2, 3, 4, 5, 6, 7, 8, 9, 10]\n"
          ]
        }
      ]
    },
    {
      "cell_type": "code",
      "source": [
        "list7 = [round(i**(1/2)) for i in [8,27,64,215,216,343,512,729,1000]]\n",
        "print(list7)#cube root\n",
        "print(type(list7))\n",
        "print(len(list7))\n",
        "\n",
        "\n",
        "\n",
        "\n"
      ],
      "metadata": {
        "colab": {
          "base_uri": "https://localhost:8080/"
        },
        "id": "5xIkxUUcLgkI",
        "outputId": "dea3b1c6-3192-4d86-b9ee-89e0c8e2a0f6"
      },
      "execution_count": null,
      "outputs": [
        {
          "output_type": "stream",
          "name": "stdout",
          "text": [
            "[3, 5, 8, 15, 15, 19, 23, 27, 32]\n",
            "<class 'list'>\n",
            "9\n"
          ]
        }
      ]
    },
    {
      "cell_type": "code",
      "source": [
        "#y=mx+c, m = 3, c = 9\n",
        "list8 = [(3)*x+9 for x in range(1,9)]\n",
        "print(list8)\n",
        "#output: the value of y\n",
        "\n",
        "\n"
      ],
      "metadata": {
        "colab": {
          "base_uri": "https://localhost:8080/"
        },
        "id": "IHbSfjjwMHgH",
        "outputId": "37b358b1-fa4e-4baf-ad7c-874a68f11f70"
      },
      "execution_count": null,
      "outputs": [
        {
          "output_type": "stream",
          "name": "stdout",
          "text": [
            "[12, 15, 18, 21, 24, 27, 30, 33]\n"
          ]
        }
      ]
    },
    {
      "cell_type": "markdown",
      "source": [
        "# Define your own function\n",
        "\n",
        "There are two types of functions in python,\n",
        "Custom functions and build-in functions\n",
        "\n",
        "* Custom functions : define by the user by the word *def*.\n",
        "\n",
        "* Build-in functions : already define such as print()\n",
        "\n",
        "\n"
      ],
      "metadata": {
        "id": "KZUIKUe4YQ3J"
      }
    },
    {
      "cell_type": "code",
      "source": [
        "#define a function\n",
        "def even_odd(x1):\n",
        "  if x1 % 2 == 0:\n",
        "    print('your value is even')\n",
        "  else:\n",
        "    print('your value is odd')\n",
        "\n",
        "#calling a function\n",
        "print(even_odd(2))\n",
        "even_odd(7)\n"
      ],
      "metadata": {
        "id": "Sr2UJfdAYObj",
        "colab": {
          "base_uri": "https://localhost:8080/"
        },
        "outputId": "ee27347a-99ba-461d-9ec8-5217ee84703c"
      },
      "execution_count": null,
      "outputs": [
        {
          "output_type": "stream",
          "name": "stdout",
          "text": [
            "your value is even\n",
            "None\n",
            "your value is odd\n"
          ]
        }
      ]
    },
    {
      "cell_type": "markdown",
      "source": [
        "# Numpy Package\n",
        "\n",
        "*\n",
        "Numpy short for numerical python introduces to work with numerals and perform operations.\n",
        "\n",
        "* Like internet packages, in which we subscribe by our usage. In different python packages, we subscribe according to our requirments."
      ],
      "metadata": {
        "id": "tYqS7QZgTEEn"
      }
    },
    {
      "cell_type": "code",
      "source": [
        "#import package as alias\n",
        "import numpy as np"
      ],
      "metadata": {
        "id": "yFtvMRGrh6Cq"
      },
      "execution_count": null,
      "outputs": []
    },
    {
      "cell_type": "code",
      "source": [
        "arr1 = np.array([1,2,3,4,5,6,7,8,9])\n",
        "print(arr1)\n",
        "print(type(arr1))"
      ],
      "metadata": {
        "colab": {
          "base_uri": "https://localhost:8080/"
        },
        "id": "SkE3887VkXRP",
        "outputId": "0d708fec-df3b-4a40-e1af-b905bf23e242"
      },
      "execution_count": null,
      "outputs": [
        {
          "output_type": "stream",
          "name": "stdout",
          "text": [
            "[1 2 3 4 5 6 7 8 9]\n",
            "<class 'numpy.ndarray'>\n"
          ]
        }
      ]
    },
    {
      "cell_type": "code",
      "source": [
        "#list of list\n",
        "l1 = [[1,2,3], [4,5,6], [7,8,9]]\n",
        "print(l1)\n",
        "print(type(l1))\n",
        "print(len(l1))\n",
        "#acessing elements\n",
        "print(l1[0])\n",
        "print(l1[1])\n",
        "print(l1[2])"
      ],
      "metadata": {
        "colab": {
          "base_uri": "https://localhost:8080/"
        },
        "id": "VwU_JCKkCNd8",
        "outputId": "4e563eb3-6fb0-4e8f-fe3b-2c3d9ad704f5"
      },
      "execution_count": null,
      "outputs": [
        {
          "output_type": "stream",
          "name": "stdout",
          "text": [
            "[[1, 2, 3], [4, 5, 6], [7, 8, 9]]\n",
            "<class 'list'>\n",
            "3\n",
            "[1, 2, 3]\n",
            "[4, 5, 6]\n",
            "[7, 8, 9]\n"
          ]
        }
      ]
    },
    {
      "cell_type": "code",
      "source": [
        "print(l1[0][2])\n",
        "print(l1[1][0]) #slicing elements in the list.\n",
        "print(l1[2][1])"
      ],
      "metadata": {
        "colab": {
          "base_uri": "https://localhost:8080/"
        },
        "id": "zQSVxZsBGYaB",
        "outputId": "ca321825-fc2d-4cd9-bf16-9b5ef2f8f3e4"
      },
      "execution_count": 8,
      "outputs": [
        {
          "output_type": "stream",
          "name": "stdout",
          "text": [
            "3\n",
            "4\n",
            "8\n"
          ]
        }
      ]
    },
    {
      "cell_type": "code",
      "source": [
        "arr2 = np.array([[1,2,3], [4,5,6], [7,8,9]])\n",
        "print(arr2)#the same way printed more easily than acessing list."
      ],
      "metadata": {
        "colab": {
          "base_uri": "https://localhost:8080/"
        },
        "id": "1ecIWfRUEprf",
        "outputId": "eb2bb767-bd93-4da9-82d3-2921d654c8ad"
      },
      "execution_count": null,
      "outputs": [
        {
          "output_type": "stream",
          "name": "stdout",
          "text": [
            "[[1 2 3]\n",
            " [4 5 6]\n",
            " [7 8 9]]\n"
          ]
        }
      ]
    },
    {
      "cell_type": "code",
      "source": [
        "list9 = [range(i,i+3) for i in range(3,5,7)]\n",
        "print(list9)"
      ],
      "metadata": {
        "colab": {
          "base_uri": "https://localhost:8080/"
        },
        "id": "vGLWoH9kHGb2",
        "outputId": "ecae368f-929c-44ff-f5e9-c1f8bde942e0"
      },
      "execution_count": 13,
      "outputs": [
        {
          "output_type": "stream",
          "name": "stdout",
          "text": [
            "[range(3, 6)]\n"
          ]
        }
      ]
    },
    {
      "cell_type": "code",
      "source": [
        "arr3 = np.array(list9)\n",
        "print(arr3)"
      ],
      "metadata": {
        "colab": {
          "base_uri": "https://localhost:8080/"
        },
        "id": "ikXh5AotJ1qY",
        "outputId": "e65857b9-8bc1-434d-c064-3ac04cdc6c45"
      },
      "execution_count": 14,
      "outputs": [
        {
          "output_type": "stream",
          "name": "stdout",
          "text": [
            "[[3 4 5]]\n"
          ]
        }
      ]
    },
    {
      "cell_type": "code",
      "source": [
        "zeros = np.zeros(10)\n",
        "print(zeros)\n",
        "#zeros will be printed 10 times in float datatype"
      ],
      "metadata": {
        "colab": {
          "base_uri": "https://localhost:8080/"
        },
        "id": "YH_BZKsmKR9l",
        "outputId": "dc8c0e51-fc35-4f4a-bf59-19895197dad2"
      },
      "execution_count": 15,
      "outputs": [
        {
          "output_type": "stream",
          "name": "stdout",
          "text": [
            "[0. 0. 0. 0. 0. 0. 0. 0. 0. 0.]\n"
          ]
        }
      ]
    },
    {
      "cell_type": "code",
      "source": [
        "zeros = np.zeros(10, dtype = int)\n",
        "print(zeros) #zeros will be printed as integer"
      ],
      "metadata": {
        "colab": {
          "base_uri": "https://localhost:8080/"
        },
        "id": "ykznZ0KAKlda",
        "outputId": "403dfced-b9b7-4381-87c3-4f7d68fb9e6a"
      },
      "execution_count": 18,
      "outputs": [
        {
          "output_type": "stream",
          "name": "stdout",
          "text": [
            "[0 0 0 0 0 0 0 0 0 0]\n"
          ]
        }
      ]
    },
    {
      "cell_type": "code",
      "source": [
        "ones = np.ones(5)\n",
        "print(ones)#zeros will be print as float"
      ],
      "metadata": {
        "colab": {
          "base_uri": "https://localhost:8080/"
        },
        "id": "SDtY0llPKhmy",
        "outputId": "2487fb68-98b3-4747-8b41-792cc9ccfcc4"
      },
      "execution_count": 19,
      "outputs": [
        {
          "output_type": "stream",
          "name": "stdout",
          "text": [
            "[1. 1. 1. 1. 1.]\n"
          ]
        }
      ]
    },
    {
      "cell_type": "code",
      "source": [
        "ones = np.ones(5, dtype = int)\n",
        "print(ones)\n",
        "#ones will be printed as integer"
      ],
      "metadata": {
        "colab": {
          "base_uri": "https://localhost:8080/"
        },
        "id": "KTqWXUBPLmFh",
        "outputId": "241a62fb-61d1-438b-addc-844da6b3beb0"
      },
      "execution_count": 20,
      "outputs": [
        {
          "output_type": "stream",
          "name": "stdout",
          "text": [
            "[1 1 1 1 1]\n"
          ]
        }
      ]
    },
    {
      "cell_type": "code",
      "source": [
        "value = np.full(3,22/7)#to print 3 times the answer of 22/7.\n",
        "print(value)\n"
      ],
      "metadata": {
        "colab": {
          "base_uri": "https://localhost:8080/"
        },
        "id": "2-1XEfERL7GF",
        "outputId": "c18dc38b-534f-4c3c-ecc1-ca02d4b03077"
      },
      "execution_count": 23,
      "outputs": [
        {
          "output_type": "stream",
          "name": "stdout",
          "text": [
            "[3.14285714 3.14285714 3.14285714]\n"
          ]
        }
      ]
    },
    {
      "cell_type": "code",
      "source": [
        "value2 = np.full((3,3), 22/7)\n",
        "print(value2)#to print the ans of 22/7 in 3 rows and 3 columns."
      ],
      "metadata": {
        "colab": {
          "base_uri": "https://localhost:8080/"
        },
        "id": "vc7EaN-oMoVY",
        "outputId": "e3bb1087-2cc1-4525-e265-6e7a3ec1eccb"
      },
      "execution_count": 24,
      "outputs": [
        {
          "output_type": "stream",
          "name": "stdout",
          "text": [
            "[[3.14285714 3.14285714 3.14285714]\n",
            " [3.14285714 3.14285714 3.14285714]\n",
            " [3.14285714 3.14285714 3.14285714]]\n"
          ]
        }
      ]
    },
    {
      "cell_type": "markdown",
      "source": [
        "# Pandas Package\n",
        "\n",
        "Pandas package is useful for data analytics\n",
        "and used to perform various numericals in this package."
      ],
      "metadata": {
        "id": "2iMCqGTgSQpA"
      }
    },
    {
      "cell_type": "code",
      "source": [
        "import pandas as pd"
      ],
      "metadata": {
        "id": "n-q-zqw5SHTt"
      },
      "execution_count": 25,
      "outputs": []
    },
    {
      "cell_type": "code",
      "source": [
        "series = pd.Series([1,2,3,4,5,6,7,8,9])\n",
        "print(series)\n",
        "print(type(series))\n",
        "#we will see some numbers against values in the output."
      ],
      "metadata": {
        "colab": {
          "base_uri": "https://localhost:8080/"
        },
        "id": "rdf9lEdOUU33",
        "outputId": "0562b54c-e6f0-459d-b1cf-06254d26f72d"
      },
      "execution_count": 26,
      "outputs": [
        {
          "output_type": "stream",
          "name": "stdout",
          "text": [
            "0    1\n",
            "1    2\n",
            "2    3\n",
            "3    4\n",
            "4    5\n",
            "5    6\n",
            "6    7\n",
            "7    8\n",
            "8    9\n",
            "dtype: int64\n",
            "<class 'pandas.core.series.Series'>\n"
          ]
        }
      ]
    },
    {
      "cell_type": "code",
      "source": [
        "series2 = pd.Series([2,4,6,8,10])\n",
        "print(series2)"
      ],
      "metadata": {
        "colab": {
          "base_uri": "https://localhost:8080/"
        },
        "id": "6xQKrJ8VUyyg",
        "outputId": "29dcd6b8-a5a9-4379-97cf-424d74ac40fd"
      },
      "execution_count": 27,
      "outputs": [
        {
          "output_type": "stream",
          "name": "stdout",
          "text": [
            "0     2\n",
            "1     4\n",
            "2     6\n",
            "3     8\n",
            "4    10\n",
            "dtype: int64\n"
          ]
        }
      ]
    },
    {
      "cell_type": "code",
      "source": [
        "#lets acess\n",
        "print(series2[0])\n",
        "print(series2[1])"
      ],
      "metadata": {
        "colab": {
          "base_uri": "https://localhost:8080/"
        },
        "id": "6DXsFqcyVJBY",
        "outputId": "39911bf5-44e4-4b5c-a579-8a519ff894ac"
      },
      "execution_count": 29,
      "outputs": [
        {
          "output_type": "stream",
          "name": "stdout",
          "text": [
            "2\n",
            "4\n"
          ]
        }
      ]
    },
    {
      "cell_type": "code",
      "source": [
        "series3 = pd.Series([0,2,4,6,8,10], index = ['a','b','c', 'd','e','f'])\n",
        "print(series3)#now we give the index."
      ],
      "metadata": {
        "colab": {
          "base_uri": "https://localhost:8080/"
        },
        "id": "qwuAlC51VR29",
        "outputId": "c0cb32d9-181a-497d-aae3-58c46a4f1af6"
      },
      "execution_count": 31,
      "outputs": [
        {
          "output_type": "stream",
          "name": "stdout",
          "text": [
            "a     0\n",
            "b     2\n",
            "c     4\n",
            "d     6\n",
            "e     8\n",
            "f    10\n",
            "dtype: int64\n"
          ]
        }
      ]
    },
    {
      "cell_type": "code",
      "source": [
        "series3.index"
      ],
      "metadata": {
        "colab": {
          "base_uri": "https://localhost:8080/"
        },
        "id": "n3jdq2GjWCez",
        "outputId": "377df252-6cbb-4ea7-a558-3ee7d01ee623"
      },
      "execution_count": 32,
      "outputs": [
        {
          "output_type": "execute_result",
          "data": {
            "text/plain": [
              "Index(['a', 'b', 'c', 'd', 'e', 'f'], dtype='object')"
            ]
          },
          "metadata": {},
          "execution_count": 32
        }
      ]
    },
    {
      "cell_type": "code",
      "source": [
        "#lets acess\n",
        "print(series3['c'])\n",
        "print(series3[3])#even if we give index, the index d has the value 3"
      ],
      "metadata": {
        "colab": {
          "base_uri": "https://localhost:8080/"
        },
        "id": "0GDh8g8ZWQnB",
        "outputId": "66e60505-0a4b-4523-a664-9a17d0fee80a"
      },
      "execution_count": 33,
      "outputs": [
        {
          "output_type": "stream",
          "name": "stdout",
          "text": [
            "4\n",
            "6\n"
          ]
        },
        {
          "output_type": "stream",
          "name": "stderr",
          "text": [
            "<ipython-input-33-60f1e235fc7c>:3: FutureWarning: Series.__getitem__ treating keys as positions is deprecated. In a future version, integer keys will always be treated as labels (consistent with DataFrame behavior). To access a value by position, use `ser.iloc[pos]`\n",
            "  print(series3[3])\n"
          ]
        }
      ]
    },
    {
      "cell_type": "code",
      "source": [
        "#dictionary in pandas\n",
        "students = {'name':['areeba', 'zahra', 'fatima'], 'marks':[4,9,7]}\n",
        "df = pd.DataFrame(students)\n",
        "df"
      ],
      "metadata": {
        "colab": {
          "base_uri": "https://localhost:8080/",
          "height": 787
        },
        "id": "0rKzgTkIW1dn",
        "outputId": "974b3c95-4fa1-48b7-8aa6-c93d53831bc6"
      },
      "execution_count": 36,
      "outputs": [
        {
          "output_type": "execute_result",
          "data": {
            "text/plain": [
              "     name  marks\n",
              "0  areeba      4\n",
              "1   zahra      9\n",
              "2  fatima      7"
            ],
            "text/html": [
              "\n",
              "  <div id=\"df-f0e347f2-a720-44c9-86a7-d61409667767\" class=\"colab-df-container\">\n",
              "    <div>\n",
              "<style scoped>\n",
              "    .dataframe tbody tr th:only-of-type {\n",
              "        vertical-align: middle;\n",
              "    }\n",
              "\n",
              "    .dataframe tbody tr th {\n",
              "        vertical-align: top;\n",
              "    }\n",
              "\n",
              "    .dataframe thead th {\n",
              "        text-align: right;\n",
              "    }\n",
              "</style>\n",
              "<table border=\"1\" class=\"dataframe\">\n",
              "  <thead>\n",
              "    <tr style=\"text-align: right;\">\n",
              "      <th></th>\n",
              "      <th>name</th>\n",
              "      <th>marks</th>\n",
              "    </tr>\n",
              "  </thead>\n",
              "  <tbody>\n",
              "    <tr>\n",
              "      <th>0</th>\n",
              "      <td>areeba</td>\n",
              "      <td>4</td>\n",
              "    </tr>\n",
              "    <tr>\n",
              "      <th>1</th>\n",
              "      <td>zahra</td>\n",
              "      <td>9</td>\n",
              "    </tr>\n",
              "    <tr>\n",
              "      <th>2</th>\n",
              "      <td>fatima</td>\n",
              "      <td>7</td>\n",
              "    </tr>\n",
              "  </tbody>\n",
              "</table>\n",
              "</div>\n",
              "    <div class=\"colab-df-buttons\">\n",
              "\n",
              "  <div class=\"colab-df-container\">\n",
              "    <button class=\"colab-df-convert\" onclick=\"convertToInteractive('df-f0e347f2-a720-44c9-86a7-d61409667767')\"\n",
              "            title=\"Convert this dataframe to an interactive table.\"\n",
              "            style=\"display:none;\">\n",
              "\n",
              "  <svg xmlns=\"http://www.w3.org/2000/svg\" height=\"24px\" viewBox=\"0 -960 960 960\">\n",
              "    <path d=\"M120-120v-720h720v720H120Zm60-500h600v-160H180v160Zm220 220h160v-160H400v160Zm0 220h160v-160H400v160ZM180-400h160v-160H180v160Zm440 0h160v-160H620v160ZM180-180h160v-160H180v160Zm440 0h160v-160H620v160Z\"/>\n",
              "  </svg>\n",
              "    </button>\n",
              "\n",
              "  <style>\n",
              "    .colab-df-container {\n",
              "      display:flex;\n",
              "      gap: 12px;\n",
              "    }\n",
              "\n",
              "    .colab-df-convert {\n",
              "      background-color: #E8F0FE;\n",
              "      border: none;\n",
              "      border-radius: 50%;\n",
              "      cursor: pointer;\n",
              "      display: none;\n",
              "      fill: #1967D2;\n",
              "      height: 32px;\n",
              "      padding: 0 0 0 0;\n",
              "      width: 32px;\n",
              "    }\n",
              "\n",
              "    .colab-df-convert:hover {\n",
              "      background-color: #E2EBFA;\n",
              "      box-shadow: 0px 1px 2px rgba(60, 64, 67, 0.3), 0px 1px 3px 1px rgba(60, 64, 67, 0.15);\n",
              "      fill: #174EA6;\n",
              "    }\n",
              "\n",
              "    .colab-df-buttons div {\n",
              "      margin-bottom: 4px;\n",
              "    }\n",
              "\n",
              "    [theme=dark] .colab-df-convert {\n",
              "      background-color: #3B4455;\n",
              "      fill: #D2E3FC;\n",
              "    }\n",
              "\n",
              "    [theme=dark] .colab-df-convert:hover {\n",
              "      background-color: #434B5C;\n",
              "      box-shadow: 0px 1px 3px 1px rgba(0, 0, 0, 0.15);\n",
              "      filter: drop-shadow(0px 1px 2px rgba(0, 0, 0, 0.3));\n",
              "      fill: #FFFFFF;\n",
              "    }\n",
              "  </style>\n",
              "\n",
              "    <script>\n",
              "      const buttonEl =\n",
              "        document.querySelector('#df-f0e347f2-a720-44c9-86a7-d61409667767 button.colab-df-convert');\n",
              "      buttonEl.style.display =\n",
              "        google.colab.kernel.accessAllowed ? 'block' : 'none';\n",
              "\n",
              "      async function convertToInteractive(key) {\n",
              "        const element = document.querySelector('#df-f0e347f2-a720-44c9-86a7-d61409667767');\n",
              "        const dataTable =\n",
              "          await google.colab.kernel.invokeFunction('convertToInteractive',\n",
              "                                                    [key], {});\n",
              "        if (!dataTable) return;\n",
              "\n",
              "        const docLinkHtml = 'Like what you see? Visit the ' +\n",
              "          '<a target=\"_blank\" href=https://colab.research.google.com/notebooks/data_table.ipynb>data table notebook</a>'\n",
              "          + ' to learn more about interactive tables.';\n",
              "        element.innerHTML = '';\n",
              "        dataTable['output_type'] = 'display_data';\n",
              "        await google.colab.output.renderOutput(dataTable, element);\n",
              "        const docLink = document.createElement('div');\n",
              "        docLink.innerHTML = docLinkHtml;\n",
              "        element.appendChild(docLink);\n",
              "      }\n",
              "    </script>\n",
              "  </div>\n",
              "\n",
              "\n",
              "<div id=\"df-3fee1c82-15b5-4210-8f5c-24b93952bdfd\">\n",
              "  <button class=\"colab-df-quickchart\" onclick=\"quickchart('df-3fee1c82-15b5-4210-8f5c-24b93952bdfd')\"\n",
              "            title=\"Suggest charts\"\n",
              "            style=\"display:none;\">\n",
              "\n",
              "<svg xmlns=\"http://www.w3.org/2000/svg\" height=\"24px\"viewBox=\"0 0 24 24\"\n",
              "     width=\"24px\">\n",
              "    <g>\n",
              "        <path d=\"M19 3H5c-1.1 0-2 .9-2 2v14c0 1.1.9 2 2 2h14c1.1 0 2-.9 2-2V5c0-1.1-.9-2-2-2zM9 17H7v-7h2v7zm4 0h-2V7h2v10zm4 0h-2v-4h2v4z\"/>\n",
              "    </g>\n",
              "</svg>\n",
              "  </button>\n",
              "\n",
              "<style>\n",
              "  .colab-df-quickchart {\n",
              "      --bg-color: #E8F0FE;\n",
              "      --fill-color: #1967D2;\n",
              "      --hover-bg-color: #E2EBFA;\n",
              "      --hover-fill-color: #174EA6;\n",
              "      --disabled-fill-color: #AAA;\n",
              "      --disabled-bg-color: #DDD;\n",
              "  }\n",
              "\n",
              "  [theme=dark] .colab-df-quickchart {\n",
              "      --bg-color: #3B4455;\n",
              "      --fill-color: #D2E3FC;\n",
              "      --hover-bg-color: #434B5C;\n",
              "      --hover-fill-color: #FFFFFF;\n",
              "      --disabled-bg-color: #3B4455;\n",
              "      --disabled-fill-color: #666;\n",
              "  }\n",
              "\n",
              "  .colab-df-quickchart {\n",
              "    background-color: var(--bg-color);\n",
              "    border: none;\n",
              "    border-radius: 50%;\n",
              "    cursor: pointer;\n",
              "    display: none;\n",
              "    fill: var(--fill-color);\n",
              "    height: 32px;\n",
              "    padding: 0;\n",
              "    width: 32px;\n",
              "  }\n",
              "\n",
              "  .colab-df-quickchart:hover {\n",
              "    background-color: var(--hover-bg-color);\n",
              "    box-shadow: 0 1px 2px rgba(60, 64, 67, 0.3), 0 1px 3px 1px rgba(60, 64, 67, 0.15);\n",
              "    fill: var(--button-hover-fill-color);\n",
              "  }\n",
              "\n",
              "  .colab-df-quickchart-complete:disabled,\n",
              "  .colab-df-quickchart-complete:disabled:hover {\n",
              "    background-color: var(--disabled-bg-color);\n",
              "    fill: var(--disabled-fill-color);\n",
              "    box-shadow: none;\n",
              "  }\n",
              "\n",
              "  .colab-df-spinner {\n",
              "    border: 2px solid var(--fill-color);\n",
              "    border-color: transparent;\n",
              "    border-bottom-color: var(--fill-color);\n",
              "    animation:\n",
              "      spin 1s steps(1) infinite;\n",
              "  }\n",
              "\n",
              "  @keyframes spin {\n",
              "    0% {\n",
              "      border-color: transparent;\n",
              "      border-bottom-color: var(--fill-color);\n",
              "      border-left-color: var(--fill-color);\n",
              "    }\n",
              "    20% {\n",
              "      border-color: transparent;\n",
              "      border-left-color: var(--fill-color);\n",
              "      border-top-color: var(--fill-color);\n",
              "    }\n",
              "    30% {\n",
              "      border-color: transparent;\n",
              "      border-left-color: var(--fill-color);\n",
              "      border-top-color: var(--fill-color);\n",
              "      border-right-color: var(--fill-color);\n",
              "    }\n",
              "    40% {\n",
              "      border-color: transparent;\n",
              "      border-right-color: var(--fill-color);\n",
              "      border-top-color: var(--fill-color);\n",
              "    }\n",
              "    60% {\n",
              "      border-color: transparent;\n",
              "      border-right-color: var(--fill-color);\n",
              "    }\n",
              "    80% {\n",
              "      border-color: transparent;\n",
              "      border-right-color: var(--fill-color);\n",
              "      border-bottom-color: var(--fill-color);\n",
              "    }\n",
              "    90% {\n",
              "      border-color: transparent;\n",
              "      border-bottom-color: var(--fill-color);\n",
              "    }\n",
              "  }\n",
              "</style>\n",
              "\n",
              "  <script>\n",
              "    async function quickchart(key) {\n",
              "      const quickchartButtonEl =\n",
              "        document.querySelector('#' + key + ' button');\n",
              "      quickchartButtonEl.disabled = true;  // To prevent multiple clicks.\n",
              "      quickchartButtonEl.classList.add('colab-df-spinner');\n",
              "      try {\n",
              "        const charts = await google.colab.kernel.invokeFunction(\n",
              "            'suggestCharts', [key], {});\n",
              "      } catch (error) {\n",
              "        console.error('Error during call to suggestCharts:', error);\n",
              "      }\n",
              "      quickchartButtonEl.classList.remove('colab-df-spinner');\n",
              "      quickchartButtonEl.classList.add('colab-df-quickchart-complete');\n",
              "    }\n",
              "    (() => {\n",
              "      let quickchartButtonEl =\n",
              "        document.querySelector('#df-3fee1c82-15b5-4210-8f5c-24b93952bdfd button');\n",
              "      quickchartButtonEl.style.display =\n",
              "        google.colab.kernel.accessAllowed ? 'block' : 'none';\n",
              "    })();\n",
              "  </script>\n",
              "</div>\n",
              "\n",
              "  <div id=\"id_14c6c020-43c1-4dd6-a423-738b8d602ea0\">\n",
              "    <style>\n",
              "      .colab-df-generate {\n",
              "        background-color: #E8F0FE;\n",
              "        border: none;\n",
              "        border-radius: 50%;\n",
              "        cursor: pointer;\n",
              "        display: none;\n",
              "        fill: #1967D2;\n",
              "        height: 32px;\n",
              "        padding: 0 0 0 0;\n",
              "        width: 32px;\n",
              "      }\n",
              "\n",
              "      .colab-df-generate:hover {\n",
              "        background-color: #E2EBFA;\n",
              "        box-shadow: 0px 1px 2px rgba(60, 64, 67, 0.3), 0px 1px 3px 1px rgba(60, 64, 67, 0.15);\n",
              "        fill: #174EA6;\n",
              "      }\n",
              "\n",
              "      [theme=dark] .colab-df-generate {\n",
              "        background-color: #3B4455;\n",
              "        fill: #D2E3FC;\n",
              "      }\n",
              "\n",
              "      [theme=dark] .colab-df-generate:hover {\n",
              "        background-color: #434B5C;\n",
              "        box-shadow: 0px 1px 3px 1px rgba(0, 0, 0, 0.15);\n",
              "        filter: drop-shadow(0px 1px 2px rgba(0, 0, 0, 0.3));\n",
              "        fill: #FFFFFF;\n",
              "      }\n",
              "    </style>\n",
              "    <button class=\"colab-df-generate\" onclick=\"generateWithVariable('df')\"\n",
              "            title=\"Generate code using this dataframe.\"\n",
              "            style=\"display:none;\">\n",
              "\n",
              "  <svg xmlns=\"http://www.w3.org/2000/svg\" height=\"24px\"viewBox=\"0 0 24 24\"\n",
              "       width=\"24px\">\n",
              "    <path d=\"M7,19H8.4L18.45,9,17,7.55,7,17.6ZM5,21V16.75L18.45,3.32a2,2,0,0,1,2.83,0l1.4,1.43a1.91,1.91,0,0,1,.58,1.4,1.91,1.91,0,0,1-.58,1.4L9.25,21ZM18.45,9,17,7.55Zm-12,3A5.31,5.31,0,0,0,4.9,8.1,5.31,5.31,0,0,0,1,6.5,5.31,5.31,0,0,0,4.9,4.9,5.31,5.31,0,0,0,6.5,1,5.31,5.31,0,0,0,8.1,4.9,5.31,5.31,0,0,0,12,6.5,5.46,5.46,0,0,0,6.5,12Z\"/>\n",
              "  </svg>\n",
              "    </button>\n",
              "    <script>\n",
              "      (() => {\n",
              "      const buttonEl =\n",
              "        document.querySelector('#id_14c6c020-43c1-4dd6-a423-738b8d602ea0 button.colab-df-generate');\n",
              "      buttonEl.style.display =\n",
              "        google.colab.kernel.accessAllowed ? 'block' : 'none';\n",
              "\n",
              "      buttonEl.onclick = () => {\n",
              "        google.colab.notebook.generateWithVariable('df');\n",
              "      }\n",
              "      })();\n",
              "    </script>\n",
              "  </div>\n",
              "\n",
              "    </div>\n",
              "  </div>\n"
            ],
            "application/vnd.google.colaboratory.intrinsic+json": {
              "type": "dataframe",
              "variable_name": "df",
              "summary": "{\n  \"name\": \"df\",\n  \"rows\": 3,\n  \"fields\": [\n    {\n      \"column\": \"name\",\n      \"properties\": {\n        \"dtype\": \"string\",\n        \"num_unique_values\": 3,\n        \"samples\": [\n          \"areeba\",\n          \"zahra\",\n          \"fatima\"\n        ],\n        \"semantic_type\": \"\",\n        \"description\": \"\"\n      }\n    },\n    {\n      \"column\": \"marks\",\n      \"properties\": {\n        \"dtype\": \"number\",\n        \"std\": 2,\n        \"min\": 4,\n        \"max\": 9,\n        \"num_unique_values\": 3,\n        \"samples\": [\n          4,\n          9,\n          7\n        ],\n        \"semantic_type\": \"\",\n        \"description\": \"\"\n      }\n    }\n  ]\n}"
            }
          },
          "metadata": {},
          "execution_count": 36
        },
        {
          "output_type": "display_data",
          "data": {
            "text/plain": [
              "<google.colab._quickchart_helpers.SectionTitle at 0x7a4659222e30>"
            ],
            "text/html": [
              "<h4 class=\"colab-quickchart-section-title\">Distributions</h4>\n",
              "<style>\n",
              "  .colab-quickchart-section-title {\n",
              "      clear: both;\n",
              "  }\n",
              "</style>"
            ]
          },
          "metadata": {}
        },
        {
          "output_type": "display_data",
          "data": {
            "text/plain": [
              "from matplotlib import pyplot as plt\n",
              "df['marks'].plot(kind='hist', bins=20, title='marks')\n",
              "plt.gca().spines[['top', 'right',]].set_visible(False)"
            ],
            "text/html": [
              "      <div class=\"colab-quickchart-chart-with-code\" id=\"chart-69c82cc1-67c3-4504-a679-aa59d656251a\">\n",
              "        <img style=\"width: 180px;\" src=\"data:image/png;base64,iVBORw0KGgoAAAANSUhEUgAAAioAAAGrCAYAAADuNLxTAAAAOXRFWHRTb2Z0d2FyZQBNYXRwbG90\n",
              "bGliIHZlcnNpb24zLjcuMSwgaHR0cHM6Ly9tYXRwbG90bGliLm9yZy/bCgiHAAAACXBIWXMAAA9h\n",
              "AAAPYQGoP6dpAAAe/UlEQVR4nO3de5DV9X3/8dcBdE0iF+UijMtKkYtXQBAG8RLRyVT7U7SSJqmi\n",
              "0nDT2toMnap4SeMt2E6n1SRNWYSQGKZqCiZhjNXWSwiJGkSjAiYihnVp5GI0CkZBWfb3hxN+2SD5\n",
              "Ze0e9sP6eMx8Z/Z8+fjd9zmz7jzne757vpXm5ubmAAAUqFN7DwAAsCdCBQAollABAIolVACAYgkV\n",
              "AKBYQgUAKJZQAQCKJVQAgGIJFQCgWEIF2Cedeuqpufbaa9t7DKDKhAoAUCyhAuxT3nnnnfYeAdiL\n",
              "hArQpk499dT89V//dT796U+nW7duqa2tzV133ZWVK1fmhBNOSNeuXTNmzJg8//zzSZL/+I//yKhR\n",
              "o3LQQQelV69emTBhQtatW7freF//+tdTW1ubf/3Xf82AAQPSs2fP9/2+N954YwYOHJhVq1alubk5\n",
              "n//851NbW5uuXbumtrY2V1999V55/kDbEipAm/vmN7+Zyy67LK+//nr+7u/+LlOmTMlVV12VO++8\n",
              "M6+++mr69++fyy+/PEnStWvXfO1rX8svf/nL/OxnP0tzc3POP//8FsfbuHFjnnnmmaxatSqbNm1q\n",
              "8W/btm3LBRdckPvuuy+PP/54jjnmmDz44IP52te+lkcffTRbt27Ns88+m7PPPnuvPX+g7QgVoM1N\n",
              "nDgxp5xySjp16pTJkyfnrbfeyqRJkzJgwIDsv//+Of/887N8+fIkyRlnnJHhw4enc+fO6dWrV264\n",
              "4YY8/vjj2bp1a4tj3nrrrTnwwAPz0Y9+dNe+TZs2Zfz48WlqasojjzySPn36JEn233//bNu2LatX\n",
              "r87bb7+dgw8+OCeccMLeewGANiNUgDbXr1+/XV9/7GMfe999vwmRpUuX5vTTT0+/fv3SrVu3fPzj\n",
              "H0+SbN68edf6Pn36tAiU37j33nuzatWq3HzzzTnggAN27f/4xz+ef/zHf8wtt9ySQw45JKecckr+\n",
              "+7//u22fJLBXCBWg3bzzzjs566yzcsYZZ2TNmjXZsmVLli5dmiRpbm7eta5Tp/f/VTVlypRcccUV\n",
              "Ofnkk7Ny5coW//bZz342S5cuzSuvvJJzzz03Z5999m5naYDydWnvAYAPr3feeSdvv/12DjrooHTt\n",
              "2jUvv/xyqz8b5brrrkvv3r0zfvz4fPe7382JJ56Y5cuXZ9u2bRk9enQOOOCAdO3aNZVKJZ07d67S\n",
              "MwGqxRkVoN0ceOCBmTdvXm666aYceOCBOfPMM/Nnf/ZnrT7OJZdckn/7t3/LWWedlfvuuy9vvvlm\n",
              "Zs6cmT59+qRHjx6ZO3duvv3tb7/v20dA2SrNv31+FQCgIM6oAADFEioAQLGECgBQLKECABRLqAAA\n",
              "xRIqAECxhAoAUKwOESq33XZbe48AAFRBhwiVl156qb1HAACqoEOECgDQMQkVAKBYQgUAKJZQAQCK\n",
              "JVQAgGIJFQCgWEIFACiWUAEAiiVUAIBiCRUAoFhCBQAollABAIpV1VC5/PLLM2DAgFQqlTz99NN7\n",
              "XDd//vwMHjw4hx9+eKZNm5Z33323mmMBAPuIqobKJz/5yfzwhz/MYYcdtsc169aty3XXXZdly5Zl\n",
              "7dq12bRpU+bOnVvNsQCAfURVQ+WUU05JbW3t712zaNGiTJgwIX379k2lUskll1ySO++8c4/rt2/f\n",
              "ni1btrTYmpqa2np0AKAAXdp7gMbGxhZnXAYMGJDGxsY9rp89e3auv/76FvvGjh1bldkGXPW9qhw3\n",
              "SRpu+T9VOzbQvqr1u8PvDX6fjvpzt89dTDtr1qy88cYbLbYxY8a091gAQBW0+xmVurq6vPjii7se\n",
              "NzQ0pK6ubo/ra2pqUlNT02Jf586dqzYfANB+2v2MysSJE7NkyZJs3Lgxzc3NmTNnTj7zmc+091gA\n",
              "QAGqGiozZsxIbW1t/ud//id//Md/nEGDBiVJpk6dmiVLliRJBg4cmOuvvz4nnnhiBg0alN69e2fG\n",
              "jBnVHAsA2EdU9a2f+vr6990/b968Fo+nTZuWadOmVXMUAGAf1O5v/QAA7IlQAQCKJVQAgGIJFQCg\n",
              "WEIFACiWUAEAiiVUAIBiCRUAoFhCBQAollABAIolVACAYgkVAKBYQgUAKJZQAQCKJVQAgGIJFQCg\n",
              "WEIFACiWUAEAiiVUAIBiCRUAoFhCBQAollABAIolVACAYgkVAKBYQgUAKJZQAQCKJVQAgGIJFQCg\n",
              "WEIFACiWUAEAiiVUAIBiCRUAoFhCBQAollABAIolVACAYgkVAKBYQgUAKJZQAQCKJVQAgGIJFQCg\n",
              "WEIFACiWUAEAiiVUAIBiCRUAoFhCBQAollABAIolVACAYgkVAKBYQgUAKJZQAQCKJVQAgGIJFQCg\n",
              "WEIFACiWUAEAiiVUAIBiCRUAoFhCBQAollABAIolVACAYgkVAKBYQgUAKFZVQ+WFF17IuHHjMmTI\n",
              "kIwePTqrV6/ebc3OnTszc+bMHHXUURk2bFjGjx+ftWvXVnMsAGAfUdVQmTFjRqZPn541a9bkyiuv\n",
              "zOTJk3dbs2TJkvzoRz/KM888k2effTann356rr766mqOBQDsI6oWKps3b86KFSsyadKkJMnEiROz\n",
              "fv363c6WVCqVbN++Pdu2bUtzc3O2bNmS2traao0FAOxDulTrwOvXr0+/fv3Spct736JSqaSuri6N\n",
              "jY0ZNGjQrnVnn312HnnkkfTt2zddu3bNoYcemqVLl+7xuNu3b8/27dtb7GtqaqrOkwAA2lW7X0y7\n",
              "YsWKrFq1Kr/4xS/y8ssv5/TTT88ll1yyx/WzZ89O9+7dW2zLly/fixMDAHtL1UKlf//+2bBhQ3bs\n",
              "2JEkaW5uTmNjY+rq6lqsu+OOO3LaaaelR48e6dSpUy6++OI88sgjezzurFmz8sYbb7TYxowZU62n\n",
              "AQC0o6qFSp8+fTJy5MgsXLgwSbJ48eLU1ta2eNsnSQYOHJiHH34477zzTpLk3nvvzTHHHLPH49bU\n",
              "1KRbt24tts6dO1fraQAA7ahq16gkSX19fSZPnpwvfvGL6datWxYsWJAkmTp1aiZMmJAJEybksssu\n",
              "y09/+tMMHz48++23X/r27Zs5c+ZUcywAYB9R1VAZOnRoHnvssd32z5s3b9fXNTU1uf3226s5BgCw\n",
              "j2r3i2kBAPZEqAAAxRIqAECxhAoAUCyhAgAUS6gAAMUSKgBAsYQKAFAsoQIAFEuoAADFEioAQLGE\n",
              "CgBQLKECABRLqAAAxRIqAECxhAoAUCyhAgAUS6gAAMUSKgBAsYQKAFAsoQIAFEuoAADFEioAQLGE\n",
              "CgBQLKECABRLqAAAxRIqAECxhAoAUCyhAgAUS6gAAMUSKgBAsYQKAFAsoQIAFEuoAADFEioAQLGE\n",
              "CgBQLKECABRLqAAAxRIqAECxhAoAUCyhAgAUS6gAAMUSKgBAsYQKAFAsoQIAFEuoAADFEioAQLGE\n",
              "CgBQLKECABRLqAAAxRIqAECxhAoAUCyhAgAUS6gAAMUSKgBAsYQKAFAsoQIAFEuoAADFEioAQLGE\n",
              "CgBQLKECABRLqAAAxapqqLzwwgsZN25chgwZktGjR2f16tXvu27lypU59dRTc+SRR+bII4/MPffc\n",
              "U82xAIB9RJdqHnzGjBmZPn16Jk+enEWLFmXy5Ml54oknWqx56623cs455+SOO+7ISSedlKamprz2\n",
              "2mvVHAsA2EdU7YzK5s2bs2LFikyaNClJMnHixKxfvz5r165tse7f//3fM3bs2Jx00klJks6dO6d3\n",
              "7957PO727duzZcuWFltTU1O1ngYA0I6qFirr169Pv3790qXLeydtKpVK6urq0tjY2GLdc889l5qa\n",
              "mpx11lkZMWJELrroorzyyit7PO7s2bPTvXv3Ftvy5cur9TQAgHbU6lB54IEH2nSAHTt25MEHH0x9\n",
              "fX1+8pOf5NBDD82ll166x/WzZs3KG2+80WIbM2ZMm84EAJSh1aFyww03ZOjQobntttuyZcuWPa7r\n",
              "379/NmzYkB07diRJmpub09jYmLq6uhbr6urqMn78+Bx66KGpVCqZNGlSHn/88T0et6amJt26dWux\n",
              "de7cubVPAwDYB7Q6VH70ox/lrrvuyqpVqzJkyJD85V/+ZZ577rnd1vXp0ycjR47MwoULkySLFy9O\n",
              "bW1tBg0a1GLdpz71qTzxxBO7oue+++7L8OHDP8hzAQA6mA90jcpxxx2X22+/Pffff3/uvffeDBs2\n",
              "LJ/4xCeycuXKFuvq6+tTX1+fIUOG5JZbbsmCBQuSJFOnTs2SJUuSvHdG5eqrr864ceMybNiwPPzw\n",
              "w5kzZ87/8mkBAB3BB/rz5AcffDBf/vKXs3Llylx22WWZMmVKvv/97+dP//RPW/xVz9ChQ/PYY4/t\n",
              "9t/PmzevxeMLL7wwF1544QcZBQDowFodKkceeWR69eqVyy+/POedd96u60M++clPZv78+W0+IADw\n",
              "4dXqUFm4cGFGjRr1vv/2n//5n//rgQAAfqPV16g8+eSTLT459tVXX83tt9/epkMBACQfIFS++tWv\n",
              "5uCDD971uGfPnvnqV7/apkMBACQfIFSam5t32+cj7AGAamh1qPTr1y/f+ta3dj2+++67069fvzYd\n",
              "CgAg+QAX0956660555xzcsUVVyRJPvrRj+a73/1umw8GANDqUDniiCPy3HPP5fnnn0/y3mel+Ah7\n",
              "AKAaPtAHvlUqlfTo0SM7duzIL37xiyTZ7R4+AAD/W60Ola9//eu5/PLLs99++6VTp/cucalUKtm8\n",
              "eXObDwcAfLi1OlRuvPHGPPHEExk6dGg15gEA2KXVf/XTq1cvkQIA7BWtDpVzzz03t956azZv3pwt\n",
              "W7bs2gAA2lqr3/q55pprkiQzZ85MpVJJc3NzKpWKD30DANpcq0Nl586d1ZgDAGA3rX7rJ3nvxoTf\n",
              "/OY3kySvv/56NmzY0KZDAQAkH/CmhJ/97GfzhS98Icl7d08+//zz23ouAIDWh8rcuXPz+OOPp1u3\n",
              "bkmSww8/PK+88kqbDwYA0OpQqampyUc+8pEW+7p0+UAfcAsA8Hu1OlR69+6dNWvWpFKpJHnvk2p9\n",
              "fD4AUA0f6O7Jf/7nf56f/exn6d+/f7p165Z77723GrMBAB9yrQ6VQYMG5cc//nGef/75NDc3u3sy\n",
              "AFA1rQ6VxsbGJMnHPvaxJHH3ZACgalodKqNGjdr1ibTbtm3LW2+9lZ49e7p7MgDQ5lodKr/7p8j3\n",
              "3HNPnnnmmTYbCADgNz7QJ9P+tvPOOy/f+9732mIWAIAWWn1G5bfvlNzU1JQf//jH7p4MAFRFq0Ol\n",
              "R48eu65R6dy5cwYPHpwvfelL1ZgNAPiQc/dkAKBY/+trVAAAqqXVZ1Q6deq06+Pzf1tzc3MqlUqa\n",
              "mpraZDAAgFaHyg033JC33347l156aZJkzpw5+chHPpLPfe5zbT0bAPAh1+pQ+fa3v50nn3xy1+Ob\n",
              "bropo0aNyjXXXNOmgwEAtPoala1bt7b4FNrNmzdn69atbToUAEDyAc6o/O3f/m2GDx+eP/mTP0mS\n",
              "3H///fnCF77Q1nMBALQ+VGbMmJETTzwxjzzySJJk5syZOfroo9t8MACAVodKkvTs2TPHHntsTj31\n",
              "1OzYsSPvvPNO9t9//7aeDQD4kGv1NSqLFi3K2LFj8xd/8RdJktWrV+fcc89t67kAAFofKrNnz85T\n",
              "Tz2VHj16JEmGDx+el156qa3nAgBofah07tw5PXv2bLHP2z4AQDW0OlS6du2aTZs27fp02oceeigH\n",
              "H3xwmw8GANDqi2n/4R/+IWeeeWZ+/vOf56STTsq6devyve99rxqzAQAfcq0KlZ07d6apqSmPPPJI\n",
              "Hn300TQ3N2fcuHG7rlcBAGhLrQqVTp06Zfr06XnmmWdy5plnVmsmAIAkH+AalcGDB2ft2rXVmAUA\n",
              "oIVWX6Py2muvZcSIERk3blwOPPDAXfvvueeeNh0MAOAPDpXp06dn7ty5ufjiizNhwoQcdNBB1ZwL\n",
              "AOAPD5UVK1YkSS6++OKMHDkyTz31VNWGAgBIPsA1KknS3Nzc1nMAAOzmDz6j8vbbb2flypVpbm7O\n",
              "tm3bdn39G8OGDavKgADAh1erQmXChAm7Hv/215VKJT//+c/bdjIA4EPvDw6VhoaGKo4BALC7D3SN\n",
              "CgDA3iBUAIBiCRUAoFhCBQAollABAIolVACAYgkVAKBYQgUAKJZQAQCKVdVQeeGFFzJu3LgMGTIk\n",
              "o0ePzurVq/e4trm5Oaeddlp69OhRzZEAgH1IVUNlxowZmT59etasWZMrr7wykydP3uPaf/mXf8nh\n",
              "hx9ezXEAgH1M1UJl8+bNWbFiRSZNmpQkmThxYtavX5+1a9futnb16tX5zne+k6uuuur/e9zt27dn\n",
              "y5YtLbampqY2nx8AaH9VC5X169enX79+6dLlvfseViqV1NXVpbGxscW6d999N9OmTUt9fX06d+78\n",
              "/z3u7Nmz07179xbb8uXLq/IcAID21e4X015//fU577zzcuSRR/5B62fNmpU33nijxTZmzJgqTwkA\n",
              "tIcu1Tpw//79s2HDhuzYsSNdunRJc3NzGhsbU1dX12Ld0qVL09jYmK985SvZsWNHtmzZkgEDBuSJ\n",
              "J55I7969dztuTU1NampqWuz7Q87EAAD7nqqdUenTp09GjhyZhQsXJkkWL16c2traDBo0qMW6ZcuW\n",
              "5aWXXkpDQ0N++MMfplu3bmloaHjfSAEAPlyq+tZPfX196uvrM2TIkNxyyy1ZsGBBkmTq1KlZsmRJ\n",
              "Nb81ANABVO2tnyQZOnRoHnvssd32z5s3733XDxgwIK+//no1RwIA9iHtfjEtAMCeCBUAoFhCBQAo\n",
              "llABAIolVACAYgkVAKBYQgUAKJZQAQCKJVQAgGIJFQCgWEIFACiWUAEAiiVUAIBiCRUAoFhCBQAo\n",
              "llABAIolVACAYgkVAKBYQgUAKJZQAQCKJVQAgGIJFQCgWEIFACiWUAEAiiVUAIBiCRUAoFhCBQAo\n",
              "llABAIolVACAYgkVAKBYQgUAKJZQAQCKJVQAgGIJFQCgWEIFACiWUAEAiiVUAIBiCRUAoFhCBQAo\n",
              "llABAIolVACAYgkVAKBYQgUAKJZQAQCKJVQAgGIJFQCgWEIFACiWUAEAiiVUAIBiCRUAoFhCBQAo\n",
              "llABAIolVACAYgkVAKBYQgUAKJZQAQCKJVQAgGIJFQCgWEIFACiWUAEAiiVUAIBiCRUAoFhVDZUX\n",
              "Xngh48aNy5AhQzJ69OisXr16tzUPP/xwxowZk6OOOipHH310rrjiiuzcubOaYwEA+4iqhsqMGTMy\n",
              "ffr0rFmzJldeeWUmT56825qDDjood911V5577rk8+eSTefTRR3PHHXdUcywAYB9RtVDZvHlzVqxY\n",
              "kUmTJiVJJk6cmPXr12ft2rUt1h133HEZOHBgkuSAAw7IiBEj0tDQsMfjbt++PVu2bGmxNTU1Vetp\n",
              "AADtqGqhsn79+vTr1y9dunRJklQqldTV1aWxsXGP/83GjRuzaNGinHXWWXtcM3v27HTv3r3Ftnz5\n",
              "8jafHwBof8VcTLtly5acffbZueKKK3L88cfvcd2sWbPyxhtvtNjGjBmzFycFAPaWLtU6cP/+/bNh\n",
              "w4bs2LEjXbp0SXNzcxobG1NXV7fb2q1bt+aMM87IOeeck5kzZ/7e49bU1KSmpqbFvs6dO7fp7ABA\n",
              "Gap2RqVPnz4ZOXJkFi5cmCRZvHhxamtrM2jQoBbr3nzzzZxxxhk544wzcu2111ZrHABgH1TVt37q\n",
              "6+tTX1+fIUOG5JZbbsmCBQuSJFOnTs2SJUuSJLfddluWL1+ee+65JyNGjMiIESNy8803V3MsAGAf\n",
              "UbW3fpJk6NCheeyxx3bbP2/evF1fX3PNNbnmmmuqOQYAsI8q5mJaAIDfJVQAgGIJFQCgWEIFACiW\n",
              "UAEAiiVUAIBiCRUAoFhCBQAollABAIolVACAYgkVAKBYQgUAKJZQAQCKJVQAgGIJFQCgWEIFACiW\n",
              "UAEAiiVUAIBiCRUAoFhCBQAollABAIolVACAYgkVAKBYQgUAKJZQAQCKJVQAgGIJFQCgWEIFACiW\n",
              "UAEAiiVUAIBiCRUAoFhCBQAollABAIolVACAYgkVAKBYQgUAKJZQAQCKJVQAgGIJFQCgWEIFACiW\n",
              "UAEAiiVUAIBiCRUAoFhCBQAollABAIolVACAYgkVAKBYQgUAKJZQAQCKJVQAgGIJFQCgWEIFACiW\n",
              "UAEAiiVUAIBiCRUAoFhCBQAollABAIolVACAYgkVAKBYQgUAKJZQAQCKVdVQeeGFFzJu3LgMGTIk\n",
              "o0ePzurVq9933fz58zN48OAcfvjhmTZtWt59991qjgUA7COqGiozZszI9OnTs2bNmlx55ZWZPHny\n",
              "bmvWrVuX6667LsuWLcvatWuzadOmzJ07t5pjAQD7iKqFyubNm7NixYpMmjQpSTJx4sSsX78+a9eu\n",
              "bbFu0aJFmTBhQvr27ZtKpZJLLrkkd9555x6Pu3379mzZsqXF1tTUVK2nAQC0oy7VOvD69evTr1+/\n",
              "dOny3reoVCqpq6tLY2NjBg0atGtdY2NjDjvssF2PBwwYkMbGxj0ed/bs2bn++utb7DviiCMyc+bM\n",
              "Np2/qakp/ZYvz5gxY9K5c+c2PXaSzJz5UJsfc1/V1NSU5VV8rXmP13nvqObvDr83/h8/z7s7rwrH\n",
              "bGpqygkn3FS11/mwww7L3/zN3/zeNVULlWqZNWvWblFSU1OTmpqaNv0+W7ZsSffu3fPAAw+kW7du\n",
              "bXpsWvJa7x1e573D67x3eJ33jhJe56qFSv/+/bNhw4bs2LEjXbp0SXNzcxobG1NXV9diXV1dXV58\n",
              "8cVdjxsaGnZb89uqESUAQJmqdo1Knz59MnLkyCxcuDBJsnjx4tTW1rZ42yd579qVJUuWZOPGjWlu\n",
              "bs6cOXPymc98plpjAQD7kKr+1U99fX3q6+szZMiQ3HLLLVmwYEGSZOrUqVmyZEmSZODAgbn++utz\n",
              "4oknZtCgQendu3dmzJhRzbEAgH1EVa9RGTp0aB577LHd9s+bN6/F42nTpmXatGnVHKXVampq8vd/\n",
              "//feZtoLvNZ7h9d57/A67x1e572jhNe50tzc3Nxu3x0A4PfwEfoAQLGECgBQLKECABRLqAAAxRIq\n",
              "v8eCBQtSqVTyne98p71H6bAGDBiQoUOHZsSIERkxYkTuvvvu9h6pQ9q+fXv+6q/+KoMHD86xxx67\n",
              "6x5ctJ1XX31118/xiBEjMmTIkHTp0iWvvfZae4/W4dx3330ZOXJkRowYkWOOOSbf+MY32nukDuv+\n",
              "++/P8ccfn2HDhmXs2LF55pln9voM+9xH6O8tDQ0Nuf322zN27Nj2HqXDu/vuuzNixIj2HqNDu+qq\n",
              "q1KpVLJmzZpUKpVs3LixvUfqcHr27Jmnn3561+N/+qd/ytKlS3PwwQe331AdUHNzcyZNmpTvf//7\n",
              "GTZsWBoaGnLEEUfkvPPOS9euXdt7vA7lV7/6VS644IL84Ac/yNFHH51ly5blggsuyKpVq/bqHM6o\n",
              "vI+dO3dm6tSp+fKXv+xv9Nnn/frXv878+fNz8803p1KpJEn69u3bzlN1fPPnz8+UKVPae4wOqVKp\n",
              "5PXXX0/y3r1oevbs6Xd1Fbz44ovp2bNnjj766CTJySefnMbGxjz11FN7dQ6h8j7++Z//OSeeeGJG\n",
              "jRrV3qN8KFx00UU59thjM2XKlLzyyivtPU6H8+KLL+bggw/OF7/4xRx//PE5+eST89BD7sJbTY8+\n",
              "+mh+9atf5ayzzmrvUTqcSqWSu+++O+edd14OO+ywnHTSSfnGN76R/fffv71H63AGDx6cV199NY8+\n",
              "+miSZMmSJdm6dWsaGhr26hxC5XesWrUqixcvzrXXXtveo3wo/OAHP8izzz6bp556Kr169crFF1/c\n",
              "3iN1ODt27MhLL72Uo446KitWrMiXvvSlfPrTn86mTZvae7QOa/78+bnooovSpYt319vajh07ctNN\n",
              "N+Wee+7JSy+9lIceeigXXnhhfvnLX7b3aB1O9+7ds2jRosyaNSujRo3Kf/3Xf+Woo47a6z/X/i/6\n",
              "HcuWLUtDQ0MGDx6cJNm4cWOmT5+eDRs25NJLL23n6Tqe39wpe7/99svnPve5DBkypJ0n6njq6urS\n",
              "qVOnXHDBBUmS4447Ln/0R3+UlStX5pBDDmnn6TqeN998M9/61rfyxBNPtPcoHdLTTz+dl19+Oaec\n",
              "ckqSZPTo0amtrc1PfvKTfOITn2jn6Tqe8ePHZ/z48Uneuyi/b9++Oeqoo/bqDM6o/I5LL700GzZs\n",
              "SENDQxoaGjJ27NjMnTtXpFTBr3/9613vMyfJnXfemeOOO679BuqgevXqldNPPz0PPPBAkmTdunVZ\n",
              "t25djjzyyHaerGO6++67M3z48BxxxBHtPUqH1L9//2zYsCE//elPkyRr167Niy++mKFDh7bzZB3T\n",
              "hg0bdn1944035rTTTsugQYP26gzOqNBuNm3alIkTJ6apqSnNzc0ZOHBg7rjjjvYeq0OaM2dOpkyZ\n",
              "kiuvvDKdOnVKfX19Dj300PYeq0OaP39+cTdZ7UgOOeSQzJ07N5/61KfSqVOn7Ny5M1/5yld2nZ2l\n",
              "bX3+85/PsmXLsmPHjpxwwgmZP3/+Xp/BTQkBgGJ56wcAKJZQAQCKJVQAgGIJFQCgWEIFACiWUAEA\n",
              "iiVUAIBiCRUAoFhCBQAollABAIr1fwGDFLlxTP4hIQAAAABJRU5ErkJggg==\n",
              "\">\n",
              "      </div>\n",
              "      <script type=\"text/javascript\">\n",
              "        (() => {\n",
              "          const chartElement = document.getElementById(\"chart-69c82cc1-67c3-4504-a679-aa59d656251a\");\n",
              "          async function getCodeForChartHandler(event) {\n",
              "            const chartCodeResponse =  await google.colab.kernel.invokeFunction(\n",
              "                'getCodeForChart', [\"chart-69c82cc1-67c3-4504-a679-aa59d656251a\"], {});\n",
              "            const responseJson = chartCodeResponse.data['application/json'];\n",
              "            await google.colab.notebook.addCell(responseJson.code, 'code');\n",
              "          }\n",
              "          chartElement.onclick = getCodeForChartHandler;\n",
              "        })();\n",
              "      </script>\n",
              "      <style>\n",
              "        .colab-quickchart-chart-with-code  {\n",
              "            display: block;\n",
              "            float: left;\n",
              "            border: 1px solid transparent;\n",
              "        }\n",
              "\n",
              "        .colab-quickchart-chart-with-code:hover {\n",
              "            cursor: pointer;\n",
              "            border: 1px solid #aaa;\n",
              "        }\n",
              "      </style>"
            ]
          },
          "metadata": {}
        },
        {
          "output_type": "display_data",
          "data": {
            "text/plain": [
              "<google.colab._quickchart_helpers.SectionTitle at 0x7a4659223550>"
            ],
            "text/html": [
              "<h4 class=\"colab-quickchart-section-title\">Categorical distributions</h4>\n",
              "<style>\n",
              "  .colab-quickchart-section-title {\n",
              "      clear: both;\n",
              "  }\n",
              "</style>"
            ]
          },
          "metadata": {}
        },
        {
          "output_type": "display_data",
          "data": {
            "text/plain": [
              "from matplotlib import pyplot as plt\n",
              "import seaborn as sns\n",
              "df.groupby('name').size().plot(kind='barh', color=sns.palettes.mpl_palette('Dark2'))\n",
              "plt.gca().spines[['top', 'right',]].set_visible(False)"
            ],
            "text/html": [
              "      <div class=\"colab-quickchart-chart-with-code\" id=\"chart-658c65ca-6b6e-45db-90e0-ff3b5c7848a2\">\n",
              "        <img style=\"width: 180px;\" src=\"data:image/png;base64,iVBORw0KGgoAAAANSUhEUgAAAj8AAAGZCAYAAABmAVBZAAAAOXRFWHRTb2Z0d2FyZQBNYXRwbG90\n",
              "bGliIHZlcnNpb24zLjcuMSwgaHR0cHM6Ly9tYXRwbG90bGliLm9yZy/bCgiHAAAACXBIWXMAAA9h\n",
              "AAAPYQGoP6dpAAAYHklEQVR4nO3da4yU9fnw8Ws4dFHLYhFplRYQDxSWw4IsrVr8A20VT9VQj5Uo\n",
              "VbAeqlVitbbWiodITLUWeSFWo/XAi1qtGrG+UBAhkQgRVDTygO2CJ9RSZNECC7v388K4T/ep+N+1\n",
              "uwzs9fkkE52Ze+a+9hfjfHPPPTOloiiKAABIolO5BwAA2JnEDwCQivgBAFIRPwBAKuIHAEhF/AAA\n",
              "qYgfACAV8QMApCJ+AIBUxM8O/P73vy/3CABAOxA/O7BmzZpyjwAAtAPxAwCkIn4AgFTEDwCQivgB\n",
              "AFIRPwBAKuIHAEhF/AAAqYgfACAV8QMApCJ+AIBUxA8AkIr4AQBSET8AQCriBwBIRfwAAKmIHwAg\n",
              "FfEDAKQifgCAVMQPAJCK+AEAUhE/AEAq4gcASEX8AACpiB8AIBXxAwCkIn4AgFTEDwCQivgBAFIp\n",
              "FUVRlHuIXdGokSfF+P+ZUu4xAKBDufl3x5d7BEd+AIBcxA8AkIr4AQBSET8AQCriBwBIRfwAAKmI\n",
              "HwAgFfEDAKQifgCAVMQPAJCK+AEAUhE/AEAq4gcASEX8AACpiB8AIBXxAwCkIn4AgFTEDwCQivgB\n",
              "AFIRPwBAKuIHAEhF/AAAqYgfACAV8QMApCJ+AIBUxA8AkIr4AQBS2S3i59lnn43q6upyjwEAdAC7\n",
              "Rfy0xvbt28s9AgCwCytL/Dz55JNRXV3ddOnWrVv88Y9/jKOPPjpGjRoVVVVV8aMf/Sg+/vjjpsds\n",
              "3749Lrzwwhg+fHhUVVXF0qVLIyKitrY29t5777jyyitj5MiRMWvWrHjmmWfisMMOixEjRkRVVVXc\n",
              "fffdnzvP1q1bo66urtmlaGxs1zUAAMqjLPFz7LHHxvLly2P58uVx+eWXx6BBg2LixIkxZ86cWLp0\n",
              "aaxYsSJ69OgRt99+e9NjXn/99Tj77LPjpZdeiosvvjh+9atfNd23cePGqKqqihdffDEuvfTSGDly\n",
              "ZCxatCiWLVsWCxcujOuuuy7eeuutHc5z0003RY8ePZpd3n3v/7TrGgAA5VHWt73mzZsX1157bcyd\n",
              "Ozf22muv+N3vfhcjRoyIYcOGxdy5c2P58uVN2x500EHxrW99KyIiDjvssHjjjTea7uvatWtMmjSp\n",
              "6fr69evjlFNOiSFDhsT48eNj/fr1sWLFih3OcdVVV8XGjRubXfb76iFt/wcDAGXXpVw7XrFiRZxz\n",
              "zjkxd+7c2H///eOBBx6IefPmxYIFC6KysjJmzpwZ8+bNa9q+W7duTf/euXPnZuf27LnnntGp0//r\n",
              "uPPPPz+OPfbYePjhh6NUKsXIkSNjy5YtO5yloqIiKioqmt1W6tThTocCAKJMR37efvvtOOmkk+Ke\n",
              "e+6JqqqqiIjYsGFD9OrVKyorK2PTpk1x7733fuHn37BhQ/Tr1y9KpVI899xz8dJLL7XR5ADA7q4s\n",
              "R37uuuuu+OCDD+Kyyy5rum369Onxr3/9KwYOHBj77rtvjBkzJtasWfOFnn/GjBlx4YUXxvXXXx/V\n",
              "1dVNb5cBAJSKoijKPcSuaNTIk2L8/0wp9xgA0KHc/Lvjyz1Cx/ueHwCAzyN+AIBUxA8AkIr4AQBS\n",
              "ET8AQCriBwBIRfwAAKmIHwAgFfEDAKQifgCAVMQPAJCK+AEAUhE/AEAq4gcASEX8AACpiB8AIBXx\n",
              "AwCkIn4AgFTEDwCQivgBAFIRPwBAKuIHAEhF/AAAqYgfACAV8QMApNKl3APsqo4cOyBuvvX4co8B\n",
              "ALQxR34AgFTEDwCQivgBAFIRPwBAKuIHAEhF/AAAqYgfACAV8QMApCJ+AIBUxA8AkIr4AQBSET8A\n",
              "QCriBwBIRfwAAKmIHwAgFfEDAKQifgCAVMQPAJCK+AEAUhE/AEAq4gcASEX8AACpiB8AIBXxAwCk\n",
              "In4AgFTEDwCQivgBAFIRPwBAKuIHAEhF/AAAqYgfACAV8QMApCJ+AIBUxA8AkIr4AQBSET8AQCri\n",
              "BwBIRfwAAKmIHwAgFfEDAKQifgCAVMQPAJCK+AEAUhE/AEAq4gcASEX8AACpiB8AIBXxAwCkIn4A\n",
              "gFTEDwCQivgBAFIRPwBAKuIHAEhF/AAAqYgfACAV8QMApCJ+AIBUxA8AkIr4AQBSET8AQCriBwBI\n",
              "pVQURVHuIXZFP64qxVU12hAA2tIh9zaUewRHfgCAXMQPAJCK+AEAUhE/AEAq4gcASEX8AACpiB8A\n",
              "IBXxAwCkIn4AgFTEDwCQivgBAFIRPwBAKuIHAEhF/AAAqYgfACAV8QMApPKF4mfbtm3xxhtvtPUs\n",
              "AADtrtXx8+yzz0a/fv1i3LhxERGxZMmSmDRpUpsPBgDQHlodP7/4xS9i4cKFsc8++0RERE1NTSxb\n",
              "tqzNBwMAaA+tjp+GhoY48MADm932pS99qc0GAgBoT62On27dusVHH30UpVIpIiJeeeWV2GOPPdp8\n",
              "MACA9tCltQ/49a9/HUcddVS8/fbbMWnSpHj66adjzpw57TEbAECba3X8HHXUUXHwwQfHU089FUVR\n",
              "xPTp0//jbTAAgF1Vq+MnIuKAAw6ICy64oK1nAQBod60+5+e5556L0aNHR8+ePaOysjK6d+8elZWV\n",
              "7TEbAECba/WRn6lTp8aNN94Yo0ePjs6dO7fHTAAA7abVR34qKyvj5JNPjr59+0afPn2aLp/nscce\n",
              "i0GDBkV1dXW88sorn7nNhx9+GDNmzGh225QpU2L+/PmtHREAYIdKRVEUrXnAjBkzok+fPnHaaae1\n",
              "+Pt9jjnmmDjrrLPijDPO2OE2tbW1UV1dHR9++GFrxmk3P64qxVU1fvoMANrSIfc2lHuE1h/5GTRo\n",
              "UFx44YWxxx57ROfOnaNTp06f+/bXJZdcEgsXLoxf/vKXcfjhh8eZZ54Zo0aNimHDhsVxxx0X69at\n",
              "i4iI888/PzZt2hTV1dUxatSoiIgYO3ZsPProoxERMXny5DjvvPPie9/7XhxwwAFxzjnnxAsvvBBj\n",
              "x46NAQMGxLRp05r2eeutt0ZNTU1UV1dHTU1NPP/885/7N23dujXq6uqaXRoaW7syAMDuoNVHfgYM\n",
              "GBB33XVXjBo1qln07LXXXjt8zNixY+PSSy+Nk046KT744IPYd999I+KTo0i1tbVxxx13fOaRn39/\n",
              "3OTJk2PlypUxf/786NSpUwwePDiGDh0af/rTn6K+vj4GDBgQ8+bNi6qqqmb7WLx4cUyePDlef/31\n",
              "Hc537bXXxvTp05vdNrxXxJ+Oc+QHANrSrnDkp9UnPPfu3TvGjx//hXc4Z86cuP/++2PLli2xZcuW\n",
              "6NWrV4sfe+KJJ0a3bt0iImLo0KFx9NFHR9euXaNr164xePDgWLVqVVRVVcWyZcvixhtvjPXr10eX\n",
              "Ll1i5cqVsXnz5h1+E/VVV13V7MhRRMRPv9XjC/+NAMCuq9Xx84Mf/CBmzZoVp556alOIRESLPu6+\n",
              "aNGimDlzZjz//PPRu3fvePzxx+Oaa65p8b7/fX+dO3f+j+vbt2+P+vr6mDhxYsyfPz9qamqirq4u\n",
              "evToEVu3bt1h/FRUVERFRUWz2zo76AMAHVKr4+fqq6+OiE/O5SmVSlEURZRKpWho+N8PY23YsCG6\n",
              "d+8e++yzT9TX18fs2bOb7qusrIzNmzdHfX39f/VDqVu2bIn6+vro27dvRETcfvvtX/i5AICOp9XH\n",
              "NxobG5suDQ0NTf9siQkTJsTAgQNj4MCBMWbMmKiurm66r2fPnnHWWWfFsGHDmk54/iIqKyvjhhtu\n",
              "iNGjR8ehhx7qF+cBgGZafcJzFj7qDgBtb1c44bnVr+6rVq2KY445Jvbff//o2bNn0wUAYHfQ6viZ\n",
              "OnVqTJ48Ob7yla/EggUL4uSTT47LL7+8PWYDAGhzrY6furq6OO2006JTp04xdOjQmD17dtMXEQIA\n",
              "7OpaHT9du3aNiIju3btHbW1tbN26Nf7xj3+0+WAAAO2h1R91P/LII2P9+vXx05/+tOnTVKeffnp7\n",
              "zAYA0Ob+q097vfnmm7Fx48YYMmRIW860S/BpLwBoe7vlp70iPvmun3feeSeKoojKyspYu3ZtW88F\n",
              "ANAuWv2217333huXXHJJdO3aNTp1+qSdSqVSvP/++20+HABAW2t1/Fx//fWxZMmSGDhwYHvMAwDQ\n",
              "rlr9tlevXr2EDwCw22p1/Jx00klx2223xfvvvx91dXVNFwCA3UGrP+316Xk+EdHqX3Xfnfi0FwC0\n",
              "vV3h016tPuensbGxPeYAANgpHNoAAFIRPwBAKuIHAEhF/AAAqYgfACAV8QMApCJ+AIBUxA8AkIr4\n",
              "AQBSET8AQCriBwBIRfwAAKm0+odNs/jK0ZfFIbfeWu4xAIA25sgPAJCK+AEAUhE/AEAq4gcASEX8\n",
              "AACpiB8AIBXxAwCkIn4AgFTEDwCQivgBAFIRPwBAKuIHAEhF/AAAqYgfACAV8QMApCJ+AIBUxA8A\n",
              "kIr4AQBSET8AQCriBwBIRfwAAKmIHwAgFfEDAKQifgCAVMQPAJCK+AEAUhE/AEAq4gcASEX8AACp\n",
              "iB8AIBXxAwCkIn4AgFTEDwCQivgBAFIRPwBAKuIHAEhF/AAAqYgfACAV8QMApCJ+AIBUxA8AkIr4\n",
              "AQBSET8AQCriBwBIRfwAAKmIHwAgFfEDAKQifgCAVMQPAJCK+AEAUhE/AEAq4gcASEX8AACpiB8A\n",
              "IBXxAwCkIn4AgFTEDwCQivgBAFIRPwBAKuIHAEhF/AAAqZSKoijKPcSu6MtH18Tep3+33GMAQIfy\n",
              "1o9nlHsER34AgFzEDwCQivgBAFIRPwBAKuIHAEhF/AAAqYgfACAV8QMApCJ+AIBUxA8AkIr4AQBS\n",
              "ET8AQCriBwBIRfwAAKmIHwAgFfEDAKQifgCAVMQPAJCK+AEAUhE/AEAq4gcASEX8AACpiB8AIBXx\n",
              "AwCkIn4AgFTEDwCQym4dP6VSKT788MNyjwEA7EbKHj/bt28v9wgAQCLtGj9nnnlmjBo1KoYNGxbH\n",
              "HXdcrFu3Lmpra2PvvfeOK6+8MkaOHBmzZs2KdevWxamnnhqjR4+OoUOHxtVXX930HKtWrYrjjjsu\n",
              "ampqYtiwYTFr1qxm+/jtb38bI0aMiEMOOSQefPDBz903AEC7xs9tt90WS5cujZdffjnGjBkT1157\n",
              "bUREbNy4MaqqquLFF1+MSy+9NM4+++y46KKL4oUXXohly5bF0qVL46GHHoqGhoY444wz4pZbbokl\n",
              "S5bE4sWL484774wlS5Y07aNUKsWyZcviqaeeiosvvjhqa2s/d9+fZevWrVFXV9fsEg1FO64MAFAu\n",
              "XdrzyefMmRP3339/bNmyJbZs2RK9evWKiIiuXbvGpEmTIiLi448/jmeeeSbee++9psd99NFHsXLl\n",
              "yli5cmW8+uqrcfrppzfdt2nTpnjttdeipqYmIiKmTJkSEREDBgyII488Mp577rno37//Dvf9WW66\n",
              "6aaYPn16s9u6Dti/bRYBANiltFv8LFq0KGbOnBnPP/989O7dOx5//PG45pprIiJizz33jE6dPjno\n",
              "VBSfHGFZvHhxdOvWrdlzvPrqq9GzZ89Yvnx5i/dbKpU+d9+f5aqrropp06Y1u23/ieNbvE8AYPfR\n",
              "bm97bdiwIbp37x777LNP1NfXx+zZsz9zuy9/+csxbty4mDFjRtNt77zzTrz11lsxcODAqKysjHvu\n",
              "uafpvtWrV8c///nPpuuf3ldbWxsLFy6MMWPGtHjfn6qoqIjKyspml+hc+m/+fABgF9Vu8TNhwoQY\n",
              "OHBgDBw4MMaMGRPV1dU73PbBBx+M1atXx5AhQ2Lo0KExceLEWL9+fXTp0iWeeOKJeOSRR2LYsGFR\n",
              "VVUV5557bmzevLnpsQ0NDTFixIg46qijYubMmdG/f/9W7RsAyKVUfPq+E818+eia2Pv075Z7DADo\n",
              "UN768Yz/faN2Vvbv+QEA2JnEDwCQivgBAFIRPwBAKuIHAEhF/AAAqYgfACAV8QMApCJ+AIBUxA8A\n",
              "kIr4AQBSET8AQCriBwBIRfwAAKmIHwAgFfEDAKQifgCAVMQPAJCK+AEAUhE/AEAq4gcASEX8AACp\n",
              "iB8AIBXxAwCkIn4AgFS6lHuAXdV5VWPi1h/PKPcYAEAbc+QHAEhF/AAAqYgfACAV8QMApCJ+AIBU\n",
              "xA8AkIr4AQBSET8AQCriBwBIRfwAAKmIHwAgFfEDAKQifgCAVMQPAJCK+AEAUhE/AEAq4gcASEX8\n",
              "AACpiB8AIBXxAwCkIn4AgFTEDwCQivgBAFIRPwBAKuIHAEhF/AAAqYgfACAV8QMApCJ+AIBUxA8A\n",
              "kEqXcg+wK9q6dWv89a9/jYaGhujcuXO5x0mjoaEhXnjhhRg9erR138msfXlY9/Kx9uWxM9a9X79+\n",
              "8bOf/exztykVRVG0y953Y3V1ddGjR4/YuHFjVFZWlnucNKx7+Vj78rDu5WPty2NXWXdvewEAqYgf\n",
              "ACAV8QMApCJ+PkNFRUX85je/iYqKinKPkop1Lx9rXx7WvXysfXnsKuvuhGcAIBVHfgCAVMQPAJCK\n",
              "+AEAUkkdP6tWrYrDDz88DjnkkKipqYlXX331M7e7++674+CDD44DDzwwpk6dGtu2bdvJk3YsLVn3\n",
              "efPmxejRo2Pw4MFRVVUVV1xxRTQ2NpZh2o6lpf/NR0QURRHjx4+Pvffee+cN2EG1dN1feeWVGDt2\n",
              "bAwaNCgGDRoUjzzyyE6etONpydo3NjbGtGnTYvDgwTFs2LAYN25crF69ugzTdhyXXHJJ9O/fP0ql\n",
              "UixfvnyH25Xt9bVIbNy4ccU999xTFEVRPPTQQ8WoUaP+Y5u//e1vxX777Ve8++67RWNjY3HCCScU\n",
              "s2bN2smTdiwtWfcXX3yxeOONN4qiKIrNmzcXRxxxRNNj+OJasvafuuWWW4opU6YUPXr02DnDdWAt\n",
              "WfePP/64OOCAA4qFCxcWRVEU27dvL95///2dOWaH1JK1/8tf/lKMHj26qK+vL4qiKK6//vrilFNO\n",
              "2ZljdjgLFiwo3nzzzaJfv37FsmXLPnObcr6+po2f9957r+jevXuxbdu2oiiKorGxsfjqV79arFq1\n",
              "qtl2N998c/GTn/yk6frcuXOLI444YqfO2pG0dN3/fxdddFHxm9/8ZidM2HG1Zu1XrFhRjBkzpli9\n",
              "erX4+S+1dN3/8Ic/FGeccUY5RuywWrr2jz76aDF8+PCirq6uaGxsLH7+858Xl112WTlG7nA+L37K\n",
              "+fqa9m2vN998M/bbb7/o0uWT33YtlUrRt2/fWLt2bbPt1q5dG/369Wu63r9////YhpZr6br/u3Xr\n",
              "1sWf//znOP7443fWmB1SS9d+27ZtMXXq1Jg9e7YffGwDLV331157LSoqKuL444+P6urqOOuss+KD\n",
              "Dz4ox8gdRkvX/oQTToixY8fG1772tdhvv/3imWeeieuuu64cI6dSztfXtPHD7qGuri5OOOGEuOKK\n",
              "K2LUqFHlHieF6dOnx8SJE2PQoEHlHiWV7du3x9NPPx2zZ8+OZcuWRZ8+feKCCy4o91gpLF26NFas\n",
              "WBFvv/12vPPOO/Hd7343zj///HKPRTtKGz/f+MY34t13343t27dHxCcnd65duzb69u3bbLu+ffvG\n",
              "mjVrmq7X1tb+xza0XEvXPSJi06ZNMWHChDjxxBNj2rRpO3vUDqela79gwYK4/fbbo3///vGd73wn\n",
              "6urqon///o5CfEGt+X/NuHHjok+fPlEqlWLSpEmxePHicozcYbR07e+7776mk/s7deoUZ599dsyf\n",
              "P78cI6dSztfXtPHTu3fvGDlyZDzwwAMREfHwww/H17/+9TjooIOabffDH/4wHn/88Vi3bl0URRF3\n",
              "3HFHnH766eUYuUNo6bp/9NFHMWHChJgwYUJcffXV5Ri1w2np2i9cuDDWrFkTtbW1sWjRoqisrIza\n",
              "2trYd999yzH2bq+l637qqafGkiVLoq6uLiIinnzyyRg+fPhOn7cjaenaDxgwIObNmxf19fUREfHE\n",
              "E0/EkCFDdvq82ZT19XWnnFm0i3r99deLb3/728XBBx9cHHroocXLL79cFEVRnHvuucVjjz3WtN2d\n",
              "d95ZDBgwoBgwYEBxzjnnNH0igC+mJet+ww03FF26dCmGDx/edLnhhhvKOXaH0NL/5j/197//3QnP\n",
              "baCl637fffcVVVVVxdChQ4sJEyYUa9euLdfIHUZL1n7Lli3FlClTim9+85vF0KFDi+9///tNnzbl\n",
              "iznvvPOKPn36FJ07dy569+5dHHjggUVR7Dqvr37bCwBIJe3bXgBATuIHAEhF/AAAqYgfACAV8QMA\n",
              "pCJ+AIBUxA8AkIr4AQBSET8AQCriBwBIRfwAAKn8X0ADczX29vO8AAAAAElFTkSuQmCC\n",
              "\">\n",
              "      </div>\n",
              "      <script type=\"text/javascript\">\n",
              "        (() => {\n",
              "          const chartElement = document.getElementById(\"chart-658c65ca-6b6e-45db-90e0-ff3b5c7848a2\");\n",
              "          async function getCodeForChartHandler(event) {\n",
              "            const chartCodeResponse =  await google.colab.kernel.invokeFunction(\n",
              "                'getCodeForChart', [\"chart-658c65ca-6b6e-45db-90e0-ff3b5c7848a2\"], {});\n",
              "            const responseJson = chartCodeResponse.data['application/json'];\n",
              "            await google.colab.notebook.addCell(responseJson.code, 'code');\n",
              "          }\n",
              "          chartElement.onclick = getCodeForChartHandler;\n",
              "        })();\n",
              "      </script>\n",
              "      <style>\n",
              "        .colab-quickchart-chart-with-code  {\n",
              "            display: block;\n",
              "            float: left;\n",
              "            border: 1px solid transparent;\n",
              "        }\n",
              "\n",
              "        .colab-quickchart-chart-with-code:hover {\n",
              "            cursor: pointer;\n",
              "            border: 1px solid #aaa;\n",
              "        }\n",
              "      </style>"
            ]
          },
          "metadata": {}
        },
        {
          "output_type": "display_data",
          "data": {
            "text/plain": [
              "<google.colab._quickchart_helpers.SectionTitle at 0x7a4659222020>"
            ],
            "text/html": [
              "<h4 class=\"colab-quickchart-section-title\">Values</h4>\n",
              "<style>\n",
              "  .colab-quickchart-section-title {\n",
              "      clear: both;\n",
              "  }\n",
              "</style>"
            ]
          },
          "metadata": {}
        },
        {
          "output_type": "display_data",
          "data": {
            "text/plain": [
              "from matplotlib import pyplot as plt\n",
              "df['marks'].plot(kind='line', figsize=(8, 4), title='marks')\n",
              "plt.gca().spines[['top', 'right']].set_visible(False)"
            ],
            "text/html": [
              "      <div class=\"colab-quickchart-chart-with-code\" id=\"chart-9da9824a-bb13-46e5-9bd0-f765e56a0414\">\n",
              "        <img style=\"width: 180px;\" src=\"data:image/png;base64,iVBORw0KGgoAAAANSUhEUgAAApAAAAFuCAYAAAA2xSikAAAAOXRFWHRTb2Z0d2FyZQBNYXRwbG90\n",
              "bGliIHZlcnNpb24zLjcuMSwgaHR0cHM6Ly9tYXRwbG90bGliLm9yZy/bCgiHAAAACXBIWXMAAA9h\n",
              "AAAPYQGoP6dpAAA9bklEQVR4nO3deVTVBf7/8dcFBDdAAUEErorivuDCFWssyxanMhsrBWwbTWf6\n",
              "NUs1U83MN2tqmmqWmpymaUZTWwW1LCtbppqypsKL4r7vF5TFlZ0L3Pv5/XGJNDcuApd77/NxDufk\n",
              "536QN59z+/D0fRVMhmEYAgAAABopwNMDAAAAwLsQkAAAAHALAQkAAAC3EJAAAABwCwEJAAAAtxCQ\n",
              "AAAAcAsBCQAAALcQkAAAAHALAQkAAAC3EJAA0ALGjx+vhx56yNNjAECLICABAADgFgISAJpRTU2N\n",
              "p0cAgBZHQALwK+PHj9fPf/5zTZs2TWFhYYqPj1dWVpY2bdqksWPHKjQ0VBaLRTt27JAkLVu2TKNG\n",
              "jVLXrl0VFRWl66+/Xvv27Wv4/V566SXFx8fr+eefV69evRQZGXnGj/uHP/xBiYmJ2rx5swzD0MMP\n",
              "P6z4+HiFhoYqPj5ev/vd71rl8weA5kBAAvA7r776qu6++26dOHFC999/v2bOnKnf/OY3yszM1NGj\n",
              "R5WQkKBf/OIXkqTQ0FAtXLhQR44c0fbt22UYhjIyMk75/QoLC7VhwwZt3rxZRUVFpzxWXV2t6dOn\n",
              "6/3331d2draGDBmiTz75RAsXLtTXX3+tsrIybdy4UZMmTWq1zx8ALhQBCcDv3HjjjbrkkksUEBCg\n",
              "O+64Q5WVlbrlllvUq1cvBQcHKyMjQ1arVZI0ceJEDR8+XIGBgYqKitJjjz2m7OxslZWVnfJ7Pvvs\n",
              "s+rcubM6duzYcKyoqEiXXXaZHA6HPvvsM0VHR0uSgoODVV1drS1btqiqqkoREREaO3Zs610AALhA\n",
              "BCQAvxMbG9vw3506dTrjsW8DcdWqVZowYYJiY2MVFhamSy+9VJJUXFzccH50dPQp4fit9957T5s3\n",
              "b9Yf//hHtW/fvuH4pZdeqj//+c966qmnFBMTo0suuUQff/xx836SANCCCEgAOIuamhpdd911mjhx\n",
              "onbu3KnS0lKtWrVKkmQYRsN5AQFnvpXOnDlTDzzwgMaNG6dNmzad8tiMGTO0atUqHT58WDfccIMm\n",
              "TZp02lYTANqqIE8PAABtVU1NjaqqqtS1a1eFhobq0KFDbn9vxzlz5qhbt2667LLLtGLFCl188cWy\n",
              "Wq2qrq5WSkqK2rdvr9DQUJlMJgUGBrbQZwIAzYsNJACcRefOnfXiiy/q8ccfV+fOnfXDH/5QN998\n",
              "s9u/z09/+lO98MILuu666/T++++rvLxc9913n6Kjo9WlSxfNmzdPb7311hlfBgeAtshknPw6DAAA\n",
              "AHAebCABAADgFgISAAAAbiEgAQAA4BYCEgAAAG4hIAEAAOAWAhIAAABuISABAADgllYNyLlz57bm\n",
              "hwMAAEALaNWAPHDgQGt+OAAAALQAXsIGAACAWwhIAAAAuIWABAAAgFsISAAAALiFgAQAAIBbCEgA\n",
              "AAC4hYAEAACAWwhIAAAAuMXtgPzwww81evRoDRs2TKmpqdqwYUNLzAUAAIA2Ksidk48fP67p06fr\n",
              "iy++0ODBg/Xll19q+vTp2rx5c0vNBwAAgDbGrQ3knj17FBkZqcGDB0uSxo0bJ5vNptzc3BYZDgAA\n",
              "AG2PWwGZlJSko0eP6uuvv5YkvfPOOyorK9P+/ftPO9dut6u0tPSUN4fD0SxDA4CnlVTV6r6l6/Xw\n",
              "is3acqjE0+MAQKty6yXs8PBwvfHGG/rtb3+r8vJyjR07VoMGDVJQ0Om/zZNPPqlHH330lGOpqakX\n",
              "Ni0AtAEllbW6deFqbcx3heMr3xzQsPhwpVvMmjS8hzqHuHVrBQCvYzIMw2jqO9vtdnXv3l05OTnq\n",
              "27fvaY/Z7fZTjs2ZM0dz585t6ocDAI87UVmjWxas1uaDpYroFKyxiZH6z9ZC1Tpct9JOwYG6PjlO\n",
              "GRazhsaHe3haAGgZbv8xuaCgQLGxsZKkP/zhD7r88stPi0dJCgkJUUhIyCnHAgMDmzgmAHjeicoa\n",
              "TX9xtbYcKlVkp2AtnpWq/t1DdbTcruW5B5VptWnvkQplWm3KtNo0uEeY0i1mTU7uodD27Tw9PgA0\n",
              "G7c3kLNmzdKXX36puro6jR07Vs8995y6dOnSqPe977779MwzzzRlTgDwqOMVrnjcWlCqqM6ueOwX\n",
              "E3rKOYZhaPW+Y8q02vTB5kLV1DklSR3aBer64T2UZklQckIXmUwmT3wKANBsLuglbHcRkAC80bH6\n",
              "eNxWH4+Zs1KV9L14/L7jFTVavs61ldxdXN5wfED3UGWMMWtycpzCO7CVBOCdCEgAOIdjFTXKmJ+t\n",
              "7YVliuocosxZY84bjyczDENrDxzXYqtNKzcWyF6/lWzfLkDXDu2hjDEJGmnuylYSgFchIAHgLI6W\n",
              "2zX9xdXaXlimbqEhypyVqr7RnZv8+5VU1uqtdfnKtOZpR1FZw/F+MZ2VlmLWlJFx6tIxuDlGB4AW\n",
              "RUACwBkcKbdr+vzV2lHUPPF4MsMwtC7vhDJX2/TuxkOqrnVtJYODAnTt0FilW8xK6cVWEkDbRUAC\n",
              "wPccKbcrY362dhaVKzo0RJmzU9WnW/PE4/eVVtdqxfpDWrzapm0FpQ3H+3TrpHSLWVNGxiuiE1tJ\n",
              "AG0LAQkAJzlc5orHXcXliglzbR4TWygeT2YYhjbmlyjTatM7Gw6pssb1k7uCAwM0cUh3pVkSNDYx\n",
              "kq0kgDaBgASAesVl1cqYv1q7i8vVPay9MmenqndUp1afo9xep3fWH1Km1aZNB7/7MYm9ozopLSVB\n",
              "N46KV1TnkHP8DgDQsghIAJArHtPnZWvP4QrFhrdX5qxU9fJAPH7f5oOureSK9YdUbq+TJLULNOmq\n",
              "Qd2VbjHroj6RCghgKwmgdRGQAPxecWm10ue74rFHuGvz2DPS8/F4sgp7nd7beEiZ1jytzzvRcNwc\n",
              "0VHTUhJ08+h4RYe299yAAPwKAQnArxWVujaPe4+44jFr9liZIzt6eqxz2nqoVFk5Nr2Ve1Bl9VvJ\n",
              "oACTrhgYo/QxZo3rG8VWEkCLIiAB+K2T4zGuSwdlzkpt8/F4sqoah1ZuKlCm1aa1B443HI/r0kFp\n",
              "KQmampKgmDC2kgCaHwEJwC8Vlrhett5XH49Zs1OVEOE98fh9OwrLlGm1aXluvkqrXVvJwACTLh8Q\n",
              "rXRLgi7tF61AtpIAmgkBCcDvFJRUKX1etvYfrVR8V9fm0Zvj8WTVtQ59sLlAmavzZN1/rOF4j/D2\n",
              "mpqSoKmjE9SjSwcPTgjAFxCQAPzKoRNVSp+frQP18Zg1O1XxXX0jHr9vd3GZsqx5ejM3X8crayVJ\n",
              "ASZpfP9opVvMuqx/NwUFBnh4SgDeiIAE4DcOnnBtHm3HKpUQ0UFZs8cqzg+2cdW1Dn20pVBZ1jx9\n",
              "s/dow/GYsBBNHe3aSvrKBhZA6yAgAfiF/OOVSp+frbxjVTJHdFTW7FS/fCl37+FyLcnJ07K1+TpW\n",
              "USNJMpmkS5K6Kd1i1oSB0WrHVhLAeRCQAHxe/vFKpc3LVv7xKvWM7KjMWf4ZjyerqXPq461FyrTa\n",
              "9L/dRxqOdwsN0c2j4pWWYvaqf5EOoHURkAB8Wt4x1+Yx/3iVekV2VObsVMWG+3c8ft+BoxXKysnT\n",
              "sjX5OlJubzg+LilK6RazrhgYo+AgtpIAvkNAAvBZecdcm8eDJ6rUO6qTMmelqns43xfxbGodTn26\n",
              "rUiLrXn6ctdhffvVIbJTsG4a7dpKeuJngwNoewhIAD7JdtS1eTx4okqJUZ20mHh0S96xSi1dk6cl\n",
              "OXkqLvtuK3lRn0ilWcy6enCMQoICPTghAE8iIAH4HNvRSqXN+0aHSqqV2M21eeQnsjRNncOp/24v\n",
              "VlZOnj7bUdywlezasZ1uGhWvNItZfbp19uyQAFpdkKcHAIDmdOBohdLmZaugpFp96uMxmnhssqDA\n",
              "AF01uLuuGtxdB09UaWlOnpauyVNBSbXmf7lP87/cJ0vvCGVYzJo4pLvat2MrCfgDNpAAfMb+I654\n",
              "LCytj8fZqYoOJR6bW53DqVU7DyvTmqf/bi+Ss/6rSHiHdpoyMk7pFrP6xYR6dkgALYoNJACfsO9I\n",
              "hdLr4zEpurMWz0pVt9AQT4/lk4ICAzRhYIwmDIxRQUmVlq3J15KcPB08UaVFX+3Xoq/2a3TPrkq3\n",
              "mHXN0Fh1CGYrCfgaNpAAvN7ew+VKn5+tolI78eghDqehL3cdVqbVpk+2FctRv5YMbR+kKSPilD7G\n",
              "rAHdwzw8JYDmwgYSgFfbc7hc6fOyVVxmV78YVzxGdSYeW1tggEnj+0drfP9oFZdWa9nafGXl2JR3\n",
              "rEovf3NAL39zQCPMXZSeYtZ1w2PVMZgvP4A3YwMJwGvtLi5XxnxXPA7oHqrX7xyjSOKxzXA6DX21\n",
              "54gyrTb9Z0uR6r7dSoYEafKIHkpLMWtIXLiHpwTQFPwREIBX2l3setn6MPHYZgUEmDQuqZvGJXXT\n",
              "4TK73szNV5bVpv1HK/Vatk2vZds0LD5c6RazJg3voc4hfEkCvAUbSABeZ3dxmdLmrdaRclc8Lp6V\n",
              "qohOwZ4eC43gdBrK3ntUmTl5+nBzgWodri9BnYIDdX1yD6VbzBoaFy6TyeThSQGcC3/cA+BVdhWV\n",
              "KX1+to6U12hQbJhev3OMuhKPXiMgwKSL+kbpor5ROlo+SMtzDyrTatPeIxXKtOYp05qnwT3ClG4x\n",
              "a3JyD4W2b+fpkQGcARtIAF5jZ1GZ0udl62hFjQb3CNNrM4lHX2AYhqz7jinTatP7mwtVU+eUJHVo\n",
              "F6hJw2OVbjErOaELW0mgDWEDCcAr7CgsU8b87+Lx9TvHqEtH4tEXmEwmjUmM1JjESD1SUaPl61xb\n",
              "yd3F5Vq6Jl9L1+RrQPdQpVvMumFEnMI7sJUEPI0NJIA2b3thqTLmr9axihoNjQvXqzMtxKOPMwxD\n",
              "aw8c12KrTSs3Fshev5Vs3y5A1w7toYwxCRpp7spWEvAQAhJAm7atoFQZ87N1vLJWw+LD9eqMMQrv\n",
              "yAbKn5RU1urt9a6t5PbCsobjSdGdlW4xa8rIOP5AAbQyAhJAm7X1UKmmv+iKx+Hx4Xpl5hhevvRj\n",
              "hmFoXd4JZVltendDgapqHZKk4KAAXTOku9ItZll6R7CVBFoBAQmgTdpyqETTX1ytE5W1Gp7QRa/M\n",
              "sBCPaFBaXasV6w8pc7VNWwtKG44nduukDItZU0bG862dgBZEQAJoczYfdMVjSVWtkhO66JWZFoXx\n",
              "7VxwBoZhaNPBEmVabVqx/pAqa+q3koEBunpId6VbEjQ2MZKtJNDMCEgAbcrJ8TjC3EUvzyAe0Tjl\n",
              "9jq9s/6QMq02bTpY0nC8d1QnpaUk6MZR8fycdKCZEJAA2oxN+SWa/mK2SqvrNLI+HvlG0miKzSdt\n",
              "JcvtdZKkdoEmXTXI9XclL+oTqYAAtpJAUxGQANqEjfkndMuLq1VaXadRPbvq5RkWfjYyLliFvU7v\n",
              "bTykTGue1uedaDhujuioaSkJunl0vKJD23tuQMBLEZAAPG5D3gndsmC1yqrrNLpnV71EPKIFbCso\n",
              "VZbVpuXrDqqs2rWVDAowacLAaKVbzBqX1E2BbCWBRiEgAXjUOttx3bbAqjJ7nSy9IrTwxynEI1pU\n",
              "VY1DKzcVKNNq09oDxxuOx3XpoLSUBN08OkHdw9lKAudCQALwmFzbcd3+bTz2jtCiO1LUiXhEK9pZ\n",
              "VKZMq03Lcw+qpKpWkhQYYNJl/aOVMSZBl/aLZisJnAEBCcAj1h44rtsXWlVur9OY3hFaSDzCg6pr\n",
              "Hfpgc4EyV+fJuv9Yw/Ee4e01NSVBU0cnqEeXDh6cEGhbCEgArW7tgWO6fWGOyu11Sk10xWPHYOIR\n",
              "bcPu4jJlWfP0Zm6+jle6tpIBJml8f9fflbysfzcFBQZ4eErAswhIAK1qzf5jun2hVRU1Do1NjNSC\n",
              "O0YTj2iTqmsd+mhLobKsefpm79GG4zFhIZo62rWVTIjo6MEJAc8hIAG0mpz9x3RHfTxe1CdSC25P\n",
              "UYfgQE+PBZzX3sPlWpKTpzfW5utoRY0kyWSSLknqpnRLgiYMjFE7tpLwIwQkgFZh3XdMdyyyqrLG\n",
              "oR/0jdL820YTj/A6NXVOfby1SJlWm/63+0jD8ajOIZo6Ol5pKWaZI9lKwve5/cel999/XyNHjlRy\n",
              "crKGDBmil19+uSXmAuBDVu892hCP45Ki9OLtxCO8U3BQgK4dFqvX7hyjVfeP1/8b30dRnUN0pNyu\n",
              "f36+R5f85TPd8uJqrdxYoJo6p6fHBVqMWxtIwzAUGRmpzz//XMOGDdP+/fs1YMAAHT58WKGhoed9\n",
              "fzaQgP/J3ntUP16Uo6paVzzOv2202rcjHuE7ah1OfbqtSIutefpy12F9+1U1slOwbqrfSvaO6uTZ\n",
              "IYFm5vbfXDeZTDpx4oQkqbS0VJGRkQoJ4YfTAzjd13uOaOZLa1RV69Al/bpp3q2jiEf4nHaBAZo4\n",
              "JFYTh8Qq71illq7J05KcPBWX2fXvVXv171V7NTYxUuljzLp6cIxCgvh/AN7PrYA0mUxasmSJpkyZ\n",
              "ok6dOun48eNavny5goODTzvXbrfLbrefcszhcFzYtAC8xte7j2jGyzmqrnXq0n7d9G/iEX4gIaKj\n",
              "fnVVf/1yQpL+u71YWTl5+nxHsb7Ze1Tf7D2qrh3b6caR8UqzmNU3urOnxwWazK2XsOvq6nTFFVfo\n",
              "scce0yWXXKKcnBxdf/312rRpk6Kiok459/e//70effTRU46lpqbqm2++aZ7JAbRZX+0+opn18XhZ\n",
              "/2564RbiEf7r4IkqLc3J09I1eSooqW44bukdoQyLWROHdOf/D3gdtwJyzZo1ysjI0M6dOxuOpaSk\n",
              "6IknntCVV155yrln2kDOmTNHc+fOvcCRAbRl/9vlikd7nVOXD4jWC7eM5CU7QJLDaWjVzmItXp2n\n",
              "/24vkrP+q294h3aaMjJO6Raz+sWc/98TAG2BWy9hJyQkqKCgQNu2bdPAgQO1e/du7dmzR/379z/t\n",
              "3JCQkNP+bmRgIF9EAF/2xc7DmvXKGtnrnJowIFr/JB6BBoEBJl0+IEaXD4hRYUm1lq3JU1ZOng6e\n",
              "qNKir/Zr0Vf7NapnV6VbzLp2aCzfqQBtmlsBGRMTo3nz5mnq1KkKCAiQ0+nUP/7xD5nN5paaD4CX\n",
              "WFUfjzV1Tl0xMEbPTx9BPAJn0T28vX4+IUn/77K++nLXYWVabfpkW7HWHjiutQeO69F3t2jKiDil\n",
              "WcwaGBvm6XGB0/CNxAFcsM93FGv2q2tVU+fUlYNi9HzGSAUH8VM5AHcUl1Zr2dp8ZeXYlHesquF4\n",
              "ckIXZVjMum54LD/2E20GAQnggny2o1g/eWWtahxOXTUoRv8gHoEL4nQa+mrPEWVabfrPliLV1f9l\n",
              "yc4hQbphRA+lpZg1JC7cw1PC3/FHGQBN9tn2Yv3kVVc8ThzcXc9ljODnAQMXKCDApHFJ3TQuqZsO\n",
              "l9n1Zm6+sqw27T9aqdeybXot26Zh8eFKt5g1aXgPdQ7hSzlaHxtIAE3y6bYi3fVarmocTv1wSHf9\n",
              "PZ14BFqK02koe99RZVrz9NHmQtU4XD8msVNwoK5P7qF0i1lD48JlMpk8PCn8BX9sAeC2T7YW6a7X\n",
              "16rWYeiaod01N414BFpSQIBJF/WJ0kV9onS03K7luQeVmWPT3sMVyrTmKdOap0GxYUofY9bk5B4K\n",
              "a9/O0yPDx7GBBOCWj7cW6f/Vx+O1w2L17LRk4hHwAMMwZN13TJlWm97fXKiaOtdWskO7QE0aHqt0\n",
              "i1nJCV3YSqJFsIEE0GgfbSnUzxbnqtZh6Lr6eAwiHgGPMJlMGpMYqTGJkfp9ZY1rK2m1aVdxuZau\n",
              "ydfSNfka0D1U6RazbhgRp/AObCXRfNhAAmiUDze74rHOaWjS8B7629ThxCPQxhiGobUHjmux1aaV\n",
              "Gwtkr99Ktm8XoGuH9lC6JUGjenZlK4kLRkACOK8PNxfoZ4vXqc5paHJyDz19M/EItHUllbV6e71r\n",
              "K7m9sKzheFJ0Z6VbzJoyMk5dOgZ7cEJ4MwISwDm9v6lAP89cJ4fT0A3JPfT01GQFBrC9ALyFYRha\n",
              "n3dCmVab3t1QoKpahyQpOChA1wzprnSLWZbeEWwl4RYCEsBZrdxYoF9kueJxyog4/eXm4cQj4MVK\n",
              "q2u1Yv0hZa62aWtBacPxxG6dlJ5i1o2j4hXRia0kzo+ABHBG7208pF9mrXfF48g4/eUm4hHwFYZh\n",
              "aNPBEmVabVqx/pAqa+q3koEBunpId6VbEjQ2MZKtJM6KgARwmnc2HNK9S1zxeNOoeP3pxmHEI+Cj\n",
              "yu11enfDIWVabdqYX9JwvFdkR6VZzLppVLyiOod4cEK0RQQkgFOsWH9Q9y5ZL6ch3TwqXk8Rj4Df\n",
              "2HzSVrLcXidJahdo0lWDuivNkqCL+0QpgPsBREACOMnJ8ThtdIKenDKULxaAH6qw12nlxgItttq0\n",
              "Pu9Ew/GEiA5KSzHr5tHxig5t77kB4XEEJABJ0lvr8vWrpRvkNKS0lAQ98SPiEYC0raBUWVablq87\n",
              "qLJq11YyKMCkCQOjlW4xa1xSN16l8EMEJAAtz83Xr5ZtkGFI6ZYE/fEG4hHAqapqHFq5qUBZVpvW\n",
              "HDjecDyuSwelpSTo5tEJ6h7OVtJfEJCAn3tjbb7uf8MVjxljzHp88hDiEcA57SwqU6bVpuW5B1VS\n",
              "VStJCjBJlw+IUcaYBF3aL5qtpI8jIAE/tmxNnh54c6MMQ7ol1azHriceATReda1DH24u1GKrTdZ9\n",
              "xxqOx4a319TRCZqWkqAeXTp4cEK0FAIS8FNLc/L04HJXPN6a2lOPTR7M93wD0GS7i8uVZbXpzdx8\n",
              "Ha/8bis5vn+00lISdPmAaH4Eqg8hIAE/tCTHpt8s3yTDkG4f21O/v554BNA87HUOfbSlSJmrbfpm\n",
              "79GG4zFhIZo6OkFTRycoIaKjBydEcyAgAT+TabXpt8s3SZLuuKiXHpk0iHgE0CL2HalQVo5Nb6zJ\n",
              "19GKGkmSySRdktRN6ZYETRgYo3ZsJb0SAQn4kcWrbfrdW654/PHFvfTwdcQjgJZXU+fUx1uLlJVj\n",
              "05e7jjQcj+ocoqmj45WWYpY5kq2kNyEgAT/x+uoD+r+3NkuSZlzcW3OuG0g8Amh1B45WaElOnpau\n",
              "ydeRcnvD8R/0jVK6xawrB8UoOIitZFtHQAJ+4NXsA5rztise7/xBb/3ftcQjAM+qdTj16bYiZVrz\n",
              "9MWuw/q2RiI7BeumUfFKs5jVO6qTZ4fEWRGQgI975Zv9enjFFknSrHG99btriEcAbUvesUotXZOn\n",
              "JTl5Ki77bis5NjFS6WPMunpwjEKCAj04Ib6PgAR82Mtf79cj77ji8SeXJOo3PxxAPAJos+ocTn22\n",
              "47AyrTZ9vqNYzvpC6dqxnW4c6dpK9o3u7NkhIUkK8vQAAFrGoq/26dF3t0qSfnppHz04sT/xCKBN\n",
              "CwoM0JWDYnTloBgdPFGlpTl5WromTwUl1Xrxf/v04v/2ydI7QumWBP1wSKzat2Mr6SlsIAEftPB/\n",
              "+/TYe654vGt8Hz1wNfEIwDs5nIZW7SzW4tV5+mxHsRz1a8nwDu00ZWSc0i1m9YsJ9fCU/ocNJOBj\n",
              "Xvxyrx5fuU2SdPdlffTrq4hHAN4rMMCkywfE6PIBMSosqdayNXnKysnTwRNVWvTVfi36ar9G9eyq\n",
              "dItZ1w6NVYdgtpKtgQ0k4ENOjsefX95X913Zj3gE4HMcTkNf7jqsLGuePt5W1LCVDG0fpB+NcG0l\n",
              "B8aGeXhK38YGEvAR877Yoyfe3y5J+sXlfXUv8QjARwUGmDS+f7TG949WcWm1lq3NV1aOTXnHqvTK\n",
              "Nwf0yjcHlJzQRRkWs64bHquOweROc2MDCfiAf6/aoyc/cMXjLyck6d4r+3l4IgBoXU6noa/3HFWm\n",
              "1aaPthSqrn4r2TkkSJOTeyjdYtaQuHAPT+k7SHLAy73w+R796UNXPN5zRZLuuYJ4BOB/AgJM+kFS\n",
              "lH6QFKXDZXa9mZuvLKtN+49W6vXVNr2+2qZh8eFKSzHr+uQe6hxCAl0INpCAF3v+s936y0c7JEn3\n",
              "XtFPv7wiycMTAUDb4XQayt53VJnWPH20uVA1DqckqWNwYMNWcmhcOH/dpwnIb8BLnRyPv7qyn34+\n",
              "gXgEgJMFBJh0UZ8oXdQnSscqarQ8N1+LrTbtPVyhTGueMq15GhQbpvQxZk1O7qGw9u08PbLXYAMJ\n",
              "eKHnPt2lpz/eKUm6/+r+uvuyvh6eCAC8g2EYsu47pqycPK3cVKCaOtdWskO7QE0aHqs0i1kjErqw\n",
              "lTwPAhLwMnM/2aW/fUI8AsCFOlFZo+W5B5VptWlXcXnD8QHdQ5VuMeuGEXEK78BW8kwISMCLPPvJ\n",
              "Tj37yS5J0oMTB+iu8X08PBEAeD/DMJRrO67Fq/P03sZDstdvJUOCAnTtsFhlWMwa1bMrW8mTEJCA\n",
              "FzAMQ3/7ZJf+/qkrHn/7wwH6yaXEIwA0t5LKWr293rWV3F5Y1nA8Kbqz0ixm3TgyTl06BntwwraB\n",
              "gATaOMMw9LePd+rv/90tSfrdNQM0+xLiEQBakmEYWp93QplWm97dUKCqWockKTgoQNcM6a50i1mW\n",
              "3hF+u5UkIIE2zDAMPfPxTj1XH48PXTtQd45L9PBUAOBfyqprtWL9IS1ebdPWgtKG44ndOik9xawb\n",
              "R8UropN/bSUJSKCNMgxDf/3PDj3/2R5JxCMAeJphGNp0sESZ1jy9s/6gKmrqt5KBAbp6SHelWxI0\n",
              "NjHSL7aSBCTQBhmGoT9/tEMvfO6Kx4evG6QZP+jt4akAAN8qt9fp3Q2HlGm1aWN+ScPxXpEdlWYx\n",
              "66ZR8YrqHOLBCVsWAQm0MYZh6E8f7tC/Vrni8feTBumOi4lHAGirNh8sUVaOTW+vO6Rye50kKSjA\n",
              "pKsGxyjdYtbFfaIUEOBbW0kCEmhDDMPQUx9s17+/2CtJevT6wbr9ol6eHQoA0CiVNXV6b0OBFltt\n",
              "Wp93ouF4QkQHpaWYdfOoeEWHtffcgM2IgATaCMMw9MT72zT/y32SpMcmD9ZtY3t5digAQJNsKyhV\n",
              "ltWm5esOqqzatZUMDDDpioHRSreYNS6pmwK9eCtJQAJtgGEY+uPKbXrxf654/MMNQ3Rrak8PTwUA\n",
              "uFBVNQ6t3FSgLKtNaw4cbzge16WDpqUkaOroBHUP976tpFsBefToUU2YMKHh15WVldq7d6+Ki4sV\n",
              "ERFx3vcnIIHTGYahP7y3TQu/csXjH380RNPHEI8A4Gt2FpUp02rT8tyDKqmqlSQFmKTLB8QoY0yC\n",
              "Lu0X7TVbyQvaQP71r3/VqlWr9O677zbqfAISOJVhGHrsva1a9NV+SdITPxqqjDFmzw4FAGhR1bUO\n",
              "fbi5UIutNln3HWs4HhveXlNHJ2haSoJ6dOngwQnP74ICcuDAgXryySd1ww03NOp8AhL4jmEYevTd\n",
              "rXrp6/2SpKemDFWahXgEAH+yu7hcS3JsemNtvo5XfreVHN8/WmkpCbp8QLSCAgM8POXpmhyQX3/9\n",
              "taZMmaL8/HwFBQWd9rjdbpfdbj/l2Jw5czR37tymTQr4EMMw9Mg7W/TKNwdkMrnicVoK8QgA/spe\n",
              "59BHW4qUudqmb/YebTgeExaitBSz7rkiqU19g/ImJ+2CBQt02223nTEeJenJJ59UeHj4KW9Wq7XJ\n",
              "gwK+wjAMPbziu3j805RhxCMA+LmQoEBdP7yHMmen6rNfj9dPLk1UZKdgFZXatflgSZuKR6mJG8jy\n",
              "8nLFxsYqJydHAwYMOOM5bCCB0zmdhh5+Z7Ney7bJZJL+fOMw3Tw6wdNjAQDaoJo6pz7eWqTu4SEa\n",
              "1fP8/1i5NZ15fXgeS5Ys0fDhw88aj5IUEhKikJBTf4RPYGBgUz4c4BOcTkMPrdisxatd8fiXm4br\n",
              "plHxnh4LANBGBQcF6NphsZ4e44ya9BL2ggULNHPmzOaeBfBZTqeh/3t7U0M8Pn0z8QgA8F5N2kB+\n",
              "/fXXzT0H4LOcTkO/e2uTsnLyFGCSnp46XD8aQTwCALxXkwISQOM4nYZ+s3yjlq7JV4BJ+tu0ZE1O\n",
              "jvP0WAAAXBACEmghTqehB9/cqGVriUcAgG8hIIEW4KiPxzfW5iswwKRnpyVr0vAenh4LAIBmQUAC\n",
              "zczhNHT/Gxu0PPegAgNMmpuWrOuGEY8AAN9BQALNyOE0dP+yDVq+zhWPf08b0Wa/BQMAAE1FQALN\n",
              "xOE09Kul6/X2+kMKCjDpufQR+uFQ4hEA4HsISKAZ1Dmc+tWyDVpRH4//yBihiUOIRwCAbyIggQtU\n",
              "53Dq3qUb9O6Gb+NxpCYO6e7psQAAaDEEJHAB6hxO3bNkvd7bWKB2gSY9nzFSVw0mHgEAvo2ABJqo\n",
              "1uHUPVnrtXKTKx7/OX2UrhwU4+mxAABocQQk0AS1Dqd+mbVO728qVLtAk16YPkpXEI8AAD9BQAJu\n",
              "qnU49YvMdfpgc6GCAwP0wi0jNWEg8QgA8B8EJOCGmjqnfp6Zq4+2FCk4MED/vnWULhsQ7emxAABo\n",
              "VQQk0Eg1dU79bHGu/rO1SMFB9fHYn3gEAPgfAhJohJo6p+5enKuP6+Nx3q2jNJ54BAD4KQISOA97\n",
              "nUN3v56rT7YVKzgoQPNvG61L+3Xz9FgAAHgMAQmcg73Oof/3Wq4+3V6skPp4vIR4BAD4OQISOAt7\n",
              "nUN3vZar/9bH44LbU/SDpChPjwUAgMcRkMAZVNc6dNdra/XZjsNq384Vjxf3JR4BAJAISOA01bUO\n",
              "/eTVtVq10xWPC29P0UXEIwAADQhI4CTVtQ7NfnWtvvg2Hu9I0UV9iEcAAE5GQAL1qmsdmvXKGn25\n",
              "64g6tAvUwjtSNLZPpKfHAgCgzSEgAZ0ajx2DA7XojhSNSSQeAQA4EwISfq+qxhWP/9vtiseXfmyR\n",
              "pXeEp8cCAKDNIiDh16pqHJr5co6+3nNUnYID9dIMi1J6EY8AAJwLAQm/VVlTp5kvrdE3e13x+PIM\n",
              "i0YTjwAAnBcBCb9UWVOnGS/lKHvvMXUOCdLLM1I0qifxCABAYxCQ8DuVNXX68aIcrd73bTxaNKpn\n",
              "V0+PBQCA1yAg4Vcq7HX68Us5su47ptCQIL0806KRZuIRAAB3EJDwG+X2Ov14kVU5+48rNCRIr8y0\n",
              "aATxCACA2whI+IVye53uWGjVmgPHFdo+SK/OHKPkhC6eHgsAAK9EQMLnlVXX6o5FOVp74LjC2gfp\n",
              "tTvHaFh8F0+PBQCA1yIg4dPKqmt1+0Krcm0nFNY+SK/fmaqh8eGeHgsAAK9GQMJnldbH4zrbCYV3\n",
              "aKfX7xyjIXHEIwAAF4qAhE8qra7VbQusWp93Ql06ttNrM4lHAACaCwEJn1NSVavbFlq1oT4eX79z\n",
              "jAb3IB4BAGguBCR8SklVrW5bsFob8kvUtWM7vX5nqgb1CPP0WAAA+BQCEj6jpLJWty5crY35JYro\n",
              "FKzX7xyjgbHEIwAAzY2AhE84UVmjWxas1uaDpYroFKzFs8ZoQHfiEQCAlkBAwuudqKzR9BdXa8uh\n",
              "UkV2CtbiWanq3z3U02MBAOCzCEh4teMVrnjcWlCqqM6ueOwXQzwCANCSCEh4rWP18bitPh4zZ6Uq\n",
              "iXgEAKDFEZDwSscqapQxP1vbC8sU1TlEmbPGEI8AALQSAhJe52i5XdNfXK3thWXqFhqizFmp6hvd\n",
              "2dNjAQDgNwhIeJUj5XZNn79aO4qIRwAAPIWAhNc4Um5Xxvxs7SwqV3RoiDJnp6pPN+IRAIDWRkDC\n",
              "Kxwuc8XjruJyxYS5No+JxCMAAB4R4O472O12/exnP1NSUpKGDh2qW265pSXmAhoUl1UrvT4eu4e1\n",
              "V9bsscQjAAAe5PYG8je/+Y1MJpN27twpk8mkwsLClpgLkFQfj/OytedwhWLD2ytzVqp6RXXy9FgA\n",
              "APg1twKyoqJCCxYsUH5+vkwmkySpe/fuLTIYUFzq2jzuOVyhHuHtlTk7VT0jiUcAADzNrZew9+zZ\n",
              "o4iICD3xxBMaPXq0xo0bp08//fSM59rtdpWWlp7y5nA4mmVo+L6i0mqlzfsuHrNmjyUeAQBoI9wK\n",
              "yLq6Oh04cECDBg3SmjVr9Pe//13Tpk1TUVHRaec++eSTCg8PP+XNarU22+DwXUWlrpet9x6pUFyX\n",
              "DsqaPVbmyI6eHgsAANRzKyDNZrMCAgI0ffp0SdKIESPUu3dvbdq06bRzf/vb36qkpOSUN4vF0jxT\n",
              "w2cVlrg2j9/FYyrxCABAG+NWQEZFRWnChAn66KOPJEn79u3Tvn37NHDgwNPODQkJUVhY2ClvgYGB\n",
              "zTM1fFJBSZXS5n2jfUcqFN/VFY8JEcQjAABtjdv/Cvtf//qXZs6cqQcffFABAQH697//rbi4uJaY\n",
              "DX7k0Ikqpc/P1oGjlQ3xGN+VeAQAoC1yOyATExP12WeftcQs8FMHT1QpfV62bMcqlRDh+juPcV06\n",
              "eHosAABwFvwkGnhU/vFKpc/PVt6xKpkjOiprdqp6EI8AALRpBCQ8Jv94pdLmZSv/eJV6RnZU5izi\n",
              "EQAAb0BAwiPyjrk2j/nHq9QrsqMyZ6cqNpx4BADAGxCQaHV5x1ybx4MnqtQ7qpMyZ6Wqe3h7T48F\n",
              "AAAaya1v4wNcKNvR7+IxkXgEAMArsYFEq3HF4zc6VFKtxG6ueIwJIx4BAPA2BCRaxYGjFUqbl62C\n",
              "kmr1qY/HaOIRAACvRECixe0/4orHwtL6eJydquhQ4hEAAG9FQKJF7TtSofT6eEyK7qzFs1LVLTTE\n",
              "02MBAIALQECixew9XK70+dkqKrUTjwAA+BACEi1iz+Fypc/LVnGZXf1iXPEY1Zl4BADAFxCQaHa7\n",
              "i8uVMd8VjwO6h+r1O8cokngEAMBnEJBoVruLy5Q+f7UOE48AAPgsAhLNZleRKx6PlLvicfGsVEV0\n",
              "Cvb0WAAAoJkRkGgWrnjM1pHyGg2KDdPrd45RV+IRAACfREDigu0oLFPG/GwdrajR4B5hem0m8QgA\n",
              "gC8jIHFBvh+Pr985Rl06Eo8AAPgyAhJNtr2wVBnzV+tYRY2GxoXr1ZkW4hEAAD9AQKJJth4q1fQX\n",
              "s3W8slbD4sP16owxCu/YztNjAQCAVhDg6QHgfU6Ox+Hx4Xp1JvEIAIA/YQMJt2w5VKLpL67Wicpa\n",
              "DU/ooldmWBTegXgEAMCfEJBotM0HXfFYUlWr5IQuemWmRWHtiUcAAPwNL2GjUU6OxxFm4hEAAH/G\n",
              "BhLntSm/RNNfzFZpdZ1Gmrvo5RkWhRKPAAD4LQIS57Qh74RuXbBapdV1GtWzq16eYVHnEJ42AAD4\n",
              "M17CxlmtzzuhW+rjcTTxCAAA6lEDOKN1tuO6bYFVZfY6WXpFaOGPU4hHAAAgiYDEGeTajuv2b+Ox\n",
              "d4QW3ZGiTsQjAACox0vYOMXaA99tHscQjwAA4AwoAzRYe+CYbl+Yo3J7nVITI7TwjhR1DOYpAgAA\n",
              "TkUdQJK0Zv8x3b7Qqooah8YmRmrhHSnqEBzo6bEAAEAbxEvYUM7+Y7qtPh4v6kM8AgCAcyMg/Zx1\n",
              "n2vzWFnj0A/6RmnB7cQjAAA4N17C9mPZe49qxks5qqxxaFxSlObfNlrt2xGPAADg3AhIP/XNHlc8\n",
              "VtUSjwAAwD28hO2Hvt5zpCEeL+3XjXgEAABuYQPpZ77efUQzXs5Rda1T4/t3079uGUU8AgAAt7CB\n",
              "9CNf7T6iH7/kisfLiEcAANBEbCD9xP92HdHMl3Nkr3Pq8gHReuGWkQoJIh4BAID72ED6gS92Hm6I\n",
              "xysGEo8AAODCsIH0cat2HtasV9aops6pKwbG6PnpI4hHAABwQQhIH/b5jmLNfnWtauqcunJQjJ7P\n",
              "GKngIJbOAADgwlATPuqz7cWa/YorHq8eTDwCAIDmwwbSB/13e5F++mquahxOTRzcXc9ljFC7QOIR\n",
              "AAA0D6rCx3y67bt4/OEQ4hEAADQ/NpA+5JOtRbrr9bWqdRi6Zmh3zU0jHgEAQPMjIH3Ef7YU6u7F\n",
              "uap1GLp2WKyenZZMPAIAgBbhdmH06tVL/fv3V3JyspKTk7VkyZKWmAtu+OikeLxuWKzmEo8AAKAF\n",
              "NWkDuWTJEiUnJzfzKGiKDzcX6meLc1XnNDRpeA/9bepwBRGPAACgBVEaXuyDTQUN8Tg5mXgEAACt\n",
              "o0kbyNtuu02GYchiseipp55St27dTjvHbrfLbrefcszhcDRtSpzm/U0F+nnmOjmchm5I7qGnpyYr\n",
              "MMDk6bEAAIAfcHtd9cUXX2jjxo3Kzc1VVFSUbr/99jOe9+STTyo8PPyUN6vVesEDQ1q58bt4nDIi\n",
              "jngEAACtymQYhtHUdy4oKFC/fv1UVlZ22mNn2kDOmTNHc+fObeqHg6R3NxzSPUvWu+JxZJz+ctNw\n",
              "4hEAALQqt17CrqioUG1trbp06SJJyszM1IgRI854bkhIiEJCQk45FhgY2LQpIUl6Z8Mh3VsfjzeN\n",
              "itefbhxGPAIAgFbnVkAWFRXpxhtvlMPhkGEYSkxM1CuvvNJSs+EkK9Yf1L1L1stpSDePitdTxCMA\n",
              "APAQtwIyMTFR69ata6lZcBZvrzuo+5a64nHa6AQ9OWWoAohHAADgIXzPlzburXX5DfGYlkI8AgAA\n",
              "z+NHGbZhb67N16/f2CDDkNItCfrjDcQjAADwPDaQbdQbJ8Vjxhgz8QgAANoMArINWrYmT/fXx+Mt\n",
              "qWY9PnkI8QgAANoMXsJuY5bm5OnB5RtlGNKtqT312OTBMpmIRwAA0HYQkG3IkhybHnxzkyTp9rE9\n",
              "9fvriUcAAND2EJBtRKbVpt8ud8XjHRf10iOTBhGPAACgTSIg24DFq2363VuuePzxxb308HXEIwAA\n",
              "aLsISA97LfuAHnp7syRpxsW9Nee6gcQjAABo0whID3o1+4Dm1MfjnT/orf+7lngEAABtHwHpIa98\n",
              "s18Pr9giSZo1rrd+dw3xCAAAvAMB6QEvf71fj7zjisefXJKo3/xwAPEIAAC8BgHZyhZ9tU+PvrtV\n",
              "kvTTS/vowYn9iUcAAOBVCMhWtPB/+/TYe654vGt8Hz1wNfEIAAC8DwHZSl78cq8eX7lNknT3ZX30\n",
              "66uIRwAA4J0IyFZwcjz+/PK+uu/KfsQjAADwWgRkC5v3xR498f52SdIvLu+re4lHAADg5QjIFvTv\n",
              "VXv05AeuePzlhCTde2U/D08EAABw4QjIFvLC53v0pw9d8XjPFUm65wriEQAA+AYCsgU8/9lu/eWj\n",
              "HZKke6/op19ekeThiQAAAJoPAdnMTo7HX13ZTz+fQDwCAADfQkA2o+c+3aWnP94pSbr/6v66+7K+\n",
              "Hp4IAACg+RGQzWTuJ7v0t0+IRwAA4PsIyGbw7Cc79ewnuyRJD04coLvG9/HwRAAAAC2HgLwAhmHo\n",
              "b5/s0t8/dcXjb384QD+5lHgEAAC+jYBsIsMw9LePd+rv/90tSfrdNQM0+xLiEQAA+D4CsgkMw9Az\n",
              "H+/Uc/Xx+NC1A3XnuEQPTwUAANA6CEg3GYahv/5nh57/bI8k4hEAAPgfAtINhmHozx/t0Aufu+Lx\n",
              "4esGacYPent4KgAAgNZFQDaSYRj604c79K9Vrnj8/aRBuuNi4hEAAPgfArIRDMPQUx9s17+/2CtJ\n",
              "evT6wbr9ol6eHQoAAMBDCMjzMAxDT7y/TfO/3CdJemzyYN02tpdnhwIAAPAgAvIcDMPQH1du04v/\n",
              "c8XjH24YoltTe3p4KgAAAM8iIM/CMAz94b1tWviVKx7/+KMhmj6GeAQAACAgz8AwDD323lYt+mq/\n",
              "JOmJHw1VxhizZ4cCAABoIwjI7zEMQ4++u1Uvfb1fkvTUlKFKsxCPAAAA3yIgT2IYhh55Z4te+eaA\n",
              "TCZXPE5LIR4BAABORkDWMwxDD6/YolezXfH4pynDNDUlwdNjAQAAtDkEpCSn09DD72zWa9k2mUzS\n",
              "n28cpptHE48AAABn4vcB6XQaemjFZi1e7YrHv9w0XDeNivf0WAAAAG2WXwek02no/97epExrnkwm\n",
              "6embh2vKSOIRAADgXPw2IJ1OQ797a5OycvIUYJKenjpcPxpBPAIAAJyPXwak02noN8s3aumafAWY\n",
              "pL9NS9bk5DhPjwUAAOAV/C4gnU5DD765UcvWEo8AAABN4VcB6aiPxzfW5iswwKRnpyVr0vAenh4L\n",
              "AADAq/hNQDqchu5/Y4OW5x5UYIBJc9OSdd0w4hEAAMBdfhGQDqeh+5dt0PJ1rnj8e9oIXTss1tNj\n",
              "AQAAeKWApr7jokWLZDKZ9PbbbzfjOM3P4TT0q6XrtXzdQQUFmPSPdOIRAADgQjRpA7l//37Nnz9f\n",
              "qampzT1Ps6pzOPWrZRu0Yv0hVzxmjNDEIcQjAADAhXB7A+l0OnXnnXfqueeeU0hISEvM1CzqHE7d\n",
              "u/TkeBxJPAIAADQDtzeQzzzzjC6++GKNGjXqnOfZ7XbZ7fZTjjkcDnc/XJPUOZy6Z8l6vbexQO0C\n",
              "TXo+Y6SuGty9VT42AACAr3NrA7l582a9+eabeuihh8577pNPPqnw8PBT3qxWa5MHdcfOonJ9vLVI\n",
              "7QJN+uf0UcQjAABAMzIZhmE09uQXXnhBjz32WMNL14WFhQoLC9Ojjz6qu+6665Rzz7SBnDNnjubO\n",
              "ndsMY5/fV7uPqKrGoSsGxbTKxwMAAPAXbgXk940fP1733HOPbrjhhkadf9999+mZZ55p6ocDAABA\n",
              "G9Dkb+MDAAAA/3RB30j8888/b6YxAAAA4C3YQAIAAMAtBCQAAADcQkACAADALQQkAAAA3EJAAgAA\n",
              "wC0EJAAAANxCQAIAAMAtBCQAAADcQkACAADALRf0s7DdNWXKFPXq1atVPpbD4ZDVapXFYlFgYGCr\n",
              "fExvwHU5O67NmXFdzo5rc2Zcl7Pj2pwZ1+XsPHFtevbsqV/+8pfnPKdVA7I1lZaWKjw8XCUlJQoL\n",
              "C/P0OG0G1+XsuDZnxnU5O67NmXFdzo5rc2Zcl7Nrq9eGl7ABAADgFgISAAAAbiEgAQAA4BafDciQ\n",
              "kBA98sgjCgkJ8fQobQrX5ey4NmfGdTk7rs2ZcV3OjmtzZlyXs2ur18Zn/xENAAAAWobPbiABAADQ\n",
              "MghIAAAAuIWABAAAgFu8LiB37dqliy66SP369VNKSoq2bNlyxvMWLFigpKQk9enTR7NmzVJtbW2j\n",
              "HvNmjbk2//3vf2WxWDRo0CANHjxYDzzwgJxOpyRp//79CgwMVHJycsPbnj17WvvTaHaNuS6ff/65\n",
              "OnTocMrnXlVV1fC4Pz9nFi1adMp1iYqK0pQpUyT57nPmF7/4hXr16iWTyaT169ef9Tx/u8805rr4\n",
              "4z1Gaty18cf7TGOuiz/eY6qrq3XDDTeoX79+Gj58uK688krt3r37jOe+9957GjBggJKSkjRlyhSV\n",
              "lpY26rEWZ3iZyy67zFi0aJFhGIaxbNkyY/To0aeds3fvXiM2NtYoKCgwnE6nMWnSJOMf//jHeR/z\n",
              "do25Nrm5ucaePXsMwzCMqqoq4+KLL254n3379hnh4eGtNG3racx1+eyzz4zhw4ef8f39/TnzfYMH\n",
              "DzbeeOMNwzB89zmzatUqIy8vz+jZs6exbt26M57jj/eZxlwXf7zHGEbjro0/3mcac12+zx/uMVVV\n",
              "VcbKlSsNp9NpGIZhPPfcc8all1562nllZWVGdHS0sW3bNsMwDOPuu+82fv3rX5/3sdbgVQFZVFRk\n",
              "hIaGGrW1tYZhGIbT6TRiYmKMXbt2nXLen//8Z+MnP/lJw69XrlxpXHzxxed9zJs19tp839133208\n",
              "8sgjhmH45v+ojb0u57qx85z5TnZ2ttGtWzejpqbGMAzffM6c7Fxf9PzxPvMtd2LA1+8x39fUgOQ5\n",
              "4+Jv95hv5eTkGD179jzt+NKlS42rr7664ddbtmwx4uLizvtYa/Cql7Dz8vIUGxuroKAgSZLJZJLZ\n",
              "bJbNZjvlPJvNpp49ezb8ulevXg3nnOsxb9bYa3OywsJCvfHGG7ruuusajlVUVCglJUUjR47UY489\n",
              "JofD0eKztyR3rsuePXs0cuRIpaSk6J///GfDcZ4z31mwYIFuvfVWtWvXruGYrz1nGssf7zPu8od7\n",
              "jLv87T7jLn+9x8ydO1eTJ08+7fiZnhcFBQWqq6s752OtIahVPgranNLSUk2aNEkPPPCARo8eLUmK\n",
              "jY3VwYMHFR0drWPHjmnatGl6+umn9cADD3h42pY3cuRI5efnKzw8XPn5+brmmmsUFRWlqVOnenq0\n",
              "NqOiokJZWVnKzs5uOObPzxmcG/eY03GfOTd/vcc88cQT2r17tz799FNPj+IWr9pAJiQknFLXhmHI\n",
              "ZrPJbDafcp7ZbNaBAwcafr1///6Gc871mDdr7LWRpLKyMk2cOFGTJ0/Wfffd13A8JCRE0dHRkqSI\n",
              "iAjNmDFDX375Zet8Ai2ksdclLCxM4eHhkqT4+Hilp6c3fO48Z1yWLVumwYMHa9CgQQ3HfPE501j+\n",
              "eJ9pLH+6x7jDH+8z7vDHe8xf//pXLV++XB988IE6dux42uNnel58+8rRuR5rDV4VkNHR0Ro5cqRe\n",
              "e+01SdKbb76p+Ph49e3b95TzbrzxRr3zzjsqLCyUYRj617/+pbS0tPM+5s0ae23Ky8s1ceJETZw4\n",
              "UQ899NApjxUXFzf8qz+73a7ly5drxIgRrfMJtJDGXpeCgoKGfylaVlam9957r+Fz9/fnzLcWLFig\n",
              "mTNnnnLMF58zjeWP95nG8Ld7jDv88T7jDn+7xzzzzDPKzMzUxx9/rC5dupzxnIkTJyo3N1fbt2+X\n",
              "JP3zn/9seF6c67FW0Wp/27KZbN++3UhNTTWSkpKMUaNGGRs3bjQMwzBmzpxprFixouG8efPmGYmJ\n",
              "iUZiYqIxY8aMhr+Qe77HvFljrs3jjz9uBAUFGcOHD294e/zxxw3DMIw333zTGDx4sDFs2DBj0KBB\n",
              "xs9+9jOjurraY59Pc2nMdXnuueeMQYMGNXzujzzySMO/jjMM/37OfHte586djdLS0lPe31efM7Nn\n",
              "zzbi4uKMwMBAIzo62ujTp49hGNxnGnNd/PEeYxiNuzb+eJ9p7P9L/naPycvLMyQZiYmJDf+fWCwW\n",
              "wzAMY86cOcYLL7zQcO6KFSuM/v37G3369DEmT55snDhxolGPtTR+FjYAAADc4lUvYQMAAMDzCEgA\n",
              "AAC4hYAEAACAWwhIAAAAuIWABAAAgFsISAAAALiFgAQAAIBbCEgAAAC4hYAEAACAWwhIAAAAuIWA\n",
              "BAAAgFv+P9Sa6Ho+tdRoAAAAAElFTkSuQmCC\n",
              "\">\n",
              "      </div>\n",
              "      <script type=\"text/javascript\">\n",
              "        (() => {\n",
              "          const chartElement = document.getElementById(\"chart-9da9824a-bb13-46e5-9bd0-f765e56a0414\");\n",
              "          async function getCodeForChartHandler(event) {\n",
              "            const chartCodeResponse =  await google.colab.kernel.invokeFunction(\n",
              "                'getCodeForChart', [\"chart-9da9824a-bb13-46e5-9bd0-f765e56a0414\"], {});\n",
              "            const responseJson = chartCodeResponse.data['application/json'];\n",
              "            await google.colab.notebook.addCell(responseJson.code, 'code');\n",
              "          }\n",
              "          chartElement.onclick = getCodeForChartHandler;\n",
              "        })();\n",
              "      </script>\n",
              "      <style>\n",
              "        .colab-quickchart-chart-with-code  {\n",
              "            display: block;\n",
              "            float: left;\n",
              "            border: 1px solid transparent;\n",
              "        }\n",
              "\n",
              "        .colab-quickchart-chart-with-code:hover {\n",
              "            cursor: pointer;\n",
              "            border: 1px solid #aaa;\n",
              "        }\n",
              "      </style>"
            ]
          },
          "metadata": {}
        },
        {
          "output_type": "display_data",
          "data": {
            "text/plain": [
              "<google.colab._quickchart_helpers.SectionTitle at 0x7a4659223460>"
            ],
            "text/html": [
              "<h4 class=\"colab-quickchart-section-title\">Faceted distributions</h4>\n",
              "<style>\n",
              "  .colab-quickchart-section-title {\n",
              "      clear: both;\n",
              "  }\n",
              "</style>"
            ]
          },
          "metadata": {}
        },
        {
          "output_type": "stream",
          "name": "stderr",
          "text": [
            "<string>:5: FutureWarning: \n",
            "\n",
            "Passing `palette` without assigning `hue` is deprecated and will be removed in v0.14.0. Assign the `y` variable to `hue` and set `legend=False` for the same effect.\n",
            "\n"
          ]
        },
        {
          "output_type": "display_data",
          "data": {
            "text/plain": [
              "from matplotlib import pyplot as plt\n",
              "import seaborn as sns\n",
              "figsize = (12, 1.2 * len(df['name'].unique()))\n",
              "plt.figure(figsize=figsize)\n",
              "sns.violinplot(df, x='marks', y='name', inner='stick', palette='Dark2')\n",
              "sns.despine(top=True, right=True, bottom=True, left=True)"
            ],
            "text/html": [
              "      <div class=\"colab-quickchart-chart-with-code\" id=\"chart-5322f5e3-f547-4995-86b7-8cac3e20e84c\">\n",
              "        <img style=\"width: 180px;\" src=\"data:image/png;base64,iVBORw0KGgoAAAANSUhEUgAAA/EAAAFICAYAAAAYm34BAAAAOXRFWHRTb2Z0d2FyZQBNYXRwbG90\n",
              "bGliIHZlcnNpb24zLjcuMSwgaHR0cHM6Ly9tYXRwbG90bGliLm9yZy/bCgiHAAAACXBIWXMAAA9h\n",
              "AAAPYQGoP6dpAAAacElEQVR4nO3de5CV9X3H8c9Zrl5YEkBJUuuFBDewsC644KXFxFzUaCZxSKIm\n",
              "ELSiGdeqY6wdtbVGaxQ7NcYB/lATRo0JGXIhamLGJFURnGiFERSs8TauqVGIwZVFKksXT/9wsnEj\n",
              "aBZZzv7s6zVzRvZcnud7dp5hfPP8znMq1Wq1GgAAAKDfq6v1AAAAAMBfRsQDAABAIUQ8AAAAFELE\n",
              "AwAAQCFEPAAAABRCxAMAAEAhRDwAAAAUQsQDAABAIUQ8AAAAFELEAwAAQCFEPAAAABRCxAMAAEAh\n",
              "RDwAAAAUQsQDAABAIUQ8AAAAFELEAwAAQCFEPAAAABRCxBestbU1ra2ttR4DAACAXWRgrQdgx61b\n",
              "t67WIwAAALALORMPAAAAhRDxAAAAUAgRDwAAAIUQ8QAAAFAIEQ8AAACFEPEAAABQCBEPAAAAhRDx\n",
              "AAAAUAgRDwAAAIUQ8QAAAFAIEQ8AAACFEPEAAABQCBEPAAAAhRDxAAAAUAgRDwAAAIUQ8QAAAFAI\n",
              "EQ8AAACFEPEAAABQCBEPAAAAhRDxAAAAUAgRDwAAAIUQ8QAAAFAIEQ8AAACFEPEAAABQCBEPAAAA\n",
              "hRDxAAAAUAgRDwAAAIUQ8QAAAFAIEQ8AAACFEPEAAABQCBEPAAAAhRDxAAAAUIiiI75SqeTll1+u\n",
              "9RgAAACwS9Q84ru6umo9AgAAABShTyN+xowZaWlpSVNTU4477risXbs2bW1tec973pMLLrggkydP\n",
              "zvz587N27dqccMIJmTp1aiZOnJiLL764extPPvlkjjvuuEyZMiVNTU2ZP39+j31cffXVmTRpUg48\n",
              "8MB873vfe8t9AwAAQMn6NOKvvfbarFixIo888kimTZuWSy+9NEmyYcOGNDY25qGHHsq5556bk08+\n",
              "OX//93+fBx98MCtXrsyKFSvywx/+MFu3bs0Xv/jFfOMb38jy5cvzwAMP5IYbbsjy5cu791GpVLJy\n",
              "5crceeedOfvss9PW1vaW+96Wzs7OdHR09Lh1dnb24W8GAAAAem9gX2584cKFueWWW7J58+Zs3rw5\n",
              "o0aNSpIMGjQoM2fOTJJs2rQpd911V9atW9f9uldeeSWPP/54Hn/88Tz66KM56aSTuh/buHFj/uu/\n",
              "/itTpkxJkpx22mlJkjFjxuSII47I0qVLs//++29339syZ86cXHbZZT3u+9rXvvaW4Q8AAAC7Wp9F\n",
              "/H333Ze5c+fm/vvvz957753bb789l1xySZJk9913T13d64sAqtVqkuSBBx7I0KFDe2zj0UcfzYgR\n",
              "I7Jq1aq/eL+VSuUt970tF110Uc4777we9w0ZMuQv3icAAADsCn22nL69vT3Dhg3LyJEjs2XLllx/\n",
              "/fXbfN6ee+6ZI488MldddVX3fc8//3yee+65NDQ0pL6+PjfeeGP3Y0899VReeuml7p//+FhbW1uW\n",
              "LVuWadOm/cX7/qMhQ4akvr6+x03EAwAA0N/0WcQfc8wxaWhoSENDQ6ZNm5bm5ubtPvd73/tennrq\n",
              "qUyYMCETJ07M9OnTs379+gwcODA/+9nPsnjx4jQ1NaWxsTGzZ8/Oq6++2v3arVu3ZtKkSTnqqKMy\n",
              "d+7c7L///r3aNwAAAJSiUv3jenaKM3369CTJ4sWLazwJAAAAu0LNvyceAAAA+MuIeAAAACiEiAcA\n",
              "AIBCiHgAAAAohIgHAACAQoh4AAAAKISIBwAAgEKIeAAAACiEiAcAAIBCiHgAAAAohIgHAACAQoh4\n",
              "AAAAKISIBwAAgEKIeAAAACiEiAcAAIBCiHgAAAAohIgHAACAQoh4AAAAKISIBwAAgEKIeAAAACiE\n",
              "iAcAAIBCiHgAAAAohIgHAACAQoh4AAAAKISIBwAAgEKIeAAAACiEiAcAAIBCiHgAAAAohIgHAACA\n",
              "Qoh4AAAAKISIBwAAgEKIeAAAACjEwFoPwI4bPXp0rUcAAABgF6pUq9VqrYcAAAAA3p7l9AAAAFAI\n",
              "EQ8AAACFEPEAAABQCBEPAAAAhRDxAAAAUAgRDwAAAIUQ8QAAAFAIEQ8AAACFEPEAAABQCBEPAAAA\n",
              "hRDxAAAAUAgRDwAAAIUQ8QAAAFAIEQ8AAACFEPEAAABQCBEPAADAu1Zra2taW1trPcZOM7DWAwAA\n",
              "AEBfWbduXa1H2KmciQcAAIBCiHgAAAAohIgHAACAQoh4AAAAKISIBwAAgEKIeAAAACiEiAcAAIBC\n",
              "iHgAAAAohIgHAACAQoh4AAAAKISIBwAAgEKIeAAAACiEiAcAAIBCiHgAAAAohIgHAACAQoh4AAAA\n",
              "KISIBwAAgEKIeAAAACiEiAcAAIBCiHgAAAAohIgHAACAQoh4AAAAKMQORfz//u//5umnn97ZswAA\n",
              "AABvodcRv2TJkuy333458sgjkyTLly/PzJkzd/pgAAAAQE+9jvgLL7wwy5Yty8iRI5MkU6ZMycqV\n",
              "K3f6YAAAAEBPvY74rVu35oMf/GCP+wYPHrzTBgIAAAC2rdcRP3To0LzyyiupVCpJktWrV2e33Xbb\n",
              "6YMBAAAAPQ3s7Qv+5V/+JUcddVR+97vfZebMmfmP//iPLFy4sC9mAwAAAN6g1xF/1FFHZezYsbnz\n",
              "zjtTrVZz2WWXvWl5PQAAALDz9Trik+SAAw5Ia2vrzp4FAAAAeAu9/kz80qVLM3Xq1IwYMSL19fUZ\n",
              "NmxY6uvr+2I2AAAA4A16fSb+9NNPzxVXXJGpU6dmwIABfTETAAAAsA29jvj6+vp8/vOf74tZAAAA\n",
              "gLfQ6+X0n/vc53LLLbdky5YtfTHPNi1ZsiTNzc27bH8AAADQH/U64seNG5czzzwzu+22WwYMGJC6\n",
              "urp+tay+q6ur1iMAAABAn+h1xH/1q1/Nbbfdlvb29nR0dGTjxo3p6Ojo1TZ+/vOfp7m5ufs2dOjQ\n",
              "3HzzzTn66KPT0tKSxsbGfOlLX8qmTZu6X9PV1ZUzzzwzBx10UBobG7NixYokSVtbW97znvfkggsu\n",
              "yOTJkzN//vzcddddOeywwzJp0qQ0NjZmwYIFbzlPZ2dnOjo6etw6Ozt7+6sBAACAPtXriN97773z\n",
              "sY99LPX19dljjz26b71x7LHHZtWqVVm1alXOP//8jBs3LtOnT8/ChQuzYsWKrFmzJsOHD8+8efO6\n",
              "X/Ob3/wmJ598ch5++OGcffbZ+ed//ufuxzZs2JDGxsY89NBDOffcczN58uTcd999WblyZZYtW5Z/\n",
              "/dd/zXPPPbfdeebMmZPhw4f3uM2ZM6e3vxoAAADoU72+sN1nPvOZzJ8/PyeccEKGDh3aff+OfM3c\n",
              "3XffnUsvvTRLly7NHnvskX/7t3/LHXfcka6urmzYsCGHH35493M/9KEP5ZBDDkmSHHbYYbn66qu7\n",
              "Hxs0aFBmzpzZ/fP69esze/bsPPHEExk4cGDWr1+fNWvWZJ999tnmHBdddFHOO++8HvcNGTKk1+8H\n",
              "AAAA+lKvI/7iiy9OkpxzzjmpVCqpVqupVCrZunVrr7azZs2anHrqqbnjjjvygQ98IN/97ndz9913\n",
              "59577019fX3mzp2bu+++u/v5b/wHgwEDBvT47Pvuu++euro/LSo444wzcuyxx+bHP/5xKpVKJk+e\n",
              "nM2bN293liFDhoh2AAAA+r1eL6d/7bXXum9bt27t/m9v/O53v8vxxx+fG2+8MY2NjUmS9vb2jBo1\n",
              "KvX19dm4cWNuuumm3o7Wrb29Pfvtt18qlUqWLl2ahx9+eIe3BQAAAP1Fr8/E7wzf/va38+KLL+ar\n",
              "X/1q932XXXZZ/ud//icNDQ3Za6+9Mm3atDz77LM7tP2rrroqZ555Zi6//PI0Nzd3L8MHAACAklWq\n",
              "1Wq1Ny948sknc8455+Thhx/usUT9pZde2unDAQAAwDsxffr0JMnixYtrPMnO0evl9KeffnpOOeWU\n",
              "vPe97829996bz3/+8zn//PP7YjYAAADgDXod8R0dHTnxxBNTV1eXiRMn5vrrr8+tt97aB6MBAAAA\n",
              "b9TriB80aFCSZNiwYWlra0tnZ2f+8Ic/7PTBAAAAgJ56fWG7I444IuvXr89ZZ52Vgw8+OIMHD85J\n",
              "J53UF7MBAAAAb9DrC9u90X//939nw4YNmTBhws6cCQAAAHaK//cXtkte/674559/PtVqNfX19fnt\n",
              "b3+7s+cCAAAA/kyvl9PfdNNNOeecczJo0KDU1b3+bwCVSiW///3vd/pwAAAAwJ/0OuIvv/zyLF++\n",
              "PA0NDX0xDwAAALAdvV5OP2rUKAEPAAAANdDriD/++ONz7bXX5ve//306Ojq6bwAAAEDf6vXV6f/4\n",
              "Ofjk9c/CV6vVVCqVbN26dacPBwAAAO/Eu+3q9L3+TPxrr73WF3MAAAAAb2OHvmIOAAAA2PVEPAAA\n",
              "ABRCxAMAAEAhRDwAAAAUQsQDAABAIUQ8AAAAFELEAwAAQCFEPAAAABRCxAMAAEAhRDwAAAAUQsQD\n",
              "AABAIUQ8AAAAFELEAwAAQCFEPAAAABRCxAMAAEAhRDwAAAAUQsQDAABAIUQ8AAAAFELEAwAAQCEG\n",
              "1noAAAAA6CujR4+u9Qg7VaVarVZrPQQAAADw9iynBwAAgEKIeAAAACiEiAcAAIBCiHgAAAAohIgH\n",
              "AACAQoh4AAAAKISIBwAAgEKIeAAAACiEiAcAAIBCiHgAAAAohIgHAACAQoh4AAAAKISIBwAAgEKI\n",
              "eAAAACiEiAcAAIBCiHgAAAAohIgHAOjHWltb09raWusxAOgnBtZ6AAAAtm/dunW1HgGAfsSZeAAA\n",
              "ACiEiAcAAIBCiHgAAAAohIgHAACAQoh4AAAAKISIBwAAgEKIeAAAACiEiAcAAIBCiHgAAAAohIgH\n",
              "AACAQoh4AAAAKISIBwAAgEKIeAAAACiEiAcAAIBCiHgAAAAohIgHAACAQoh4AAAAKISIBwAAgEKI\n",
              "eAAAACiEiAcAAIBCiHgAAAAohIgHAACAQoh4AAAAKISIBwAAgEKIeAAAACiEiAcAAIBCiHgAAAAo\n",
              "hIgHAACAQoh4AAAAKISIBwAAgEKIeAAAACiEiAcAAIBC7JKIv+222zJu3Lg0Nzdn9erV23zOyy+/\n",
              "nKuuuqrHfaeddlruueeeXTEiAAAA9HuVarVa7eudfOpTn8qsWbPyxS9+cbvPaWtrS3Nzc15++eW+\n",
              "HgcAoBjTp09PkixevLjGkwDQH/T5mfhzzjkny5Ytyz/90z/l8MMPz4wZM9LS0pKmpqYcd9xxWbt2\n",
              "bZLkjDPOyMaNG9Pc3JyWlpYkyUc/+tHceuutSZJTTjklX/nKV/KJT3wiBxxwQE499dQ8+OCD+ehH\n",
              "P5oxY8bkvPPO697nNddckylTpqS5uTlTpkzJ/fff39dvEwAAAPrcwL7ewdy5c/PII4/k3HPPzfHH\n",
              "H58XX3wxe+21V5LkqquuyqWXXprrrrsu1113XZqbm7Nq1artbmv16tW55557UldXl/Hjx6e9vT2/\n",
              "+tWvsmXLlowZMyazZ89OY2NjvvzlL3dH/QMPPJBTTjklv/nNb7a73c7OznR2dva4b8iQIRkyZMg7\n",
              "/wUAAADATrLLL2y3cOHCtLS0ZMKECfn2t7/9ltH+5z772c9m6NChGTx4cCZOnJijjz46gwYNyh57\n",
              "7JHx48fnySefTJKsXLkyH/nIRzJhwoScccYZefzxx/Pqq69ud7tz5szJ8OHDe9zmzJnzTt8qAAAA\n",
              "7FR9fib+je67777MnTs3999/f/bee+/cfvvtueSSS/7i1w8dOrT7zwMGDHjTz11dXdmyZUumT5+e\n",
              "e+65J1OmTElHR0eGDx+ezs7O7Lbbbtvc7kUXXdRjOX4SZ+EBAADod3ZpxLe3t2fYsGEZOXJktmzZ\n",
              "kuuvv777sfr6+rz66qvZsmVLBg8evMP72Lx5c7Zs2ZJ99903STJv3ry3fY2l8wAAAJRgly6nP+aY\n",
              "Y9LQ0JCGhoZMmzYtzc3N3Y+NGDEis2bNSlNTU/eF7XZEfX19vv71r2fq1Kk5+OCD39E/CAAAAEB/\n",
              "sku+Yg4AgB3jK+YAeKNdfmE7AAAAYMeIeAAAACiEiAcAAIBCiHgAAAAohIgHAACAQoh4AAAAKISI\n",
              "BwAAgEKIeAAAACiEiAcAAIBCiHgAAAAohIgHAACAQoh4AAAAKISIBwAAgEKIeAAAACiEiAcAAIBC\n",
              "iHgAAAAohIgHAACAQoh4AAAAKISIBwAAgEKIeAAAACiEiAcAAIBCiHgAAAAohIgHAACAQoh4AAAA\n",
              "KISIBwAAgEKIeAAAACiEiAcAAIBCiHgAAAAohIgHAACAQoh4AAAAKISIBwAAgEKIeAAAACjEwFoP\n",
              "AADA9o0ePbrWIwDQj1Sq1Wq11kMAAAAAb89yegAAACiEiAcAAIBCiHgAAAAohIgHAACAQoh4AAAA\n",
              "KISIBwAAgEKIeAAAACiEiC9YZ2dnLr300nR2dtZ6FNgmxyj9nWOUEjhO6e8co/R377ZjtFKtVqu1\n",
              "HoId09HRkeHDh2fDhg2pr6+v9TjwJo5R+jvHKCVwnNLfOUbp795tx6gz8QAAAFAIEQ8AAACFEPEA\n",
              "AABQCBFfsCFDhuRrX/tahgwZUutRYJsco/R3jlFK4Dilv3OM0t+9245RF7YDAACAQjgTDwAAAIUQ\n",
              "8QAAAFAIEQ8AAACFEPGFu/HGG1OpVHLrrbfWehR4k/333z8NDQ1pbm5Oc3NzFi1aVOuRoIfOzs6c\n",
              "ddZZGTt2bCZOnJiZM2fWeiTotn79+u6/P5ubm3PggQdm4MCBeemll2o9GnT7+c9/nsmTJ6e5uTkT\n",
              "JkzIzTffXOuRoIc777wzLS0taWpqyqGHHpqHH3641iO9YwNrPQA7rq2tLd/61rdy6KGH1noU2K5F\n",
              "ixalubm51mPANl144YWpVCp54oknUqlUsnbt2lqPBN1GjhyZVatWdf989dVX5957782IESNqNxS8\n",
              "QbVazcyZM7NkyZI0NTWlra0tH/7whzN9+vQMGzas1uNB2tvbM2PGjCxdujSNjY1ZtmxZZsyYkTVr\n",
              "1tR6tHfEmfhCvfbaaznttNMyb968d81XJQDsSps2bcqCBQtyxRVXpFKpJEne97731Xgq2L4FCxZk\n",
              "9uzZtR4DeqhUKnn55ZeTJB0dHRk5cqT/N6XfePrppzNy5Mg0NjYmSaZNm5bf/va3eeihh2o82Tsj\n",
              "4gt1zTXX5G/+5m9y8MEH13oUeEuzZs3KxIkTM3v27Lz44ou1Hge6Pf300xkxYkSuvPLKtLS0ZNq0\n",
              "abnrrrtqPRZs069//eu0t7fn05/+dK1HgW6VSiWLFi3K9OnTs99+++Vv//Zvc/PNN2fw4MG1Hg2S\n",
              "JGPHjs369evz61//Okly++23Z+PGjWlra6vtYO+QiC/QmjVr8uMf/zgXX3xxrUeBt7R06dI88sgj\n",
              "eeihhzJq1KicfPLJtR4JunV1deXZZ5/N+PHjs2LFisydOzcnnnhi1q1bV+vR4E0WLFiQWbNmZeBA\n",
              "n4Sk/+jq6srXv/71LF68OM8++2zuuuuufPnLX84f/vCHWo8GSZLhw4fnRz/6US666KIcfPDB+eUv\n",
              "f5nx48cX/3dp2dP/P7Vs2bK0tbVl7NixSZK1a9fmK1/5Sl544YW0trbWeDr4k3333TdJMmjQoJx7\n",
              "7rk58MADazwR/Mm+++6burq6zJgxI0kyadKkHHDAAVm9enVGjx5d4+ngT1555ZX84Ac/yPLly2s9\n",
              "CvSwatWqPP/88zniiCOSJFOmTMk+++yTlStX5pOf/GSNp4PXHXnkkTnyyCOTvH5B2/e9730ZP358\n",
              "jad6Z5yJL1Bra2teeOGFtLW1pa2tLYceemhuuOEGAU+/smnTpu7PyCXJ97///UyaNKl2A8GfGTVq\n",
              "VD7+8Y/nF7/4RZLkmWeeyTPPPJNx48bVeDLoadGiRTnooIPy4Q9/uNajQA9//dd/nRdeeCGPPfZY\n",
              "kuSpp57K008/nYaGhhpPBn/ywgsvdP/58ssvz8c+9rF86EMfquFE75wz8UCfWLduXT73uc9l69at\n",
              "qVarGTNmTL7zne/Ueizo4brrrsvs2bNzwQUXpK6uLtdff33+6q/+qtZjQQ8LFizI6aefXusx4E1G\n",
              "jx6dG264ISeccELq6ury2muvZf78+d0r8aA/uOSSS7Js2bJ0dXXlsMMOy4IFC2o90jtWqVar1VoP\n",
              "AQAAALw9y+kBAACgECIeAAAACiHiAYBd4pRTTsm1115b6zEAoGgiHgDoc11dXbUeAQDeFUQ8ANBD\n",
              "pVLJFVdckUMOOST7779/br311syZMyctLS0ZO3ZslixZkuT1MD/66KPT0tKSxsbGfOlLX8qmTZuS\n",
              "JEuWLEljY2Nmz56d5ubm/OQnP+mxj2XLlmX8+PFZsWJFXnzxxRx11FGZOHFimpqa8nd/93e7+i0D\n",
              "QDFEPADwJnvuuWf+8z//MwsWLMjMmTPz/ve/PytWrMiVV16Zf/zHf0ySDBgwIAsXLsyKFSuyZs2a\n",
              "DB8+PPPmzevexmOPPZZZs2Zl1apV+cIXvtB9/6JFi3L22WfnjjvuSEtLS7773e/mgAMOyOrVq/PI\n",
              "I4/kG9/4xi5/vwBQCt8TDwC8yYknnpgkaWlpyaZNm3LSSSclSaZOnZonn3wySVKtVvPNb34zd9xx\n",
              "R7q6urJhw4Ycfvjh3dsYM2ZMPvKRj/TY7i233JIBAwbknnvuyXvf+94kyaGHHppvfvOb+Yd/+Icc\n",
              "ccQROeaYY3bFWwSAIjkTDwC8ydChQ5O8frb9z3/+4+fbFy5cmLvvvjv33ntvVq9enfPPPz+bN2/u\n",
              "3saee+75pu02NTXlpZdeyurVq7vvO+yww7Jq1aoccsghWbx4caZMmZKtW7f22XsDgJKJeABgh7S3\n",
              "t2fUqFGpr6/Pxo0bc9NNN73taw466KD89Kc/zamnnpo777wzSfLMM89kzz33zAknnJB58+bliSee\n",
              "yCuvvNLH0wNAmSynBwB2yKxZs3LbbbeloaEhe+21V6ZNm5Znn332bV83bty4/OIXv8ixxx6bK6+8\n",
              "Mh0dHbnmmmu6z/L/+7//e4YPH74L3gEAlKdSrVartR4CAAAAeHuW0wMAAEAhRDwAAAAUQsQDAABA\n",
              "IUQ8AAAAFELEAwAAQCFEPAAAABRCxAMAAEAhRDwAAAAUQsQDAABAIUQ8AAAAFELEAwAAQCH+D+yj\n",
              "PqYY4pT9AAAAAElFTkSuQmCC\n",
              "\">\n",
              "      </div>\n",
              "      <script type=\"text/javascript\">\n",
              "        (() => {\n",
              "          const chartElement = document.getElementById(\"chart-5322f5e3-f547-4995-86b7-8cac3e20e84c\");\n",
              "          async function getCodeForChartHandler(event) {\n",
              "            const chartCodeResponse =  await google.colab.kernel.invokeFunction(\n",
              "                'getCodeForChart', [\"chart-5322f5e3-f547-4995-86b7-8cac3e20e84c\"], {});\n",
              "            const responseJson = chartCodeResponse.data['application/json'];\n",
              "            await google.colab.notebook.addCell(responseJson.code, 'code');\n",
              "          }\n",
              "          chartElement.onclick = getCodeForChartHandler;\n",
              "        })();\n",
              "      </script>\n",
              "      <style>\n",
              "        .colab-quickchart-chart-with-code  {\n",
              "            display: block;\n",
              "            float: left;\n",
              "            border: 1px solid transparent;\n",
              "        }\n",
              "\n",
              "        .colab-quickchart-chart-with-code:hover {\n",
              "            cursor: pointer;\n",
              "            border: 1px solid #aaa;\n",
              "        }\n",
              "      </style>"
            ]
          },
          "metadata": {}
        }
      ]
    },
    {
      "cell_type": "code",
      "source": [],
      "metadata": {
        "id": "D17y06FAXzrz"
      },
      "execution_count": null,
      "outputs": []
    }
  ]
}