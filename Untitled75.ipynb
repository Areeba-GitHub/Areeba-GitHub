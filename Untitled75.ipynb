{
  "nbformat": 4,
  "nbformat_minor": 0,
  "metadata": {
    "colab": {
      "provenance": [],
      "authorship_tag": "ABX9TyOc51APmAWmRDAJCzCg51k7",
      "include_colab_link": true
    },
    "kernelspec": {
      "name": "python3",
      "display_name": "Python 3"
    },
    "language_info": {
      "name": "python"
    }
  },
  "cells": [
    {
      "cell_type": "markdown",
      "metadata": {
        "id": "view-in-github",
        "colab_type": "text"
      },
      "source": [
        "<a href=\"https://colab.research.google.com/github/Areeba-GitHub/Areeba-GitHub/blob/main/Untitled75.ipynb\" target=\"_parent\"><img src=\"https://colab.research.google.com/assets/colab-badge.svg\" alt=\"Open In Colab\"/></a>"
      ]
    },
    {
      "cell_type": "markdown",
      "source": [
        "# Notes\n",
        "\n",
        "**AI:**\n",
        "\n",
        "There are two types of AI:\n",
        "\n",
        "1.\tGeneral AI: it is more predefined. E.g: a printer can enhance with the writing fonts, colourful pictures with caption and designed borders at the same time.\n",
        "\n",
        "2. Narrow AI: it is less predefined. E.g: a printer that can only enhance writing fonts.\n",
        "\n",
        "AI consists of:\n",
        "\n",
        "•\tSense of Sight: Computer Vision.\n",
        "\n",
        "•\tSense of Texting: Natural Language Processing.\n",
        "\n",
        "•\tSense of Speaking: Speech AI.\n",
        "\n",
        "The Revolutions:\n",
        "\n",
        "1.\tHeat energy(Industrial Revolution)\n",
        "\n",
        "2. Electricity\n",
        "\n",
        "3.\tComputer\n",
        "\n",
        "4.\tAI (Artificial intelligence)\n",
        "\n",
        "•\tThe AI that is able to generate text, images, audios, videos are known as Generative AI based products. In simple words, it can call as Data product or AI products. E.g: ChatGPT\n",
        "\n",
        "Data Driven AI Trends:\n",
        "\n",
        "1. Machine learning: Machine learn the patterns of data through binary numbers        arranged in Matrices. The machine learn equations and classify the labels.\n",
        "\n",
        "2.\tDeep learning: it learns through Artificial Neural Networks. Artificial neural combines to form an equations. Every neural contains its own mathematical calculations which are getting performed.\n",
        "\n",
        "3.\tReinforcement learning: Agent learn through conditions of Reward and Punishment. For instance: Humans safe themselves from those things that are very dangerous as punishment but they like the things that are useful and important considered as rewards.\n",
        "\n",
        "4.\tData Science: Calculations of Machine Learning, Deep Learning, and Reinforcement Learning. It understands data and identifies which model is more accurate. It consists of:\n",
        "\n",
        "   * Computer Science: If we apply statistics to excel sheet, this is computer science.\n",
        "\n",
        "   * Math Statistics: The languages are understood by Math Statistics.\n",
        "\n",
        "   * Domain Knowledge: It is the professional knowledge.\n",
        "\n",
        "**Classification:**\n",
        "\n",
        "In different cases, there will be different classification shapes. For instance: there are dots and stars drawn on a whiteboard, and different shapes are drawn by everyone that is surrounded by all the dots and stars. In this case, there can be two types of Classification:\n",
        "\n",
        "1.\tProject Classification: If shape separate dots and stars completely.\n",
        "\n",
        "2.\tMiss Classification: If shape does not separate all of them.\n",
        "\n",
        "**Steps of Data Science:**\n",
        "\n",
        "Data —> Knowledge —> Decision —> Action\n",
        "\n",
        "**How Machine Learning works?**\n",
        "                                                         \n",
        "Training Data —> Algorithm —> Model\n",
        "\n",
        "New Data —> Model —> Prediction\n",
        "\n",
        "*Explanation:*\n",
        "\n",
        "•\tTraining Data : some samples to train models.\n",
        "\n",
        "•\tAlgorithms : Set of rules and instruction.\n",
        "\n",
        "•\tModel : Trained through Algorithms by the Training Data.\n",
        "\n",
        "•\tNew Data : Different Data from Training Samples to test the Model.\n",
        "\n",
        "•\tPrediction : Model gives predictions after classification of New Data.\n",
        "\n",
        "AI has three parts :-\n",
        "\n",
        " Dataset —> Learning Algorithms —> Prediction!\n",
        "\n",
        "*Explanation:*\n",
        "\n",
        "•\tDatasets : A dataset is a collection of curated data.\n",
        "\n",
        "* Images\n",
        "\n",
        "* Measurements\n",
        "\n",
        "* Text\n",
        "\n",
        "* Video Recordings\n",
        "\n",
        "•\tAlgorithm: we need to follow steps in Algorithms as we used ingredients and steps to make Biryani. Without steps, Biryani is not cooked.\n",
        "\n",
        "•\tPrediction: Algorithms predict movies in Netflix using chips that store history of our clicks.\n",
        "\n",
        "\n",
        "\n",
        "\n",
        "                                  \n",
        "\n",
        "\n",
        "  \n",
        "\n"
      ],
      "metadata": {
        "id": "r3QKs5d5tOdd"
      }
    },
    {
      "cell_type": "markdown",
      "source": [
        "# Python\n",
        "\n",
        "* Python is a beginner friendly and general purpose programming language which offers many uses\n",
        "such as Machine learning and Algorithms, Data Science e.t.c.\n",
        "\n",
        "* It is also case sensitive which means a is not equal to A, so be carefull!!!\n",
        "\n",
        "Data types:\n",
        "\n",
        "* String: any data in quotation.\n",
        "* Integers: all whole no.\n",
        "* Float: all decimal no.\n",
        "* Boolean: only True and False\n",
        "\n",
        "\n",
        "\n",
        "\n",
        "\n",
        "\n",
        "\n",
        "\n",
        "\n",
        "\n",
        "\n",
        "\n",
        "\n"
      ],
      "metadata": {
        "id": "YBPNp7Gs8WnK"
      }
    },
    {
      "cell_type": "code",
      "source": [
        "# In Python, functions are reusable and useful block that structure codes.\n",
        "print('hello') #print function helps to print data in the arguments.\n",
        "print(type('hello'))#type function helps to know the datatype of the data.\n",
        "print(len('hello'))#len function helps to know the length of data in arguments.\n",
        "\n",
        "\n"
      ],
      "metadata": {
        "id": "JpUGMbpEunvs",
        "colab": {
          "base_uri": "https://localhost:8080/"
        },
        "outputId": "4657045e-21a3-4378-d6a6-373e7abaa235"
      },
      "execution_count": null,
      "outputs": [
        {
          "output_type": "stream",
          "name": "stdout",
          "text": [
            "hello\n",
            "<class 'str'>\n",
            "5\n"
          ]
        }
      ]
    },
    {
      "cell_type": "code",
      "source": [
        "#variable = value\n",
        "name = \"Areeba\"\n",
        "print(name)"
      ],
      "metadata": {
        "colab": {
          "base_uri": "https://localhost:8080/"
        },
        "id": "9OJYx1k_ATNC",
        "outputId": "75d4c8ec-fd52-488f-da6e-911463b281cf"
      },
      "execution_count": null,
      "outputs": [
        {
          "output_type": "stream",
          "name": "stdout",
          "text": [
            "Areeba\n"
          ]
        }
      ]
    },
    {
      "cell_type": "code",
      "source": [
        "name = \"Areeba Fatima\"\n",
        "age = 11\n",
        "Class = 6\n",
        "print('My name is', name, \".\", 'I study in', Class, 'and I am ', age, 'years old')\n",
        "\n",
        "\n",
        "\n",
        "\n",
        "\n"
      ],
      "metadata": {
        "colab": {
          "base_uri": "https://localhost:8080/"
        },
        "id": "BTLC7sydCRvE",
        "outputId": "38cd30a4-1326-4c55-f70e-009c3aa6cc2f"
      },
      "execution_count": null,
      "outputs": [
        {
          "output_type": "stream",
          "name": "stdout",
          "text": [
            "My name is Areeba Fatima . I study in 6 and I am  11 years old\n"
          ]
        }
      ]
    },
    {
      "cell_type": "markdown",
      "source": [
        "# Lists\n",
        "\n",
        "List is a versatile data structure to store multiple data at a time in [  ]\n",
        "\n",
        "Syntax:-\n",
        "   Variable = [data, data, data]\n",
        "\n",
        "There are two types of list:\n",
        "\n",
        "Homogeneous list: with only one data type.\n",
        "Hetregenous list: with more than one data type\n",
        "\n",
        "\n",
        "\n",
        "\n",
        "\n",
        "\n"
      ],
      "metadata": {
        "id": "Z7QqmDIKEsU0"
      }
    },
    {
      "cell_type": "code",
      "source": [
        "#creating a list of one data type:\n",
        "list1 = [1,3,6,7,9]\n",
        "list2 = ['Areeba', 'Mariam', 'Zahra']\n",
        "list3 = [4.7, 8.8, 7.0, 6.9, 8.2, 2.0]\n",
        "print(list1)\n",
        "print(list2)\n",
        "print(list3)\n",
        "print(type(list1))\n",
        "print(type(list2))\n",
        "print(type(list3))\n",
        "print(len(list1))\n",
        "print(len(list2))\n",
        "print(len(list3))\n",
        "\n",
        "#creating a mixed-datatype list:\n",
        "list4 = ['Samrah', '7', '8.0']\n",
        "print(list4)\n",
        "print(type(list4))\n",
        "print(len(list4))"
      ],
      "metadata": {
        "colab": {
          "base_uri": "https://localhost:8080/"
        },
        "id": "SC6EBLR4D0ah",
        "outputId": "69ce9756-3fc3-4056-a65e-f8e04ccf5da2"
      },
      "execution_count": null,
      "outputs": [
        {
          "output_type": "stream",
          "name": "stdout",
          "text": [
            "[1, 3, 6, 7, 9]\n",
            "['Areeba', 'Mariam', 'Zahra']\n",
            "[4.7, 8.8, 7.0, 6.9, 8.2, 2.0]\n",
            "<class 'list'>\n",
            "<class 'list'>\n",
            "<class 'list'>\n",
            "5\n",
            "3\n",
            "6\n",
            "['Samrah', '7', '8.0']\n",
            "<class 'list'>\n",
            "3\n"
          ]
        }
      ]
    },
    {
      "cell_type": "markdown",
      "source": [
        "#Acessing Element in a List\n",
        "\n",
        "* Elements in a List can be assesed through indexing. Python uses zero-based indexing which means the first element will be at 0.\n",
        "\n",
        "* Elements can also be assesed by negative indexing in which the last element in the List will be -1.\n",
        "\n",
        "\n",
        "Syntax: fruits = ['apple', 'orange', 'mango]\n",
        "\n",
        "print(fruits[2]) *#indexing(positive)*\n",
        "\n",
        "print(fruits[-2]) *#indexing(negtive)*\n",
        "\n",
        "Output:  mango (The elements will be same)\n",
        "\n",
        "\n",
        "\n",
        "\n",
        "\n",
        "\n",
        "\n",
        "\n",
        "\n",
        "\n",
        "\n",
        "\n"
      ],
      "metadata": {
        "id": "qsZDmxbSf0Zg"
      }
    },
    {
      "cell_type": "code",
      "source": [
        "Marks = [2.9, 8.0, 7.9, 8.7]\n",
        "print(Marks[1])\n",
        "print(Marks[-3])"
      ],
      "metadata": {
        "id": "rDjGFgSlHBnE",
        "colab": {
          "base_uri": "https://localhost:8080/"
        },
        "outputId": "e9c41444-8dff-4455-b64e-21b87993320a"
      },
      "execution_count": null,
      "outputs": [
        {
          "output_type": "stream",
          "name": "stdout",
          "text": [
            "8.0\n",
            "8.0\n"
          ]
        }
      ]
    },
    {
      "cell_type": "markdown",
      "source": [
        "# Dictionary\n",
        "\n",
        "Dictionaries are very helpful in storing a well organized data against key values in { } brackets. It is more organised than list because the keys are useful for demostrating values more nicely.\n",
        "\n",
        "Syntax: fruits = {'citrus' : 'orange',\n",
        "'sweet' : mango}\n",
        "\n",
        "if we want to store multiple data against one key, then we use list in dictionary.\n",
        "\n",
        "Syntax: fruits = {'citrus' :['orange',\n",
        "'lime'], 'sweet' : ['mango', Watermelon,\n",
        "'melon']}\n",
        "\n",
        "We can also acess elements in a dictionary.\n",
        "\n",
        "print(fruits['citrus'][0])\n",
        "\n",
        "\n",
        "\n",
        "\n",
        "\n",
        "\n",
        "\n",
        "\n"
      ],
      "metadata": {
        "id": "TjYYhO9urrOj"
      }
    },
    {
      "cell_type": "code",
      "source": [
        "school = {'students':['Hira', 'Zunairah'], 'Marks' : [8,7.1]}\n",
        "print(school)\n",
        "print(school['students'][0])\n",
        "print(school['Marks'][0])#output: Hira,8. it means Hira has got 8 marks.\n",
        "\n"
      ],
      "metadata": {
        "colab": {
          "base_uri": "https://localhost:8080/"
        },
        "id": "s5EYYERFrppG",
        "outputId": "2568e9be-c819-45c1-c946-a9aab0abadc8"
      },
      "execution_count": null,
      "outputs": [
        {
          "output_type": "stream",
          "name": "stdout",
          "text": [
            "{'students': ['Hira', 'Zunairah'], 'Marks': [8, 7.1]}\n",
            "Hira\n",
            "8\n"
          ]
        }
      ]
    },
    {
      "cell_type": "markdown",
      "source": [
        "#For Loop\n",
        "\n",
        "* It is a versatile and useful constructs for iteratation. It is most frequently used to generate tables by for loop.\n",
        "The range function helps to define range to the compiler\n",
        "\n",
        "Syntax :\n",
        "\n",
        "for i in range(4):\n",
        "\n",
        "print(i)\n",
        "\n",
        "E.g: A pendrom --> variable(for loop) --> performs iteration --> in iterable things\n",
        "\n",
        "A --> B\n",
        "\n",
        "A <-- B\n",
        "\n",
        "\n",
        "\n",
        "\n",
        "\n",
        "\n",
        "\n"
      ],
      "metadata": {
        "id": "d9LX-VPZ0FoI"
      }
    },
    {
      "cell_type": "code",
      "source": [
        "for i in range(1,6):\n",
        "    print(i)"
      ],
      "metadata": {
        "colab": {
          "base_uri": "https://localhost:8080/"
        },
        "id": "xf2Dx7w1zJLC",
        "outputId": "147f1a14-00e9-4b57-d142-47e90541e3e8"
      },
      "execution_count": null,
      "outputs": [
        {
          "output_type": "stream",
          "name": "stdout",
          "text": [
            "1\n",
            "2\n",
            "3\n",
            "4\n",
            "5\n"
          ]
        }
      ]
    },
    {
      "cell_type": "code",
      "source": [
        "Name = 'Areeba'\n",
        "for i in (Name):\n",
        "  print(i)"
      ],
      "metadata": {
        "colab": {
          "base_uri": "https://localhost:8080/"
        },
        "id": "dJ4n00k33Xk4",
        "outputId": "41287817-cd01-471f-9369-a9ba35f2898a"
      },
      "execution_count": null,
      "outputs": [
        {
          "output_type": "stream",
          "name": "stdout",
          "text": [
            "A\n",
            "r\n",
            "e\n",
            "e\n",
            "b\n",
            "a\n"
          ]
        }
      ]
    },
    {
      "cell_type": "code",
      "source": [
        "#nested for loops\n",
        "for x in range(1, 11):\n",
        "    for y in range(6):\n",
        "        print(x, 'x', y, '=', x*y)\n"
      ],
      "metadata": {
        "colab": {
          "base_uri": "https://localhost:8080/"
        },
        "id": "sI3Qp0RX2vZe",
        "outputId": "7623eb0a-2c75-4adc-885f-0aeb5ca807fc"
      },
      "execution_count": null,
      "outputs": [
        {
          "output_type": "stream",
          "name": "stdout",
          "text": [
            "1 x 0 = 0\n",
            "1 x 1 = 1\n",
            "1 x 2 = 2\n",
            "1 x 3 = 3\n",
            "1 x 4 = 4\n",
            "1 x 5 = 5\n",
            "2 x 0 = 0\n",
            "2 x 1 = 2\n",
            "2 x 2 = 4\n",
            "2 x 3 = 6\n",
            "2 x 4 = 8\n",
            "2 x 5 = 10\n",
            "3 x 0 = 0\n",
            "3 x 1 = 3\n",
            "3 x 2 = 6\n",
            "3 x 3 = 9\n",
            "3 x 4 = 12\n",
            "3 x 5 = 15\n",
            "4 x 0 = 0\n",
            "4 x 1 = 4\n",
            "4 x 2 = 8\n",
            "4 x 3 = 12\n",
            "4 x 4 = 16\n",
            "4 x 5 = 20\n",
            "5 x 0 = 0\n",
            "5 x 1 = 5\n",
            "5 x 2 = 10\n",
            "5 x 3 = 15\n",
            "5 x 4 = 20\n",
            "5 x 5 = 25\n",
            "6 x 0 = 0\n",
            "6 x 1 = 6\n",
            "6 x 2 = 12\n",
            "6 x 3 = 18\n",
            "6 x 4 = 24\n",
            "6 x 5 = 30\n",
            "7 x 0 = 0\n",
            "7 x 1 = 7\n",
            "7 x 2 = 14\n",
            "7 x 3 = 21\n",
            "7 x 4 = 28\n",
            "7 x 5 = 35\n",
            "8 x 0 = 0\n",
            "8 x 1 = 8\n",
            "8 x 2 = 16\n",
            "8 x 3 = 24\n",
            "8 x 4 = 32\n",
            "8 x 5 = 40\n",
            "9 x 0 = 0\n",
            "9 x 1 = 9\n",
            "9 x 2 = 18\n",
            "9 x 3 = 27\n",
            "9 x 4 = 36\n",
            "9 x 5 = 45\n",
            "10 x 0 = 0\n",
            "10 x 1 = 10\n",
            "10 x 2 = 20\n",
            "10 x 3 = 30\n",
            "10 x 4 = 40\n",
            "10 x 5 = 50\n"
          ]
        }
      ]
    },
    {
      "cell_type": "code",
      "source": [
        "#if we want to print tables of 3, 5, 9, 11 from 1 till 10:\n",
        "for i in [3, 5, 9, 11]:\n",
        "  for j in range(1, 11):\n",
        "    print(i, 'x', j, '=', i*j)"
      ],
      "metadata": {
        "colab": {
          "base_uri": "https://localhost:8080/"
        },
        "id": "zQXnsxfI3PPZ",
        "outputId": "40104b28-9fd9-43fa-d5a4-5f4ed505585a"
      },
      "execution_count": null,
      "outputs": [
        {
          "output_type": "stream",
          "name": "stdout",
          "text": [
            "3 x 1 = 3\n",
            "3 x 2 = 6\n",
            "3 x 3 = 9\n",
            "3 x 4 = 12\n",
            "3 x 5 = 15\n",
            "3 x 6 = 18\n",
            "3 x 7 = 21\n",
            "3 x 8 = 24\n",
            "3 x 9 = 27\n",
            "3 x 10 = 30\n",
            "5 x 1 = 5\n",
            "5 x 2 = 10\n",
            "5 x 3 = 15\n",
            "5 x 4 = 20\n",
            "5 x 5 = 25\n",
            "5 x 6 = 30\n",
            "5 x 7 = 35\n",
            "5 x 8 = 40\n",
            "5 x 9 = 45\n",
            "5 x 10 = 50\n",
            "9 x 1 = 9\n",
            "9 x 2 = 18\n",
            "9 x 3 = 27\n",
            "9 x 4 = 36\n",
            "9 x 5 = 45\n",
            "9 x 6 = 54\n",
            "9 x 7 = 63\n",
            "9 x 8 = 72\n",
            "9 x 9 = 81\n",
            "9 x 10 = 90\n",
            "11 x 1 = 11\n",
            "11 x 2 = 22\n",
            "11 x 3 = 33\n",
            "11 x 4 = 44\n",
            "11 x 5 = 55\n",
            "11 x 6 = 66\n",
            "11 x 7 = 77\n",
            "11 x 8 = 88\n",
            "11 x 9 = 99\n",
            "11 x 10 = 110\n"
          ]
        }
      ]
    },
    {
      "cell_type": "markdown",
      "source": [
        "# Conditions\n",
        "\n",
        "* if statements are used to give condition. When the condition is True than it prints the if statements.\n",
        "\n",
        "* elif statements are used to give condition when if conditional statements are false.\n",
        "\n",
        "* else statements are used to print those statements when if statements and else statements both are false.\n",
        "\n",
        "**operators**\n",
        "\n",
        "equality --> ==\n",
        "\n",
        "not equal to --> !=\n",
        "\n",
        "greater than or equals to --> =>\n",
        "\n",
        "lesser than or equals to --> =<\n",
        "\n",
        "greater than --> >\n",
        "\n",
        "lesser than --> <\n",
        "\n",
        "\n",
        "\n",
        "\n",
        "\n",
        "\n",
        "\n",
        "\n",
        "\n",
        "\n",
        "\n",
        "\n",
        "\n",
        "\n"
      ],
      "metadata": {
        "id": "JrkZBqVs_zpQ"
      }
    },
    {
      "cell_type": "code",
      "source": [
        "name = 'Areeba'\n",
        "if name == 'areeba':\n",
        "  print('True')\n",
        "\n",
        "elif name == 'Ariba':\n",
        "  print('False')\n",
        "\n",
        "else:\n",
        "  print('error occured!')\n",
        "\n"
      ],
      "metadata": {
        "id": "NTQ_QgqJ_s-G",
        "colab": {
          "base_uri": "https://localhost:8080/"
        },
        "outputId": "8e1313ce-5b52-4319-d29a-a7eb42d48156"
      },
      "execution_count": null,
      "outputs": [
        {
          "output_type": "stream",
          "name": "stdout",
          "text": [
            "error occured!\n"
          ]
        }
      ]
    },
    {
      "cell_type": "markdown",
      "source": [
        "# Comprehensive list\n",
        "\n"
      ],
      "metadata": {
        "id": "RdXtv38gIPvb"
      }
    },
    {
      "cell_type": "code",
      "source": [
        "list5 = [i for i in range(1, 21)]\n",
        "print(list5)"
      ],
      "metadata": {
        "id": "Evi_m5NfIAk8",
        "colab": {
          "base_uri": "https://localhost:8080/"
        },
        "outputId": "3a84624b-28d4-4c3f-e550-c10232d2ce47"
      },
      "execution_count": null,
      "outputs": [
        {
          "output_type": "stream",
          "name": "stdout",
          "text": [
            "[1, 2, 3, 4, 5, 6, 7, 8, 9, 10, 11, 12, 13, 14, 15, 16, 17, 18, 19, 20]\n"
          ]
        }
      ]
    },
    {
      "cell_type": "code",
      "source": [
        "#square root, using round function to round of\n",
        "list6 = [round(i**(1/2)) for i in [4,9,16,25,36,49,64,81,100]]\n",
        "print(list6)"
      ],
      "metadata": {
        "colab": {
          "base_uri": "https://localhost:8080/"
        },
        "id": "5oRO4jGWKHys",
        "outputId": "fa3b9ad6-00e2-483d-cca3-6cfeba3871ae"
      },
      "execution_count": null,
      "outputs": [
        {
          "output_type": "stream",
          "name": "stdout",
          "text": [
            "[2, 3, 4, 5, 6, 7, 8, 9, 10]\n"
          ]
        }
      ]
    },
    {
      "cell_type": "code",
      "source": [
        "list7 = [round(i**(1/2)) for i in [8,27,64,215,216,343,512,729,1000]]\n",
        "print(list7)#cube root\n",
        "print(type(list7))\n",
        "print(len(list7))\n",
        "\n",
        "\n",
        "\n",
        "\n"
      ],
      "metadata": {
        "colab": {
          "base_uri": "https://localhost:8080/"
        },
        "id": "5xIkxUUcLgkI",
        "outputId": "dea3b1c6-3192-4d86-b9ee-89e0c8e2a0f6"
      },
      "execution_count": null,
      "outputs": [
        {
          "output_type": "stream",
          "name": "stdout",
          "text": [
            "[3, 5, 8, 15, 15, 19, 23, 27, 32]\n",
            "<class 'list'>\n",
            "9\n"
          ]
        }
      ]
    },
    {
      "cell_type": "code",
      "source": [
        "#y=mx+c, m = 3, c = 9\n",
        "list8 = [(3)*x+9 for x in range(1,9)]\n",
        "print(list8)\n",
        "#output: the value of y\n",
        "\n",
        "\n"
      ],
      "metadata": {
        "colab": {
          "base_uri": "https://localhost:8080/"
        },
        "id": "IHbSfjjwMHgH",
        "outputId": "37b358b1-fa4e-4baf-ad7c-874a68f11f70"
      },
      "execution_count": null,
      "outputs": [
        {
          "output_type": "stream",
          "name": "stdout",
          "text": [
            "[12, 15, 18, 21, 24, 27, 30, 33]\n"
          ]
        }
      ]
    },
    {
      "cell_type": "markdown",
      "source": [
        "# Define your own function\n",
        "\n",
        "There are two types of functions in python,\n",
        "Custom functions and build-in functions\n",
        "\n",
        "* Custom functions : define by the user by the word *def*.\n",
        "\n",
        "* Build-in functions : already define such as print()\n",
        "\n",
        "\n"
      ],
      "metadata": {
        "id": "KZUIKUe4YQ3J"
      }
    },
    {
      "cell_type": "code",
      "source": [
        "#define a function\n",
        "def even_odd(x1):\n",
        "  if x1 % 2 == 0:\n",
        "    print('your value is even')\n",
        "  else:\n",
        "    print('your value is odd')\n",
        "\n",
        "#calling a function\n",
        "print(even_odd(2))\n",
        "even_odd(7)\n"
      ],
      "metadata": {
        "id": "Sr2UJfdAYObj",
        "colab": {
          "base_uri": "https://localhost:8080/"
        },
        "outputId": "ee27347a-99ba-461d-9ec8-5217ee84703c"
      },
      "execution_count": 33,
      "outputs": [
        {
          "output_type": "stream",
          "name": "stdout",
          "text": [
            "your value is even\n",
            "None\n",
            "your value is odd\n"
          ]
        }
      ]
    },
    {
      "cell_type": "code",
      "source": [
        "#import package as alias\n",
        "import numpy as np"
      ],
      "metadata": {
        "id": "yFtvMRGrh6Cq"
      },
      "execution_count": 4,
      "outputs": []
    },
    {
      "cell_type": "code",
      "source": [
        "arr1 = np.array([1,2,3,4,5,6,7,8,9])\n",
        "print(arr1)\n",
        "print(type(arr1))"
      ],
      "metadata": {
        "colab": {
          "base_uri": "https://localhost:8080/"
        },
        "id": "SkE3887VkXRP",
        "outputId": "0d708fec-df3b-4a40-e1af-b905bf23e242"
      },
      "execution_count": 36,
      "outputs": [
        {
          "output_type": "stream",
          "name": "stdout",
          "text": [
            "[1 2 3 4 5 6 7 8 9]\n",
            "<class 'numpy.ndarray'>\n"
          ]
        }
      ]
    },
    {
      "cell_type": "code",
      "source": [
        "#list of list\n",
        "l1 = [[1,2,3], [4,5,6], [7,8,9]]\n",
        "print(l1)\n",
        "print(type(l1))\n",
        "print(len(l1))\n",
        "#acessing elements\n",
        "print(l1[0])\n",
        "print(l1[1])\n",
        "print(l1[2])"
      ],
      "metadata": {
        "colab": {
          "base_uri": "https://localhost:8080/"
        },
        "id": "VwU_JCKkCNd8",
        "outputId": "4e563eb3-6fb0-4e8f-fe3b-2c3d9ad704f5"
      },
      "execution_count": 2,
      "outputs": [
        {
          "output_type": "stream",
          "name": "stdout",
          "text": [
            "[[1, 2, 3], [4, 5, 6], [7, 8, 9]]\n",
            "<class 'list'>\n",
            "3\n",
            "[1, 2, 3]\n",
            "[4, 5, 6]\n",
            "[7, 8, 9]\n"
          ]
        }
      ]
    },
    {
      "cell_type": "code",
      "source": [
        "arr2 = np.array([[1,2,3], [4,5,6], [7,8,9]])\n",
        "print(arr2)#the same way printed more easily than acessing list."
      ],
      "metadata": {
        "colab": {
          "base_uri": "https://localhost:8080/"
        },
        "id": "1ecIWfRUEprf",
        "outputId": "eb2bb767-bd93-4da9-82d3-2921d654c8ad"
      },
      "execution_count": 5,
      "outputs": [
        {
          "output_type": "stream",
          "name": "stdout",
          "text": [
            "[[1 2 3]\n",
            " [4 5 6]\n",
            " [7 8 9]]\n"
          ]
        }
      ]
    }
  ]
}